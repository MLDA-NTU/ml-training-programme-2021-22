{
  "nbformat": 4,
  "nbformat_minor": 0,
  "metadata": {
    "colab": {
      "name": "NLP_with_Deep_Learning.ipynb",
      "provenance": [],
      "collapsed_sections": []
    },
    "kernelspec": {
      "name": "python3",
      "display_name": "Python 3"
    },
    "language_info": {
      "name": "python"
    },
    "accelerator": "GPU"
  },
  "cells": [
    {
      "cell_type": "markdown",
      "source": [
        "## Text classification with pre-trained word embeddings"
      ],
      "metadata": {
        "id": "wNE_5UGLP3cO"
      }
    },
    {
      "cell_type": "code",
      "source": [
        "import gensim.downloader\n",
        "glove_vectors = gensim.downloader.load('glove-twitter-200')     # GLoVE vectors trained on Twitter with dimension 200"
      ],
      "metadata": {
        "colab": {
          "base_uri": "https://localhost:8080/"
        },
        "id": "hDtnMqI9Zmok",
        "outputId": "e55c0194-e49a-43b5-977b-a43d632c5bc1"
      },
      "execution_count": 3,
      "outputs": [
        {
          "output_type": "stream",
          "name": "stdout",
          "text": [
            "[==================================================] 100.0% 758.5/758.5MB downloaded\n"
          ]
        }
      ]
    },
    {
      "cell_type": "code",
      "source": [
        "# underlying data / weights\n",
        "glove_vectors.vectors.shape         # (num_of_words / vocab_size, embedding_dim)"
      ],
      "metadata": {
        "colab": {
          "base_uri": "https://localhost:8080/"
        },
        "id": "hgKklYwcN9cu",
        "outputId": "c6c54f44-154c-414a-8e6b-cdba86000178"
      },
      "execution_count": 4,
      "outputs": [
        {
          "output_type": "execute_result",
          "data": {
            "text/plain": [
              "(1193514, 200)"
            ]
          },
          "metadata": {},
          "execution_count": 4
        }
      ]
    },
    {
      "cell_type": "code",
      "source": [
        "vocab = list(glove_vectors.vocab.keys())\n",
        "vocab[:10]"
      ],
      "metadata": {
        "colab": {
          "base_uri": "https://localhost:8080/"
        },
        "id": "eOEQGbbMO8O8",
        "outputId": "15e4540a-5932-4c05-dd40-21dc5bce37c2"
      },
      "execution_count": 5,
      "outputs": [
        {
          "output_type": "execute_result",
          "data": {
            "text/plain": [
              "['<user>',\n",
              " '.',\n",
              " ':',\n",
              " 'rt',\n",
              " ',',\n",
              " '<repeat>',\n",
              " '<hashtag>',\n",
              " '<number>',\n",
              " '<url>',\n",
              " '!']"
            ]
          },
          "metadata": {},
          "execution_count": 5
        }
      ]
    },
    {
      "cell_type": "code",
      "source": [
        "np.all(glove_vectors.word_vec('<user>') == glove_vectors.vectors[0])"
      ],
      "metadata": {
        "colab": {
          "base_uri": "https://localhost:8080/"
        },
        "id": "v4J2X-WTe78Y",
        "outputId": "5604511b-18ec-4aaf-fc67-159552c53da5"
      },
      "execution_count": 6,
      "outputs": [
        {
          "output_type": "execute_result",
          "data": {
            "text/plain": [
              "True"
            ]
          },
          "metadata": {},
          "execution_count": 6
        }
      ]
    },
    {
      "cell_type": "code",
      "source": [
        "glove_vectors['hello'].shape"
      ],
      "metadata": {
        "colab": {
          "base_uri": "https://localhost:8080/"
        },
        "id": "vVx9xAKEaYjH",
        "outputId": "6a6fc659-63e2-497d-d0d4-d3af6604c1e8"
      },
      "execution_count": 7,
      "outputs": [
        {
          "output_type": "execute_result",
          "data": {
            "text/plain": [
              "(200,)"
            ]
          },
          "metadata": {},
          "execution_count": 7
        }
      ]
    },
    {
      "cell_type": "markdown",
      "source": [
        "Download IMDB Movies reviews dataset. \n",
        "\n",
        "- Total: 50,000 samples\n",
        "- Train set: 25,000 samples, with 12,500 positive samples and 12,500 negative samples\n",
        "- Test set: same as train set"
      ],
      "metadata": {
        "id": "MdYMJSSXQZCk"
      }
    },
    {
      "cell_type": "code",
      "source": [
        "!wget https://ai.stanford.edu/~amaas/data/sentiment/aclImdb_v1.tar.gz   # download\n",
        "!tar -xf aclImdb_v1.tar.gz                                              # unzip / untar"
      ],
      "metadata": {
        "colab": {
          "base_uri": "https://localhost:8080/"
        },
        "id": "uXFbiAsHfn5U",
        "outputId": "0767ee79-466d-40ae-9b4d-64b3c0da2f1b"
      },
      "execution_count": 8,
      "outputs": [
        {
          "output_type": "stream",
          "name": "stdout",
          "text": [
            "--2022-02-10 06:33:38--  https://ai.stanford.edu/~amaas/data/sentiment/aclImdb_v1.tar.gz\n",
            "Resolving ai.stanford.edu (ai.stanford.edu)... 171.64.68.10\n",
            "Connecting to ai.stanford.edu (ai.stanford.edu)|171.64.68.10|:443... connected.\n",
            "HTTP request sent, awaiting response... 200 OK\n",
            "Length: 84125825 (80M) [application/x-gzip]\n",
            "Saving to: ‘aclImdb_v1.tar.gz’\n",
            "\n",
            "aclImdb_v1.tar.gz   100%[===================>]  80.23M  33.4MB/s    in 2.4s    \n",
            "\n",
            "2022-02-10 06:33:41 (33.4 MB/s) - ‘aclImdb_v1.tar.gz’ saved [84125825/84125825]\n",
            "\n"
          ]
        }
      ]
    },
    {
      "cell_type": "markdown",
      "source": [
        "Load the data into a DataFrame. You don't need to worry too much about this"
      ],
      "metadata": {
        "id": "HOHbPdBMRxrR"
      }
    },
    {
      "cell_type": "code",
      "source": [
        "import os\n",
        "\n",
        "def load_samples(dir):\n",
        "    files = os.listdir(dir)\n",
        "    samples = []\n",
        "    for file in files:\n",
        "        with open(os.path.join(dir, file)) as f:\n",
        "            sample = ''.join(f.readlines())\n",
        "            samples.append(sample)\n",
        "    return samples\n",
        "\n",
        "train_pos_samples = load_samples('aclImdb/train/pos')\n",
        "train_neg_samples = load_samples('aclImdb/train/neg')\n",
        "val_pos_samples = load_samples('aclImdb/test/pos')\n",
        "val_neg_samples = load_samples('aclImdb/test/neg')\n",
        "\n",
        "train_samples = [(x, 1) for x in train_pos_samples] + [(x, 0) for x in train_neg_samples]\n",
        "val_samples = [(x, 1) for x in val_pos_samples] + [(x, 0) for x in val_neg_samples]\n",
        "\n",
        "print(\"train size:\", len(train_samples))\n",
        "print('val size:', len(val_samples))"
      ],
      "metadata": {
        "colab": {
          "base_uri": "https://localhost:8080/"
        },
        "id": "tDEVYl-zd5jF",
        "outputId": "0dac381e-377c-443a-8a55-7686422e9387"
      },
      "execution_count": 9,
      "outputs": [
        {
          "output_type": "stream",
          "name": "stdout",
          "text": [
            "train size: 25000\n",
            "val size: 25000\n"
          ]
        }
      ]
    },
    {
      "cell_type": "code",
      "source": [
        "import pandas as pd\n",
        "\n",
        "df_train = pd.DataFrame(train_samples, columns=['text', 'label'])\n",
        "df_val = pd.DataFrame(val_samples, columns=['text', 'label'])\n",
        "\n",
        "df_train"
      ],
      "metadata": {
        "colab": {
          "base_uri": "https://localhost:8080/",
          "height": 424
        },
        "id": "afwhM-eVk3UT",
        "outputId": "4a2845bd-9337-49d0-f45a-0352d3f3fc69"
      },
      "execution_count": 10,
      "outputs": [
        {
          "output_type": "execute_result",
          "data": {
            "text/html": [
              "\n",
              "  <div id=\"df-6a185d2c-ec26-4e98-88e0-44272ad02b1a\">\n",
              "    <div class=\"colab-df-container\">\n",
              "      <div>\n",
              "<style scoped>\n",
              "    .dataframe tbody tr th:only-of-type {\n",
              "        vertical-align: middle;\n",
              "    }\n",
              "\n",
              "    .dataframe tbody tr th {\n",
              "        vertical-align: top;\n",
              "    }\n",
              "\n",
              "    .dataframe thead th {\n",
              "        text-align: right;\n",
              "    }\n",
              "</style>\n",
              "<table border=\"1\" class=\"dataframe\">\n",
              "  <thead>\n",
              "    <tr style=\"text-align: right;\">\n",
              "      <th></th>\n",
              "      <th>text</th>\n",
              "      <th>label</th>\n",
              "    </tr>\n",
              "  </thead>\n",
              "  <tbody>\n",
              "    <tr>\n",
              "      <th>0</th>\n",
              "      <td>I picked this one up on a whim from the librar...</td>\n",
              "      <td>1</td>\n",
              "    </tr>\n",
              "    <tr>\n",
              "      <th>1</th>\n",
              "      <td>A year after losing gorgeous Jane Parker (Maur...</td>\n",
              "      <td>1</td>\n",
              "    </tr>\n",
              "    <tr>\n",
              "      <th>2</th>\n",
              "      <td>Thre isn't a single Scorsese movie I'd place o...</td>\n",
              "      <td>1</td>\n",
              "    </tr>\n",
              "    <tr>\n",
              "      <th>3</th>\n",
              "      <td>Before watching this film I had heard a lot ab...</td>\n",
              "      <td>1</td>\n",
              "    </tr>\n",
              "    <tr>\n",
              "      <th>4</th>\n",
              "      <td>i'm not even sure what to say about this film....</td>\n",
              "      <td>1</td>\n",
              "    </tr>\n",
              "    <tr>\n",
              "      <th>...</th>\n",
              "      <td>...</td>\n",
              "      <td>...</td>\n",
              "    </tr>\n",
              "    <tr>\n",
              "      <th>24995</th>\n",
              "      <td>We had to go to an appointment, so we turned o...</td>\n",
              "      <td>0</td>\n",
              "    </tr>\n",
              "    <tr>\n",
              "      <th>24996</th>\n",
              "      <td>Ever heard of a taiwanese horror movie? Or any...</td>\n",
              "      <td>0</td>\n",
              "    </tr>\n",
              "    <tr>\n",
              "      <th>24997</th>\n",
              "      <td>So what's the big fuss out of making an INDIAN...</td>\n",
              "      <td>0</td>\n",
              "    </tr>\n",
              "    <tr>\n",
              "      <th>24998</th>\n",
              "      <td>hello boys and girls... this isn't your regula...</td>\n",
              "      <td>0</td>\n",
              "    </tr>\n",
              "    <tr>\n",
              "      <th>24999</th>\n",
              "      <td>This movie is not as good as all the movies of...</td>\n",
              "      <td>0</td>\n",
              "    </tr>\n",
              "  </tbody>\n",
              "</table>\n",
              "<p>25000 rows × 2 columns</p>\n",
              "</div>\n",
              "      <button class=\"colab-df-convert\" onclick=\"convertToInteractive('df-6a185d2c-ec26-4e98-88e0-44272ad02b1a')\"\n",
              "              title=\"Convert this dataframe to an interactive table.\"\n",
              "              style=\"display:none;\">\n",
              "        \n",
              "  <svg xmlns=\"http://www.w3.org/2000/svg\" height=\"24px\"viewBox=\"0 0 24 24\"\n",
              "       width=\"24px\">\n",
              "    <path d=\"M0 0h24v24H0V0z\" fill=\"none\"/>\n",
              "    <path d=\"M18.56 5.44l.94 2.06.94-2.06 2.06-.94-2.06-.94-.94-2.06-.94 2.06-2.06.94zm-11 1L8.5 8.5l.94-2.06 2.06-.94-2.06-.94L8.5 2.5l-.94 2.06-2.06.94zm10 10l.94 2.06.94-2.06 2.06-.94-2.06-.94-.94-2.06-.94 2.06-2.06.94z\"/><path d=\"M17.41 7.96l-1.37-1.37c-.4-.4-.92-.59-1.43-.59-.52 0-1.04.2-1.43.59L10.3 9.45l-7.72 7.72c-.78.78-.78 2.05 0 2.83L4 21.41c.39.39.9.59 1.41.59.51 0 1.02-.2 1.41-.59l7.78-7.78 2.81-2.81c.8-.78.8-2.07 0-2.86zM5.41 20L4 18.59l7.72-7.72 1.47 1.35L5.41 20z\"/>\n",
              "  </svg>\n",
              "      </button>\n",
              "      \n",
              "  <style>\n",
              "    .colab-df-container {\n",
              "      display:flex;\n",
              "      flex-wrap:wrap;\n",
              "      gap: 12px;\n",
              "    }\n",
              "\n",
              "    .colab-df-convert {\n",
              "      background-color: #E8F0FE;\n",
              "      border: none;\n",
              "      border-radius: 50%;\n",
              "      cursor: pointer;\n",
              "      display: none;\n",
              "      fill: #1967D2;\n",
              "      height: 32px;\n",
              "      padding: 0 0 0 0;\n",
              "      width: 32px;\n",
              "    }\n",
              "\n",
              "    .colab-df-convert:hover {\n",
              "      background-color: #E2EBFA;\n",
              "      box-shadow: 0px 1px 2px rgba(60, 64, 67, 0.3), 0px 1px 3px 1px rgba(60, 64, 67, 0.15);\n",
              "      fill: #174EA6;\n",
              "    }\n",
              "\n",
              "    [theme=dark] .colab-df-convert {\n",
              "      background-color: #3B4455;\n",
              "      fill: #D2E3FC;\n",
              "    }\n",
              "\n",
              "    [theme=dark] .colab-df-convert:hover {\n",
              "      background-color: #434B5C;\n",
              "      box-shadow: 0px 1px 3px 1px rgba(0, 0, 0, 0.15);\n",
              "      filter: drop-shadow(0px 1px 2px rgba(0, 0, 0, 0.3));\n",
              "      fill: #FFFFFF;\n",
              "    }\n",
              "  </style>\n",
              "\n",
              "      <script>\n",
              "        const buttonEl =\n",
              "          document.querySelector('#df-6a185d2c-ec26-4e98-88e0-44272ad02b1a button.colab-df-convert');\n",
              "        buttonEl.style.display =\n",
              "          google.colab.kernel.accessAllowed ? 'block' : 'none';\n",
              "\n",
              "        async function convertToInteractive(key) {\n",
              "          const element = document.querySelector('#df-6a185d2c-ec26-4e98-88e0-44272ad02b1a');\n",
              "          const dataTable =\n",
              "            await google.colab.kernel.invokeFunction('convertToInteractive',\n",
              "                                                     [key], {});\n",
              "          if (!dataTable) return;\n",
              "\n",
              "          const docLinkHtml = 'Like what you see? Visit the ' +\n",
              "            '<a target=\"_blank\" href=https://colab.research.google.com/notebooks/data_table.ipynb>data table notebook</a>'\n",
              "            + ' to learn more about interactive tables.';\n",
              "          element.innerHTML = '';\n",
              "          dataTable['output_type'] = 'display_data';\n",
              "          await google.colab.output.renderOutput(dataTable, element);\n",
              "          const docLink = document.createElement('div');\n",
              "          docLink.innerHTML = docLinkHtml;\n",
              "          element.appendChild(docLink);\n",
              "        }\n",
              "      </script>\n",
              "    </div>\n",
              "  </div>\n",
              "  "
            ],
            "text/plain": [
              "                                                    text  label\n",
              "0      I picked this one up on a whim from the librar...      1\n",
              "1      A year after losing gorgeous Jane Parker (Maur...      1\n",
              "2      Thre isn't a single Scorsese movie I'd place o...      1\n",
              "3      Before watching this film I had heard a lot ab...      1\n",
              "4      i'm not even sure what to say about this film....      1\n",
              "...                                                  ...    ...\n",
              "24995  We had to go to an appointment, so we turned o...      0\n",
              "24996  Ever heard of a taiwanese horror movie? Or any...      0\n",
              "24997  So what's the big fuss out of making an INDIAN...      0\n",
              "24998  hello boys and girls... this isn't your regula...      0\n",
              "24999  This movie is not as good as all the movies of...      0\n",
              "\n",
              "[25000 rows x 2 columns]"
            ]
          },
          "metadata": {},
          "execution_count": 10
        }
      ]
    },
    {
      "cell_type": "code",
      "source": [
        "from IPython.display import HTML, display\n",
        "\n",
        "def set_css():\n",
        "  display(HTML('<style>pre {white-space: pre-wrap;}</style>'))\n",
        "get_ipython().events.register('pre_run_cell', set_css)              # wrap text in Google Colab"
      ],
      "metadata": {
        "id": "xUgH-QwXjRnY"
      },
      "execution_count": 11,
      "outputs": []
    },
    {
      "cell_type": "code",
      "source": [
        "df_train.sample(10)"
      ],
      "metadata": {
        "colab": {
          "base_uri": "https://localhost:8080/",
          "height": 363
        },
        "id": "HU_9lR0wgQSe",
        "outputId": "b112a2b3-f04f-4888-e39f-9ac148ccd926"
      },
      "execution_count": 12,
      "outputs": [
        {
          "output_type": "display_data",
          "data": {
            "text/html": [
              "<style>pre {white-space: pre-wrap;}</style>"
            ],
            "text/plain": [
              "<IPython.core.display.HTML object>"
            ]
          },
          "metadata": {}
        },
        {
          "output_type": "execute_result",
          "data": {
            "text/html": [
              "\n",
              "  <div id=\"df-942500f7-1bd9-4345-b407-e58737c6ff1b\">\n",
              "    <div class=\"colab-df-container\">\n",
              "      <div>\n",
              "<style scoped>\n",
              "    .dataframe tbody tr th:only-of-type {\n",
              "        vertical-align: middle;\n",
              "    }\n",
              "\n",
              "    .dataframe tbody tr th {\n",
              "        vertical-align: top;\n",
              "    }\n",
              "\n",
              "    .dataframe thead th {\n",
              "        text-align: right;\n",
              "    }\n",
              "</style>\n",
              "<table border=\"1\" class=\"dataframe\">\n",
              "  <thead>\n",
              "    <tr style=\"text-align: right;\">\n",
              "      <th></th>\n",
              "      <th>text</th>\n",
              "      <th>label</th>\n",
              "    </tr>\n",
              "  </thead>\n",
              "  <tbody>\n",
              "    <tr>\n",
              "      <th>7061</th>\n",
              "      <td>A brilliant movie about family, guilt, sacrifi...</td>\n",
              "      <td>1</td>\n",
              "    </tr>\n",
              "    <tr>\n",
              "      <th>20374</th>\n",
              "      <td>I opted to see the film at the recent Dubai Fi...</td>\n",
              "      <td>0</td>\n",
              "    </tr>\n",
              "    <tr>\n",
              "      <th>8950</th>\n",
              "      <td>I had no idea what this movie was until I read...</td>\n",
              "      <td>1</td>\n",
              "    </tr>\n",
              "    <tr>\n",
              "      <th>4453</th>\n",
              "      <td>I was a fan of the book ever since third grade...</td>\n",
              "      <td>1</td>\n",
              "    </tr>\n",
              "    <tr>\n",
              "      <th>22153</th>\n",
              "      <td>There is absolutely nothing to redeem this mov...</td>\n",
              "      <td>0</td>\n",
              "    </tr>\n",
              "    <tr>\n",
              "      <th>1765</th>\n",
              "      <td>Gandhi, the Great :&lt;br /&gt;&lt;br /&gt;Greatness in th...</td>\n",
              "      <td>1</td>\n",
              "    </tr>\n",
              "    <tr>\n",
              "      <th>23961</th>\n",
              "      <td>Kareena Kapoor in a bikini hmmmmmmmm.&lt;br /&gt;&lt;br...</td>\n",
              "      <td>0</td>\n",
              "    </tr>\n",
              "    <tr>\n",
              "      <th>4068</th>\n",
              "      <td>I only know of one other movie that could poss...</td>\n",
              "      <td>1</td>\n",
              "    </tr>\n",
              "    <tr>\n",
              "      <th>8810</th>\n",
              "      <td>Simon's best comedy is superbly crafted by dir...</td>\n",
              "      <td>1</td>\n",
              "    </tr>\n",
              "    <tr>\n",
              "      <th>18722</th>\n",
              "      <td>Was this the greatest movie that I have ever s...</td>\n",
              "      <td>0</td>\n",
              "    </tr>\n",
              "  </tbody>\n",
              "</table>\n",
              "</div>\n",
              "      <button class=\"colab-df-convert\" onclick=\"convertToInteractive('df-942500f7-1bd9-4345-b407-e58737c6ff1b')\"\n",
              "              title=\"Convert this dataframe to an interactive table.\"\n",
              "              style=\"display:none;\">\n",
              "        \n",
              "  <svg xmlns=\"http://www.w3.org/2000/svg\" height=\"24px\"viewBox=\"0 0 24 24\"\n",
              "       width=\"24px\">\n",
              "    <path d=\"M0 0h24v24H0V0z\" fill=\"none\"/>\n",
              "    <path d=\"M18.56 5.44l.94 2.06.94-2.06 2.06-.94-2.06-.94-.94-2.06-.94 2.06-2.06.94zm-11 1L8.5 8.5l.94-2.06 2.06-.94-2.06-.94L8.5 2.5l-.94 2.06-2.06.94zm10 10l.94 2.06.94-2.06 2.06-.94-2.06-.94-.94-2.06-.94 2.06-2.06.94z\"/><path d=\"M17.41 7.96l-1.37-1.37c-.4-.4-.92-.59-1.43-.59-.52 0-1.04.2-1.43.59L10.3 9.45l-7.72 7.72c-.78.78-.78 2.05 0 2.83L4 21.41c.39.39.9.59 1.41.59.51 0 1.02-.2 1.41-.59l7.78-7.78 2.81-2.81c.8-.78.8-2.07 0-2.86zM5.41 20L4 18.59l7.72-7.72 1.47 1.35L5.41 20z\"/>\n",
              "  </svg>\n",
              "      </button>\n",
              "      \n",
              "  <style>\n",
              "    .colab-df-container {\n",
              "      display:flex;\n",
              "      flex-wrap:wrap;\n",
              "      gap: 12px;\n",
              "    }\n",
              "\n",
              "    .colab-df-convert {\n",
              "      background-color: #E8F0FE;\n",
              "      border: none;\n",
              "      border-radius: 50%;\n",
              "      cursor: pointer;\n",
              "      display: none;\n",
              "      fill: #1967D2;\n",
              "      height: 32px;\n",
              "      padding: 0 0 0 0;\n",
              "      width: 32px;\n",
              "    }\n",
              "\n",
              "    .colab-df-convert:hover {\n",
              "      background-color: #E2EBFA;\n",
              "      box-shadow: 0px 1px 2px rgba(60, 64, 67, 0.3), 0px 1px 3px 1px rgba(60, 64, 67, 0.15);\n",
              "      fill: #174EA6;\n",
              "    }\n",
              "\n",
              "    [theme=dark] .colab-df-convert {\n",
              "      background-color: #3B4455;\n",
              "      fill: #D2E3FC;\n",
              "    }\n",
              "\n",
              "    [theme=dark] .colab-df-convert:hover {\n",
              "      background-color: #434B5C;\n",
              "      box-shadow: 0px 1px 3px 1px rgba(0, 0, 0, 0.15);\n",
              "      filter: drop-shadow(0px 1px 2px rgba(0, 0, 0, 0.3));\n",
              "      fill: #FFFFFF;\n",
              "    }\n",
              "  </style>\n",
              "\n",
              "      <script>\n",
              "        const buttonEl =\n",
              "          document.querySelector('#df-942500f7-1bd9-4345-b407-e58737c6ff1b button.colab-df-convert');\n",
              "        buttonEl.style.display =\n",
              "          google.colab.kernel.accessAllowed ? 'block' : 'none';\n",
              "\n",
              "        async function convertToInteractive(key) {\n",
              "          const element = document.querySelector('#df-942500f7-1bd9-4345-b407-e58737c6ff1b');\n",
              "          const dataTable =\n",
              "            await google.colab.kernel.invokeFunction('convertToInteractive',\n",
              "                                                     [key], {});\n",
              "          if (!dataTable) return;\n",
              "\n",
              "          const docLinkHtml = 'Like what you see? Visit the ' +\n",
              "            '<a target=\"_blank\" href=https://colab.research.google.com/notebooks/data_table.ipynb>data table notebook</a>'\n",
              "            + ' to learn more about interactive tables.';\n",
              "          element.innerHTML = '';\n",
              "          dataTable['output_type'] = 'display_data';\n",
              "          await google.colab.output.renderOutput(dataTable, element);\n",
              "          const docLink = document.createElement('div');\n",
              "          docLink.innerHTML = docLinkHtml;\n",
              "          element.appendChild(docLink);\n",
              "        }\n",
              "      </script>\n",
              "    </div>\n",
              "  </div>\n",
              "  "
            ],
            "text/plain": [
              "                                                    text  label\n",
              "7061   A brilliant movie about family, guilt, sacrifi...      1\n",
              "20374  I opted to see the film at the recent Dubai Fi...      0\n",
              "8950   I had no idea what this movie was until I read...      1\n",
              "4453   I was a fan of the book ever since third grade...      1\n",
              "22153  There is absolutely nothing to redeem this mov...      0\n",
              "1765   Gandhi, the Great :<br /><br />Greatness in th...      1\n",
              "23961  Kareena Kapoor in a bikini hmmmmmmmm.<br /><br...      0\n",
              "4068   I only know of one other movie that could poss...      1\n",
              "8810   Simon's best comedy is superbly crafted by dir...      1\n",
              "18722  Was this the greatest movie that I have ever s...      0"
            ]
          },
          "metadata": {},
          "execution_count": 12
        }
      ]
    },
    {
      "cell_type": "code",
      "source": [
        "sample = df_train.sample(1).iloc[0]     # pick the first row from a dataframe of 1 row\n",
        "print(sample[0])        # text\n",
        "print(sample[1])        # label"
      ],
      "metadata": {
        "colab": {
          "base_uri": "https://localhost:8080/",
          "height": 243
        },
        "id": "nErDqyxIi8ED",
        "outputId": "483c7cf4-8cc8-4e18-b1e2-1254a0a8caa1"
      },
      "execution_count": 13,
      "outputs": [
        {
          "output_type": "display_data",
          "data": {
            "text/html": [
              "<style>pre {white-space: pre-wrap;}</style>"
            ],
            "text/plain": [
              "<IPython.core.display.HTML object>"
            ]
          },
          "metadata": {}
        },
        {
          "output_type": "stream",
          "name": "stdout",
          "text": [
            "Acting was weak, but in a horror flick, I can live with that if the story is good. It wasn't. The initial event was an clumsy and obvious ploy to exploit most people's adoration of kids. OK, fine. Fast forward to the \"place in the country\" where they will recover emotionally. I like the revelation of the ghosts. OK, cool--this will be a supernatural kinda horror story, with rotting things partly in our world partly in...where ever. Then the action starts pulling like a three headed dog in a flurry of cats and birds--Is there an evil force trying to attack them directly? Is there an evil force trying to attack them INdirectly--make people do awful things they wouldn't really do? Oh, wait, no, maybe the whole REGION is some kind of psychic echo chamber where ambient discord can reverberate into murder? OK, hold on--maybe it's really just one little mentally tangled \"Delbert\"-style redneck boy who misses his Mommy and is on some kind of spree like a K-Tel Norman Bates knock off? Oh, yeah--extra points off: the only Black character seems to be the grandson of an \"Our Gang\" pullman porter. The actor plays it as straight as he can given the crummy dialogue, but the fact is, his purpose is \"Y'all done betta get outa heah, Boss!\" At least they wrote him smart enough to GTF outta there. The bit with the little girl being silenced and pulled away was definitely creepy, as was the chick in the shower. Those were just two of quite a few really delicious tidbits in this movie. The problem is that they are combined in disharmonious ways, like a bite of steak, a bite of chocolate and a bite of a Gummi bear. Each is great on it's own, but mixed up? Bleah! Such potential. Wasted.\n",
            "0\n"
          ]
        }
      ]
    },
    {
      "cell_type": "code",
      "source": [
        "import nltk\n",
        "nltk.download('stopwords')"
      ],
      "metadata": {
        "colab": {
          "base_uri": "https://localhost:8080/",
          "height": 69
        },
        "id": "VyD1zJzXSfxB",
        "outputId": "4f999994-bb60-4a71-882b-a40148d3dd8c"
      },
      "execution_count": 14,
      "outputs": [
        {
          "output_type": "display_data",
          "data": {
            "text/html": [
              "<style>pre {white-space: pre-wrap;}</style>"
            ],
            "text/plain": [
              "<IPython.core.display.HTML object>"
            ]
          },
          "metadata": {}
        },
        {
          "output_type": "stream",
          "name": "stdout",
          "text": [
            "[nltk_data] Downloading package stopwords to /root/nltk_data...\n",
            "[nltk_data]   Unzipping corpora/stopwords.zip.\n"
          ]
        },
        {
          "output_type": "execute_result",
          "data": {
            "text/plain": [
              "True"
            ]
          },
          "metadata": {},
          "execution_count": 14
        }
      ]
    },
    {
      "cell_type": "code",
      "source": [
        "from nltk.corpus import stopwords\n",
        "\n",
        "en_stopwords = set(stopwords.words('english'))      # make it a set for fast lookup O(1)\n",
        "list(en_stopwords)[:10]"
      ],
      "metadata": {
        "colab": {
          "base_uri": "https://localhost:8080/",
          "height": 191
        },
        "id": "h0EXSPyYiEa8",
        "outputId": "c0a841cd-e352-4b11-af01-fbbf64cacf93"
      },
      "execution_count": 15,
      "outputs": [
        {
          "output_type": "display_data",
          "data": {
            "text/html": [
              "<style>pre {white-space: pre-wrap;}</style>"
            ],
            "text/plain": [
              "<IPython.core.display.HTML object>"
            ]
          },
          "metadata": {}
        },
        {
          "output_type": "execute_result",
          "data": {
            "text/plain": [
              "['these',\n",
              " 'here',\n",
              " 'herself',\n",
              " 'a',\n",
              " \"you've\",\n",
              " 'to',\n",
              " 'before',\n",
              " 'can',\n",
              " 'there',\n",
              " \"you'd\"]"
            ]
          },
          "metadata": {},
          "execution_count": 15
        }
      ]
    },
    {
      "cell_type": "code",
      "source": [
        "# text analysis: word frequency\n",
        "# is the distribution of word frequency different between positive and negative reviews?\n",
        "def get_word_frequency(list_of_sentences):\n",
        "    word_frequency = {}\n",
        "    for sent in list_of_sentences:\n",
        "        sent = sent.lower()\n",
        "        sent = sent.replace(\"<br />\", '')\n",
        "        words = sent.split()        # white space tokenize\n",
        "        for word in words:\n",
        "            if word in en_stopwords:\n",
        "                continue            # skip the stopwords\n",
        "            word_frequency[word] = word_frequency.get(word, 0) + 1\n",
        "    \n",
        "    return word_frequency\n",
        "\n",
        "                                         # filtering            # select the column text\n",
        "pos_wf = get_word_frequency(df_train.loc[df_train['label'] == 1, 'text'].tolist())\n",
        "neg_wf = get_word_frequency(df_train.loc[df_train['label'] == 0, 'text'].tolist())"
      ],
      "metadata": {
        "colab": {
          "base_uri": "https://localhost:8080/",
          "height": 17
        },
        "id": "Ti627cRogojk",
        "outputId": "cd7f4be1-f152-4dbc-dbec-370533c4e465"
      },
      "execution_count": 16,
      "outputs": [
        {
          "output_type": "display_data",
          "data": {
            "text/html": [
              "<style>pre {white-space: pre-wrap;}</style>"
            ],
            "text/plain": [
              "<IPython.core.display.HTML object>"
            ]
          },
          "metadata": {}
        }
      ]
    },
    {
      "cell_type": "code",
      "source": [
        "sorted(pos_wf.items(), key=lambda x: x[1], reverse=True)[:10]"
      ],
      "metadata": {
        "colab": {
          "base_uri": "https://localhost:8080/",
          "height": 191
        },
        "id": "6T6TVcLOhqrj",
        "outputId": "5c26e9c1-6a46-4777-b22f-528c93c2e420"
      },
      "execution_count": 17,
      "outputs": [
        {
          "output_type": "display_data",
          "data": {
            "text/html": [
              "<style>pre {white-space: pre-wrap;}</style>"
            ],
            "text/plain": [
              "<IPython.core.display.HTML object>"
            ]
          },
          "metadata": {}
        },
        {
          "output_type": "execute_result",
          "data": {
            "text/plain": [
              "[('film', 14642),\n",
              " ('movie', 13517),\n",
              " ('one', 11682),\n",
              " ('like', 8327),\n",
              " ('good', 6083),\n",
              " ('great', 5508),\n",
              " ('see', 5401),\n",
              " ('really', 5259),\n",
              " ('would', 5244),\n",
              " ('story', 5033)]"
            ]
          },
          "metadata": {},
          "execution_count": 17
        }
      ]
    },
    {
      "cell_type": "code",
      "source": [
        "sorted(neg_wf.items(), key=lambda x: x[1], reverse=True)[:10]"
      ],
      "metadata": {
        "colab": {
          "base_uri": "https://localhost:8080/",
          "height": 191
        },
        "id": "7uNQRC2dh7Ly",
        "outputId": "0d23a9dc-b215-4006-a475-adf4a2650079"
      },
      "execution_count": 18,
      "outputs": [
        {
          "output_type": "display_data",
          "data": {
            "text/html": [
              "<style>pre {white-space: pre-wrap;}</style>"
            ],
            "text/plain": [
              "<IPython.core.display.HTML object>"
            ]
          },
          "metadata": {}
        },
        {
          "output_type": "execute_result",
          "data": {
            "text/plain": [
              "[('movie', 17371),\n",
              " ('film', 13136),\n",
              " ('one', 10833),\n",
              " ('like', 10463),\n",
              " ('even', 7365),\n",
              " ('would', 6788),\n",
              " ('good', 5846),\n",
              " ('really', 5806),\n",
              " ('bad', 5337),\n",
              " ('see', 5013)]"
            ]
          },
          "metadata": {},
          "execution_count": 18
        }
      ]
    },
    {
      "cell_type": "markdown",
      "source": [
        "Word frequency distributions between positive and negative samples. Focus on words 'great', 'bad', 'well', 'best', 'love'."
      ],
      "metadata": {
        "id": "XYJiMj8mVaPY"
      }
    },
    {
      "cell_type": "code",
      "source": [
        "import matplotlib.pyplot as plt\n",
        "\n",
        "combined_wf = get_word_frequency(df_train['text'].tolist())\n",
        "top_words = sorted(combined_wf.items(), key=lambda x: x[1], reverse=True)[:50]\n",
        "top_words = [x[0] for x in top_words]\n",
        "\n",
        "pos_freqs = [pos_wf[word] for word in top_words]\n",
        "neg_freqs = [neg_wf[word] for word in top_words]\n",
        "\n",
        "xs = np.arange(len(top_words))\n",
        "plt.figure(figsize=(20,6))\n",
        "plt.bar(xs-0.2, pos_freqs, 0.4, label='pos')\n",
        "plt.bar(xs+0.2, neg_freqs, 0.4, label='neg')\n",
        "plt.xticks(xs, top_words, rotation=45)\n",
        "plt.legend()"
      ],
      "metadata": {
        "colab": {
          "base_uri": "https://localhost:8080/",
          "height": 426
        },
        "id": "VSm1q1oNSxeC",
        "outputId": "3c915b5f-00c1-4f08-afa9-41d552837a5b"
      },
      "execution_count": 19,
      "outputs": [
        {
          "output_type": "display_data",
          "data": {
            "text/html": [
              "<style>pre {white-space: pre-wrap;}</style>"
            ],
            "text/plain": [
              "<IPython.core.display.HTML object>"
            ]
          },
          "metadata": {}
        },
        {
          "output_type": "execute_result",
          "data": {
            "text/plain": [
              "<matplotlib.legend.Legend at 0x7fc9bfb2b9d0>"
            ]
          },
          "metadata": {},
          "execution_count": 19
        },
        {
          "output_type": "display_data",
          "data": {
            "image/png": "[encoded data removed]",
            "text/plain": [
              "<Figure size 1440x432 with 1 Axes>"
            ]
          },
          "metadata": {
            "needs_background": "light"
          }
        }
      ]
    },
    {
      "cell_type": "code",
      "source": [
        "# TF-IDF : term frequency - inverse document frequency  -> text embeddings\n",
        "# build a vocab: top 300 words\n",
        "# for each sentence -> 300-dim vector, frequency for each 300 words\n",
        "# once u have vector for a text -> algorithm (SVM, random forest, neural network)"
      ],
      "metadata": {
        "id": "CqgczqgFjEEP",
        "colab": {
          "base_uri": "https://localhost:8080/",
          "height": 17
        },
        "outputId": "4dcf7381-64ce-4d6d-9610-d4682706999d"
      },
      "execution_count": 20,
      "outputs": [
        {
          "output_type": "display_data",
          "data": {
            "text/html": [
              "<style>pre {white-space: pre-wrap;}</style>"
            ],
            "text/plain": [
              "<IPython.core.display.HTML object>"
            ]
          },
          "metadata": {}
        }
      ]
    },
    {
      "cell_type": "code",
      "source": [
        "import string\n",
        "import re\n",
        "\n",
        "def clean_and_tokenize(text):\n",
        "    text = text.lower()                     # lowercase\n",
        "    text = text.replace('<br />', '')       # remove line break token\n",
        "    tokens = text.split()                   # split into words / whitespace tokenize\n",
        "    tokens = [x for x in tokens if x not in en_stopwords]       # remove stopwords\n",
        "    text = ' '.join(tokens)                 # combine tokens into a sentence\n",
        "    for punc in string.punctuation:         # removing punctuations\n",
        "        text = text.replace(punc, ' ')\n",
        "    text = re.sub('\\s+', ' ', text)         # > 1 whitespace -> 1 whitespace\n",
        "    text = text.strip()\n",
        "    tokens = text.split()\n",
        "    tokens = [x for x in tokens if len(x) > 2]      # words > 2 characters\n",
        "    return tokens\n",
        "\n",
        "sample = df_train.sample(1).iloc[0,0]\n",
        "tokens = clean_and_tokenize(sample)\n",
        "\n",
        "print(sample)\n",
        "print(tokens)"
      ],
      "metadata": {
        "colab": {
          "base_uri": "https://localhost:8080/",
          "height": 833
        },
        "id": "FRxSFiqvjFQ9",
        "outputId": "d32d3ffe-37e0-4c8e-d886-4f435d597392"
      },
      "execution_count": 21,
      "outputs": [
        {
          "output_type": "display_data",
          "data": {
            "text/html": [
              "<style>pre {white-space: pre-wrap;}</style>"
            ],
            "text/plain": [
              "<IPython.core.display.HTML object>"
            ]
          },
          "metadata": {}
        },
        {
          "output_type": "stream",
          "name": "stdout",
          "text": [
            "New York police detective Mark Dixon (Dana Andrews) is a guy who has to deal with his own demons on a daily basis at the same time as coping with the normal ups and downs of everyday life. The strain produced by his internal struggle and his intense hatred of criminals, leads him to make serious errors of judgement and to fail to recognise the need for any code of conduct to be adhered to in his dealings with people on the wrong side of the law. He has a track record of treating suspects and known criminals with gross brutality and this has brought him into conflict with his superior officers who have censured him for the amount of violence he has regularly used. Dixon cannot reconcile these calls for restraint with his own extreme and irrational hatred of all criminals. He is tormented by the fact that his father was a criminal and has been left with a powerful need to live down his father's reputation and to avoid fulfilling the low expectations that many people have of him as a consequence.<br /><br />When a rich Texan is murdered following an evening's gambling run by gangster Tommy Scalise (Gary Merrill), Dixon is assigned to the case. Scalise tells Dixon's superior officer Detective Lieutenant Thomas (Karl Malden) that the victim had been accompanied by Ken Paine (Craig Stevens) and his wife Morgan (Gene Tierney) and that Paine had committed the murder. Dixon goes to Paine's apartment and questions the suspect who is both inebriated and uncooperative and when Paine punches him, Dixon retaliates and Paine collapses and dies. Dixon goes on to dispose of the body in a nearby river. Paine's wife is questioned and after describing what had happened at Scalise's place, adds that her father had gone to Paine's apartment later that night to take issue with him about the fact that she'd returned home with facial bruising. Paine had previously attacked her on a number of occasions and her father, Jiggs Taylor (Tom Tully), had threatened that if it happened again he would beat Paine up. This information leads to Taylor being arrested and charged with murder. Nobody accepts Dixon's explanation that Scalise had killed the Texan and then had Paine killed to eliminate him as a witness.<br /><br />Dixon continues to make various attempts to get Scalise convicted but eventually realises that the only way to successfully achieve his goal is to write a confession about his own role in Paine's death and the cover up. He does this and also records that he is going alone to confront Scalise so that the police can arrest the gangster for Dixon's murder. The confrontation with Scalise and the eventual means by which Dixon achieves his own redemption, provide a tense and fitting conclusion to this gritty thriller.<br /><br />Dana Andrews' strained and preoccupied expressions convey his character's perpetually troubled nature and his anxieties as he deals with a series of misfortunes which include and follow Paine's accidental death. Dixon, however, isn't the only one to experience misfortune as Morgan, a successful model loses her job because of all the trouble surrounding her. Her father, who'd some years earlier been awarded a diploma for assisting the police, unjustly finds himself charged with a crime he did not commit. Ken Paine who'd been a war hero had experienced unemployment and a loss of self esteem which led to alcoholism and wife beating and Scalise who'd been set up in business by Dixon's father also suffers his own misfortunes.<br /><br />\"Where The Sidewalk Ends\" is a thoroughly engaging tale involving a group of interesting and diverse characters and a main protagonist who is the absolute personification of moral ambiguity.\n",
            "['new', 'york', 'police', 'detective', 'mark', 'dixon', 'dana', 'andrews', 'guy', 'deal', 'demons', 'daily', 'basis', 'time', 'coping', 'normal', 'ups', 'downs', 'everyday', 'life', 'strain', 'produced', 'internal', 'struggle', 'intense', 'hatred', 'criminals', 'leads', 'make', 'serious', 'errors', 'judgement', 'fail', 'recognise', 'need', 'code', 'conduct', 'adhered', 'dealings', 'people', 'wrong', 'side', 'law', 'track', 'record', 'treating', 'suspects', 'known', 'criminals', 'gross', 'brutality', 'brought', 'conflict', 'superior', 'officers', 'censured', 'amount', 'violence', 'regularly', 'used', 'dixon', 'cannot', 'reconcile', 'calls', 'restraint', 'extreme', 'irrational', 'hatred', 'criminals', 'tormented', 'fact', 'father', 'criminal', 'left', 'powerful', 'need', 'live', 'father', 'reputation', 'avoid', 'fulfilling', 'low', 'expectations', 'many', 'people', 'consequence', 'when', 'rich', 'texan', 'murdered', 'following', 'evening', 'gambling', 'run', 'gangster', 'tommy', 'scalise', 'gary', 'merrill', 'dixon', 'assigned', 'case', 'scalise', 'tells', 'dixon', 'superior', 'officer', 'detective', 'lieutenant', 'thomas', 'karl', 'malden', 'victim', 'accompanied', 'ken', 'paine', 'craig', 'stevens', 'wife', 'morgan', 'gene', 'tierney', 'paine', 'committed', 'murder', 'dixon', 'goes', 'paine', 'apartment', 'questions', 'suspect', 'inebriated', 'uncooperative', 'paine', 'punches', 'him', 'dixon', 'retaliates', 'paine', 'collapses', 'dies', 'dixon', 'goes', 'dispose', 'body', 'nearby', 'river', 'paine', 'wife', 'questioned', 'describing', 'happened', 'scalise', 'place', 'adds', 'father', 'gone', 'paine', 'apartment', 'later', 'night', 'take', 'issue', 'fact', 'she', 'returned', 'home', 'facial', 'bruising', 'paine', 'previously', 'attacked', 'number', 'occasions', 'father', 'jiggs', 'taylor', 'tom', 'tully', 'threatened', 'happened', 'would', 'beat', 'paine', 'information', 'leads', 'taylor', 'arrested', 'charged', 'murder', 'nobody', 'accepts', 'dixon', 'explanation', 'scalise', 'killed', 'texan', 'paine', 'killed', 'eliminate', 'witness', 'dixon', 'continues', 'make', 'various', 'attempts', 'get', 'scalise', 'convicted', 'eventually', 'realises', 'way', 'successfully', 'achieve', 'goal', 'write', 'confession', 'role', 'paine', 'death', 'cover', 'also', 'records', 'going', 'alone', 'confront', 'scalise', 'police', 'arrest', 'gangster', 'dixon', 'murder', 'confrontation', 'scalise', 'eventual', 'means', 'dixon', 'achieves', 'redemption', 'provide', 'tense', 'fitting', 'conclusion', 'gritty', 'thriller', 'dana', 'andrews', 'strained', 'preoccupied', 'expressions', 'convey', 'character', 'perpetually', 'troubled', 'nature', 'anxieties', 'deals', 'series', 'misfortunes', 'include', 'follow', 'paine', 'accidental', 'death', 'dixon', 'however', 'one', 'experience', 'misfortune', 'morgan', 'successful', 'model', 'loses', 'job', 'trouble', 'surrounding', 'her', 'father', 'who', 'years', 'earlier', 'awarded', 'diploma', 'assisting', 'police', 'unjustly', 'finds', 'charged', 'crime', 'commit', 'ken', 'paine', 'who', 'war', 'hero', 'experienced', 'unemployment', 'loss', 'self', 'esteem', 'led', 'alcoholism', 'wife', 'beating', 'scalise', 'who', 'set', 'business', 'dixon', 'father', 'also', 'suffers', 'misfortunes', 'where', 'sidewalk', 'ends', 'thoroughly', 'engaging', 'tale', 'involving', 'group', 'interesting', 'diverse', 'characters', 'main', 'protagonist', 'absolute', 'personification', 'moral', 'ambiguity']\n"
          ]
        }
      ]
    },
    {
      "cell_type": "code",
      "source": [
        "def get_wf_vector(tokens, vocab):\n",
        "    word_to_idx = {word: i for i, word in enumerate(vocab)}\n",
        "    wf = np.zeros(len(vocab))\n",
        "    vocab_set = set(vocab)\n",
        "    for token in tokens:\n",
        "        if token in vocab_set:\n",
        "            wf[word_to_idx[token]] += 1\n",
        "    return wf\n",
        "\n",
        "vocab = sorted(combined_wf.items(), key=lambda x: x[1], reverse=True)[:300]     # 300 most frequent words in the train set\n",
        "vocab = [x[0] for x in vocab]\n",
        "\n",
        "sample = df_train.sample(1).iloc[0,0]\n",
        "tokens = clean_and_tokenize(sample)\n",
        "vec = get_wf_vector(tokens, vocab)\n",
        "\n",
        "print(sample)\n",
        "print(tokens)\n",
        "print(vec)"
      ],
      "metadata": {
        "colab": {
          "base_uri": "https://localhost:8080/",
          "height": 503
        },
        "id": "3z0nNhacV4Dd",
        "outputId": "8c9a29cf-64bb-4668-e81f-73552527c524"
      },
      "execution_count": 22,
      "outputs": [
        {
          "output_type": "display_data",
          "data": {
            "text/html": [
              "<style>pre {white-space: pre-wrap;}</style>"
            ],
            "text/plain": [
              "<IPython.core.display.HTML object>"
            ]
          },
          "metadata": {}
        },
        {
          "output_type": "stream",
          "name": "stdout",
          "text": [
            "This film is really bad. It maybe harsh, but it is. It really is. Poor script, every vampire cliché in the book is used, and no sympathy is given at all to the origins of the main character ... i.e. ole Dracula. There have been some truly brilliant Dracula/vampire movies in the past, but this doesn't even make it into the \"dire\" slot.<br /><br />Take a selection of people who seem to have dropped out of a teen-slasher move, add a dribble of Dracula Lore and mix in a heady tonic of religious/surreal day-dreaming ... and you get a confusing mess of a film - Dracula 2000.<br /><br />I really cannot find any good things to say about this movie, as if it wasn't bad enough that it was made in the first place, they seem to have made Johnny Lee Miller effect an English accent ... Whats the problem with that I hear you cry ... Well, he is English, but he sounds like an American trying to do an English accent.<br /><br />All in all you may as well say your money (if you were thinking of buying it), or rent it out, watch it, and discover for yourself why it's about as scary as the Tellytubbies.<br /><br />P.S. Although La La is pretty frightening!\n",
            "['film', 'really', 'bad', 'maybe', 'harsh', 'really', 'poor', 'script', 'every', 'vampire', 'cliché', 'book', 'used', 'sympathy', 'given', 'origins', 'main', 'character', 'ole', 'dracula', 'truly', 'brilliant', 'dracula', 'vampire', 'movies', 'past', 'even', 'make', 'dire', 'slot', 'take', 'selection', 'people', 'seem', 'dropped', 'teen', 'slasher', 'move', 'add', 'dribble', 'dracula', 'lore', 'mix', 'heady', 'tonic', 'religious', 'surreal', 'day', 'dreaming', 'get', 'confusing', 'mess', 'film', 'dracula', '2000', 'really', 'cannot', 'find', 'good', 'things', 'say', 'movie', 'bad', 'enough', 'made', 'first', 'place', 'seem', 'made', 'johnny', 'lee', 'miller', 'effect', 'english', 'accent', 'whats', 'problem', 'hear', 'cry', 'well', 'english', 'sounds', 'like', 'american', 'trying', 'english', 'accent', 'all', 'may', 'well', 'say', 'money', 'thinking', 'buying', 'rent', 'out', 'watch', 'discover', 'scary', 'tellytubbies', 'although', 'pretty', 'frightening']\n",
            "[1. 2. 0. 1. 0. 1. 1. 3. 0. 0. 1. 0. 0. 0. 1. 0. 0. 1. 0. 1. 2. 2. 0. 0.\n",
            " 0. 0. 0. 2. 0. 1. 0. 0. 0. 0. 0. 0. 0. 1. 1. 0. 0. 0. 0. 0. 0. 0. 0. 0.\n",
            " 2. 0. 0. 0. 0. 0. 0. 0. 0. 1. 0. 0. 0. 1. 0. 0. 0. 0. 0. 0. 0. 0. 0. 0.\n",
            " 0. 0. 1. 0. 0. 0. 0. 0. 1. 0. 0. 0. 0. 0. 1. 0. 0. 0. 0. 0. 1. 0. 0. 0.\n",
            " 0. 0. 0. 0. 0. 0. 0. 0. 0. 0. 0. 0. 0. 0. 0. 0. 0. 0. 0. 1. 0. 0. 0. 0.\n",
            " 0. 0. 0. 0. 0. 0. 0. 0. 0. 0. 0. 0. 1. 0. 0. 0. 0. 0. 0. 0. 0. 0. 0. 0.\n",
            " 0. 0. 1. 0. 0. 0. 0. 0. 0. 0. 0. 2. 0. 0. 0. 1. 0. 0. 0. 0. 0. 0. 1. 0.\n",
            " 0. 0. 0. 0. 0. 1. 0. 0. 0. 0. 0. 0. 0. 0. 0. 1. 0. 0. 0. 0. 0. 0. 0. 0.\n",
            " 0. 1. 0. 1. 0. 0. 0. 0. 1. 0. 1. 0. 0. 0. 0. 0. 0. 0. 0. 1. 0. 0. 0. 0.\n",
            " 0. 0. 0. 0. 0. 0. 0. 0. 0. 0. 0. 0. 0. 0. 0. 0. 1. 0. 1. 0. 0. 0. 0. 0.\n",
            " 0. 0. 0. 0. 0. 0. 0. 0. 0. 1. 0. 0. 0. 0. 0. 0. 0. 0. 0. 0. 0. 0. 0. 0.\n",
            " 0. 0. 0. 0. 0. 0. 0. 0. 0. 0. 0. 0. 0. 0. 0. 0. 0. 0. 0. 0. 0. 0. 0. 0.\n",
            " 0. 0. 0. 0. 0. 0. 0. 0. 0. 0. 0. 0.]\n"
          ]
        }
      ]
    },
    {
      "cell_type": "code",
      "source": [
        "from functools import partial\n",
        "\n",
        "train_vecs = df_train['text'].apply(clean_and_tokenize).apply(partial(get_wf_vector, vocab=vocab))\n",
        "val_vecs = df_val['text'].apply(clean_and_tokenize).apply(partial(get_wf_vector, vocab=vocab))\n",
        "\n",
        "train_vecs = np.stack(train_vecs.tolist(), axis=0)\n",
        "val_vecs = np.stack(val_vecs.tolist(), axis=0)"
      ],
      "metadata": {
        "colab": {
          "base_uri": "https://localhost:8080/",
          "height": 17
        },
        "id": "CLHbGRDTXQAD",
        "outputId": "6cf06b91-1d3e-486d-87ba-86369d012ff4"
      },
      "execution_count": 23,
      "outputs": [
        {
          "output_type": "display_data",
          "data": {
            "text/html": [
              "<style>pre {white-space: pre-wrap;}</style>"
            ],
            "text/plain": [
              "<IPython.core.display.HTML object>"
            ]
          },
          "metadata": {}
        }
      ]
    },
    {
      "cell_type": "code",
      "source": [
        "from sklearn.svm import SVC, SVR\n",
        "\n",
        "# SVM is very slow. proportional dataset size^2\n",
        "model = SVC()\n",
        "model.fit(train_vecs, df_train['label'])"
      ],
      "metadata": {
        "colab": {
          "base_uri": "https://localhost:8080/",
          "height": 34
        },
        "id": "2EmzOcC7XNUd",
        "outputId": "eb3a2f4d-361f-4852-cc5d-a898ab73c04e"
      },
      "execution_count": 24,
      "outputs": [
        {
          "output_type": "display_data",
          "data": {
            "text/html": [
              "<style>pre {white-space: pre-wrap;}</style>"
            ],
            "text/plain": [
              "<IPython.core.display.HTML object>"
            ]
          },
          "metadata": {}
        },
        {
          "output_type": "execute_result",
          "data": {
            "text/plain": [
              "SVC()"
            ]
          },
          "metadata": {},
          "execution_count": 24
        }
      ]
    },
    {
      "cell_type": "code",
      "source": [
        "preds = model.predict(val_vecs)\n",
        "preds[:10]"
      ],
      "metadata": {
        "id": "B7HFoVBQXy9j",
        "colab": {
          "base_uri": "https://localhost:8080/",
          "height": 34
        },
        "outputId": "a63c29f4-08e2-4006-94ea-1f9cffc49db7"
      },
      "execution_count": 25,
      "outputs": [
        {
          "output_type": "display_data",
          "data": {
            "text/html": [
              "<style>pre {white-space: pre-wrap;}</style>"
            ],
            "text/plain": [
              "<IPython.core.display.HTML object>"
            ]
          },
          "metadata": {}
        },
        {
          "output_type": "execute_result",
          "data": {
            "text/plain": [
              "array([1, 0, 1, 1, 1, 1, 1, 1, 1, 1])"
            ]
          },
          "metadata": {},
          "execution_count": 25
        }
      ]
    },
    {
      "cell_type": "code",
      "source": [
        "acc = (df_val['label'] == preds).sum() / len(df_val)\n",
        "acc"
      ],
      "metadata": {
        "id": "KBOarsxVX4O1",
        "colab": {
          "base_uri": "https://localhost:8080/",
          "height": 34
        },
        "outputId": "494bf94b-89ec-40b9-b575-865c05751d41"
      },
      "execution_count": 26,
      "outputs": [
        {
          "output_type": "display_data",
          "data": {
            "text/html": [
              "<style>pre {white-space: pre-wrap;}</style>"
            ],
            "text/plain": [
              "<IPython.core.display.HTML object>"
            ]
          },
          "metadata": {}
        },
        {
          "output_type": "execute_result",
          "data": {
            "text/plain": [
              "0.80072"
            ]
          },
          "metadata": {},
          "execution_count": 26
        }
      ]
    },
    {
      "cell_type": "markdown",
      "source": [
        "## Word vectors - Bag-of-Words model"
      ],
      "metadata": {
        "id": "cZ7NmsvLX59-"
      }
    },
    {
      "cell_type": "code",
      "source": [
        "# text -> list of tokens -> list of vectors -> sequence (sequence_size, vector_size)\n",
        "\n",
        "def get_text_vector(tokens):\n",
        "    vecs = [glove_vectors[token] for token in tokens if token in glove_vectors]\n",
        "    return sum(vecs) / len(vecs)        # taking the average vector\n",
        "\n",
        "sample = df_train.sample(1).iloc[0,0]\n",
        "tokens = clean_and_tokenize(sample)\n",
        "text_vector = get_text_vector(tokens)\n",
        "\n",
        "print(sample)\n",
        "print(tokens)\n",
        "print(text_vector.shape)\n",
        "text_vector                 # average of word vectors of all extracted tokens"
      ],
      "metadata": {
        "colab": {
          "base_uri": "https://localhost:8080/",
          "height": 1000
        },
        "id": "Y19NvhValSij",
        "outputId": "326ae3af-ed5b-46e7-ab11-3016069e2970"
      },
      "execution_count": 27,
      "outputs": [
        {
          "output_type": "display_data",
          "data": {
            "text/html": [
              "<style>pre {white-space: pre-wrap;}</style>"
            ],
            "text/plain": [
              "<IPython.core.display.HTML object>"
            ]
          },
          "metadata": {}
        },
        {
          "output_type": "stream",
          "name": "stdout",
          "text": [
            "I caught this movie on my local movie channel, and i rather enjoyed watching the film. It has all the elements of a good teen film, and more - this film, aside from dealing with boys-girls relationships and sex and the like, also deals with the issue of steroid use by young people.<br /><br />The film has that real-life feel to it - no loud music, no special effects and no outrageous scenes - which, for this movie, was right. That feel makes it easy to relate to the characters in the film - some of which we probably know from where we live.<br /><br />Overall, a good movie, fun to watch.<br /><br />8/10\n",
            "['caught', 'movie', 'local', 'movie', 'channel', 'rather', 'enjoyed', 'watching', 'film', 'elements', 'good', 'teen', 'film', 'film', 'aside', 'dealing', 'boys', 'girls', 'relationships', 'sex', 'like', 'also', 'deals', 'issue', 'steroid', 'use', 'young', 'people', 'the', 'film', 'real', 'life', 'feel', 'loud', 'music', 'special', 'effects', 'outrageous', 'scenes', 'which', 'movie', 'right', 'feel', 'makes', 'easy', 'relate', 'characters', 'film', 'probably', 'know', 'live', 'overall', 'good', 'movie', 'fun', 'watch']\n",
            "(200,)\n"
          ]
        },
        {
          "output_type": "execute_result",
          "data": {
            "text/plain": [
              "array([-7.35107288e-02,  1.64569527e-01, -4.12364118e-02,  5.53680696e-02,\n",
              "       -1.09191522e-01,  8.97130147e-02,  5.00047982e-01, -2.00162339e-03,\n",
              "       -7.12229684e-02, -1.48468643e-01, -9.02684964e-03, -1.08921662e-01,\n",
              "       -6.61766946e-01,  1.69396214e-02,  8.45003407e-03, -3.53736319e-02,\n",
              "       -8.05366877e-03,  1.07256271e-01,  2.24391632e-02,  9.91789773e-02,\n",
              "       -9.24723297e-02,  2.00604517e-02,  3.91295273e-03,  1.32425278e-01,\n",
              "       -6.24558888e-02,  8.51062596e-01, -1.09992273e-01,  2.48825122e-02,\n",
              "        7.16955289e-02, -1.60576910e-01, -4.82636708e-04, -1.93548515e-01,\n",
              "       -2.27218255e-01,  1.13573544e-01, -4.98432014e-03,  1.54931182e-02,\n",
              "        6.04615696e-02, -6.29447252e-02,  1.53428540e-01,  1.40126256e-04,\n",
              "        3.08455706e-01, -1.07050128e-01,  4.46765050e-02, -1.88099593e-01,\n",
              "       -9.64855701e-02,  8.23851153e-02,  1.04020491e-01, -1.32754028e-01,\n",
              "       -1.53179064e-01, -5.58382496e-02, -7.65355676e-02, -2.40036938e-02,\n",
              "       -2.70911247e-01,  3.72331329e-02, -1.51149228e-01, -1.33636773e-01,\n",
              "       -2.17785865e-01, -2.16815714e-03, -7.12967589e-02, -1.16836421e-01,\n",
              "       -8.60190168e-02,  8.44412893e-02, -5.26996050e-03,  5.10605015e-02,\n",
              "       -1.28457516e-01, -2.35155076e-02, -1.29230693e-01,  1.41788200e-01,\n",
              "        9.20170993e-02,  2.03343034e-02, -1.28037825e-01,  2.43950095e-02,\n",
              "       -1.27942175e-01, -3.59581485e-02,  1.91029191e-01,  5.94758429e-02,\n",
              "       -1.21728174e-01, -6.67450503e-02,  1.35178134e-01, -2.34959219e-02,\n",
              "        4.62342948e-01,  1.30782127e-02, -4.26073782e-02, -8.40764586e-03,\n",
              "        1.84823558e-01,  1.77681111e-02,  1.49677351e-01, -2.12200321e-02,\n",
              "       -2.25562658e-02,  3.80073711e-02, -3.73012908e-02,  1.50909081e-01,\n",
              "       -1.51885301e-01, -1.05556687e-02, -2.10360903e-02,  7.25467056e-02,\n",
              "        3.32937688e-01,  2.76414659e-02,  1.55090898e-01, -7.08435476e-02,\n",
              "       -5.81697561e-02, -1.10433571e-01, -1.76314518e-01, -8.93876702e-02,\n",
              "        5.41764172e-03,  2.27712952e-02,  1.02607556e-01,  6.72718585e-02,\n",
              "       -3.22047994e-03, -2.24750005e-02,  2.21872069e-02, -5.03324047e-02,\n",
              "        1.65152952e-01,  4.13385890e-02, -1.08238466e-01,  1.90889999e-01,\n",
              "        8.51177946e-02,  5.44173904e-02,  7.61723369e-02,  1.26113340e-01,\n",
              "       -7.26091266e-02, -1.87243731e-03,  1.40800089e-01, -1.14681318e-01,\n",
              "       -8.98420289e-02, -7.98730403e-02,  5.06307781e-02, -1.08882830e-01,\n",
              "        1.75554022e-01, -8.74939412e-02, -1.09707519e-01,  1.11051679e-01,\n",
              "       -4.78071645e-02,  4.85915281e-02, -4.82200757e-02,  1.58553988e-01,\n",
              "        4.40761670e-02,  1.44291278e-02, -6.80046454e-02,  6.98230937e-02,\n",
              "        9.01435241e-02,  8.93864110e-02,  2.02043086e-01,  1.69609860e-02,\n",
              "       -8.81073847e-02,  1.65280297e-01, -2.63740391e-01, -3.80652212e-02,\n",
              "       -6.35076016e-02,  1.27647892e-01,  2.71895319e-01,  1.37706384e-01,\n",
              "       -4.18244076e+00, -6.45115003e-02,  1.39067426e-01, -1.28053706e-02,\n",
              "        1.47947267e-01, -1.30660564e-01, -3.47002484e-02,  1.00612499e-01,\n",
              "       -1.86542615e-01,  6.41199797e-02, -1.59046993e-01,  1.37342811e-02,\n",
              "       -1.11723140e-01,  4.86149825e-02, -4.54297774e-02,  1.25958711e-01,\n",
              "        2.17706412e-01, -5.44889905e-02,  1.54194131e-01,  1.63680956e-01,\n",
              "       -4.13193628e-02,  3.17455828e-02, -1.32726237e-01,  3.54778394e-02,\n",
              "        3.50843817e-02, -2.62922019e-01, -1.67670790e-02,  2.88169812e-02,\n",
              "        3.37260775e-02, -3.56051214e-02, -2.48922423e-01, -1.81977451e-02,\n",
              "       -7.19074085e-02,  1.84870392e-01, -4.24533449e-02, -3.99225615e-02,\n",
              "       -2.91428473e-02,  2.34973103e-01,  1.33942977e-01, -1.42286107e-01,\n",
              "        7.72460848e-02, -7.98907354e-02,  5.42537905e-02,  1.48029011e-02,\n",
              "       -4.91064824e-02,  1.47559077e-01, -9.21095088e-02, -8.53732899e-02],\n",
              "      dtype=float32)"
            ]
          },
          "metadata": {},
          "execution_count": 27
        }
      ]
    },
    {
      "cell_type": "code",
      "source": [
        "# pre-compute\n",
        "train_vecs = df_train['text'].apply(clean_and_tokenize).apply(get_text_vector)\n",
        "val_vecs = df_val['text'].apply(clean_and_tokenize).apply(get_text_vector)\n",
        "\n",
        "train_vecs = np.stack(train_vecs.tolist(), axis=0)\n",
        "val_vecs = np.stack(val_vecs.tolist(), axis=0)\n",
        "\n",
        "# transform on-the-fly -> more memory efficient (but incur processing time)"
      ],
      "metadata": {
        "colab": {
          "base_uri": "https://localhost:8080/",
          "height": 17
        },
        "id": "7ejI6FhBl7VR",
        "outputId": "93c56dcf-5b40-4b45-c390-3af4cb35be63"
      },
      "execution_count": 28,
      "outputs": [
        {
          "output_type": "display_data",
          "data": {
            "text/html": [
              "<style>pre {white-space: pre-wrap;}</style>"
            ],
            "text/plain": [
              "<IPython.core.display.HTML object>"
            ]
          },
          "metadata": {}
        }
      ]
    },
    {
      "cell_type": "code",
      "source": [
        "from sklearn.svm import SVC, SVR\n",
        "\n",
        "# SVM is very slow. proportional dataset size^2\n",
        "model = SVC()\n",
        "model.fit(train_vecs, df_train['label'])"
      ],
      "metadata": {
        "colab": {
          "base_uri": "https://localhost:8080/",
          "height": 34
        },
        "id": "hHQ9xjs0mCfO",
        "outputId": "67205ee6-0d2e-4422-bee9-d8560e52e7ea"
      },
      "execution_count": 29,
      "outputs": [
        {
          "output_type": "display_data",
          "data": {
            "text/html": [
              "<style>pre {white-space: pre-wrap;}</style>"
            ],
            "text/plain": [
              "<IPython.core.display.HTML object>"
            ]
          },
          "metadata": {}
        },
        {
          "output_type": "execute_result",
          "data": {
            "text/plain": [
              "SVC()"
            ]
          },
          "metadata": {},
          "execution_count": 29
        }
      ]
    },
    {
      "cell_type": "code",
      "source": [
        "preds = model.predict(val_vecs)\n",
        "preds[:10]"
      ],
      "metadata": {
        "colab": {
          "base_uri": "https://localhost:8080/",
          "height": 34
        },
        "id": "xp6hKSonnArM",
        "outputId": "50d48e53-163e-461b-ab54-da95cdba04b0"
      },
      "execution_count": 30,
      "outputs": [
        {
          "output_type": "display_data",
          "data": {
            "text/html": [
              "<style>pre {white-space: pre-wrap;}</style>"
            ],
            "text/plain": [
              "<IPython.core.display.HTML object>"
            ]
          },
          "metadata": {}
        },
        {
          "output_type": "execute_result",
          "data": {
            "text/plain": [
              "array([1, 1, 1, 1, 0, 1, 1, 1, 1, 1])"
            ]
          },
          "metadata": {},
          "execution_count": 30
        }
      ]
    },
    {
      "cell_type": "code",
      "source": [
        "acc = (df_val['label'] == preds).sum() / len(df_val)\n",
        "acc"
      ],
      "metadata": {
        "colab": {
          "base_uri": "https://localhost:8080/",
          "height": 34
        },
        "id": "xdhLmOLXn84l",
        "outputId": "4d78514b-200d-4541-a9d0-c6175fe31a3c"
      },
      "execution_count": 31,
      "outputs": [
        {
          "output_type": "display_data",
          "data": {
            "text/html": [
              "<style>pre {white-space: pre-wrap;}</style>"
            ],
            "text/plain": [
              "<IPython.core.display.HTML object>"
            ]
          },
          "metadata": {}
        },
        {
          "output_type": "execute_result",
          "data": {
            "text/plain": [
              "0.82636"
            ]
          },
          "metadata": {},
          "execution_count": 31
        }
      ]
    },
    {
      "cell_type": "code",
      "source": [
        "misclassified = (df_val['label'] != preds)      # boolean array of examples that differ\n",
        "sample = df_val[misclassified].sample(1).iloc[0]\n",
        "print(sample[0])\n",
        "print(clean_and_tokenize(sample[0]))\n",
        "print(sample[1])\n",
        "\n",
        "# drawbacks of the Bag-of-words model -> don't care about ordering of the words"
      ],
      "metadata": {
        "colab": {
          "base_uri": "https://localhost:8080/",
          "height": 347
        },
        "id": "eeE9OvrspTbH",
        "outputId": "83f2e5bc-d129-4fe2-ba5a-87652faf4088"
      },
      "execution_count": 32,
      "outputs": [
        {
          "output_type": "display_data",
          "data": {
            "text/html": [
              "<style>pre {white-space: pre-wrap;}</style>"
            ],
            "text/plain": [
              "<IPython.core.display.HTML object>"
            ]
          },
          "metadata": {}
        },
        {
          "output_type": "stream",
          "name": "stdout",
          "text": [
            "How many movies are there that you can think of when you see a movie like this? I can't count them but it sure seemed like the movie makers were trying to give me a hint. I was reminded so often of other movies, it became a big distraction. One of the borrowed memorable lines came from a movie from 2003 - Day After Tomorrow. One line by itself, is not so bad but this movie borrows so much from so many movies it becomes a bad risk.<br /><br />BUT...<br /><br />See The Movie! Despite its downfalls there is enough to make it interesting and maybe make it appear clever. While borrowing so much from other movies it never goes overboard. In fact, you'll probably find yourself battening down the hatches and riding the storm out. Why? ...Costner and Kutcher played their characters very well. I have never been a fan of Kutcher's and I nearly gave up on him in The Guardian, but he surfaced in good fashion. Costner carries the movie swimmingly with the best of Costner's ability. I don't think Mrs. Robinson had anything to do with his success.<br /><br />The supporting cast all around played their parts well. I had no problem with any of them in the end. But some of these characters were used too much.<br /><br />From here on out I can only nit-pick so I will save you the wear and tear. Enjoy the movie, the parts that work, work well enough to keep your head above water. Just don't expect a smooth ride.<br /><br />7 of 10 but almost a 6.\n",
            "['many', 'movies', 'think', 'see', 'movie', 'like', 'this', 'can', 'count', 'sure', 'seemed', 'like', 'movie', 'makers', 'trying', 'give', 'hint', 'reminded', 'often', 'movies', 'became', 'big', 'distraction', 'one', 'borrowed', 'memorable', 'lines', 'came', 'movie', '2003', 'day', 'tomorrow', 'one', 'line', 'itself', 'bad', 'movie', 'borrows', 'much', 'many', 'movies', 'becomes', 'bad', 'risk', 'but', 'see', 'movie', 'despite', 'downfalls', 'enough', 'make', 'interesting', 'maybe', 'make', 'appear', 'clever', 'borrowing', 'much', 'movies', 'never', 'goes', 'overboard', 'fact', 'probably', 'find', 'battening', 'hatches', 'riding', 'storm', 'out', 'why', 'costner', 'kutcher', 'played', 'characters', 'well', 'never', 'fan', 'kutcher', 'nearly', 'gave', 'guardian', 'surfaced', 'good', 'fashion', 'costner', 'carries', 'movie', 'swimmingly', 'best', 'costner', 'ability', 'think', 'mrs', 'robinson', 'anything', 'success', 'the', 'supporting', 'cast', 'around', 'played', 'parts', 'well', 'problem', 'end', 'characters', 'used', 'much', 'from', 'nit', 'pick', 'save', 'wear', 'tear', 'enjoy', 'movie', 'parts', 'work', 'work', 'well', 'enough', 'keep', 'head', 'water', 'expect', 'smooth', 'ride', 'almost']\n",
            "1\n"
          ]
        }
      ]
    },
    {
      "cell_type": "code",
      "source": [
        "import torch\n",
        "from torch import nn\n",
        "\n",
        "def get_model(in_channels, num_channels):\n",
        "    layers = []\n",
        "    for i, out_channels in enumerate(num_channels[:-1]):\n",
        "        layer = nn.Sequential(\n",
        "            nn.Linear(in_channels, out_channels, bias=False),\n",
        "            nn.BatchNorm1d(out_channels),\n",
        "            nn.ReLU(inplace=True)\n",
        "        )\n",
        "        layers.append(layer)\n",
        "        in_channels = out_channels\n",
        "\n",
        "    layers.append(nn.Linear(in_channels, num_channels[-1]))\n",
        "    model = nn.Sequential(*layers)\n",
        "    return model\n",
        "\n",
        "model = get_model(200, [512, 512, 1])\n",
        "model"
      ],
      "metadata": {
        "colab": {
          "base_uri": "https://localhost:8080/",
          "height": 243
        },
        "id": "VAK6dRSko8yX",
        "outputId": "b83aca3d-7688-42b4-9b9a-c5a7b5f291c3"
      },
      "execution_count": 33,
      "outputs": [
        {
          "output_type": "display_data",
          "data": {
            "text/html": [
              "<style>pre {white-space: pre-wrap;}</style>"
            ],
            "text/plain": [
              "<IPython.core.display.HTML object>"
            ]
          },
          "metadata": {}
        },
        {
          "output_type": "execute_result",
          "data": {
            "text/plain": [
              "Sequential(\n",
              "  (0): Sequential(\n",
              "    (0): Linear(in_features=200, out_features=512, bias=False)\n",
              "    (1): BatchNorm1d(512, eps=1e-05, momentum=0.1, affine=True, track_running_stats=True)\n",
              "    (2): ReLU(inplace=True)\n",
              "  )\n",
              "  (1): Sequential(\n",
              "    (0): Linear(in_features=512, out_features=512, bias=False)\n",
              "    (1): BatchNorm1d(512, eps=1e-05, momentum=0.1, affine=True, track_running_stats=True)\n",
              "    (2): ReLU(inplace=True)\n",
              "  )\n",
              "  (2): Linear(in_features=512, out_features=1, bias=True)\n",
              ")"
            ]
          },
          "metadata": {},
          "execution_count": 33
        }
      ]
    },
    {
      "cell_type": "code",
      "source": [
        "from torch.utils.data import Dataset, DataLoader\n",
        "\n",
        "class ReviewDataset(Dataset):\n",
        "    def __init__(self, vectors, labels):\n",
        "        self.vectors = vectors\n",
        "        self.labels = labels\n",
        "\n",
        "    def __getitem__(self, idx):\n",
        "        return self.vectors[idx], self.labels[idx]\n",
        "\n",
        "    def __len__(self):\n",
        "        return len(self.vectors)\n",
        "\n",
        "train_ds = ReviewDataset(train_vecs, df_train['label'].tolist())\n",
        "val_ds = ReviewDataset(val_vecs, df_val['label'].tolist())\n",
        "\n",
        "train_loader = DataLoader(train_ds, batch_size=32, shuffle=True)\n",
        "val_loader = DataLoader(val_ds, batch_size=32, shuffle=False)\n",
        "\n",
        "vec, label = train_ds[13000]\n",
        "print(vec.shape, label)"
      ],
      "metadata": {
        "colab": {
          "base_uri": "https://localhost:8080/",
          "height": 34
        },
        "id": "YBV-feP1pv7w",
        "outputId": "61f8d8c5-cfb0-4b62-87d1-001bda605988"
      },
      "execution_count": 35,
      "outputs": [
        {
          "output_type": "display_data",
          "data": {
            "text/html": [
              "<style>pre {white-space: pre-wrap;}</style>"
            ],
            "text/plain": [
              "<IPython.core.display.HTML object>"
            ]
          },
          "metadata": {}
        },
        {
          "output_type": "stream",
          "name": "stdout",
          "text": [
            "(200,) 0\n"
          ]
        }
      ]
    },
    {
      "cell_type": "code",
      "source": [
        "from tqdm import tqdm\n",
        "import torch.nn.functional as F\n",
        "\n",
        "device = 'cuda'\n",
        "\n",
        "model.to(device)\n",
        "optimizer = torch.optim.AdamW(model.parameters(), lr=1e-4)\n",
        "\n",
        "n_epochs = 10\n",
        "\n",
        "for i in range(n_epochs):\n",
        "    print(f'Epoch{i}')\n",
        "    pbar = tqdm(train_loader)\n",
        "    for vecs, labels in pbar:\n",
        "        logits = model(vecs.to(device)).squeeze()\n",
        "        loss = F.binary_cross_entropy_with_logits(logits, labels.to(device).float())\n",
        "\n",
        "        optimizer.zero_grad()\n",
        "        loss.backward()\n",
        "        optimizer.step()\n",
        "\n",
        "        pbar.set_description(f'Loss: {loss.item():.4f}')"
      ],
      "metadata": {
        "colab": {
          "base_uri": "https://localhost:8080/",
          "height": 364
        },
        "id": "UpYI3n2-qqjR",
        "outputId": "ab4986db-468a-48d1-c818-be16c6451fa9"
      },
      "execution_count": 36,
      "outputs": [
        {
          "output_type": "display_data",
          "data": {
            "text/html": [
              "<style>pre {white-space: pre-wrap;}</style>"
            ],
            "text/plain": [
              "<IPython.core.display.HTML object>"
            ]
          },
          "metadata": {}
        },
        {
          "output_type": "stream",
          "name": "stdout",
          "text": [
            "Epoch0\n"
          ]
        },
        {
          "output_type": "stream",
          "name": "stderr",
          "text": [
            "Loss: 0.6691: 100%|██████████| 782/782 [00:06<00:00, 118.52it/s]\n"
          ]
        },
        {
          "output_type": "stream",
          "name": "stdout",
          "text": [
            "Epoch1\n"
          ]
        },
        {
          "output_type": "stream",
          "name": "stderr",
          "text": [
            "Loss: 0.2499: 100%|██████████| 782/782 [00:06<00:00, 122.70it/s]\n"
          ]
        },
        {
          "output_type": "stream",
          "name": "stdout",
          "text": [
            "Epoch2\n"
          ]
        },
        {
          "output_type": "stream",
          "name": "stderr",
          "text": [
            "Loss: 0.8196: 100%|██████████| 782/782 [00:06<00:00, 120.98it/s]\n"
          ]
        },
        {
          "output_type": "stream",
          "name": "stdout",
          "text": [
            "Epoch3\n"
          ]
        },
        {
          "output_type": "stream",
          "name": "stderr",
          "text": [
            "Loss: 0.1358: 100%|██████████| 782/782 [00:06<00:00, 121.31it/s]\n"
          ]
        },
        {
          "output_type": "stream",
          "name": "stdout",
          "text": [
            "Epoch4\n"
          ]
        },
        {
          "output_type": "stream",
          "name": "stderr",
          "text": [
            "Loss: 0.2240: 100%|██████████| 782/782 [00:06<00:00, 120.59it/s]\n"
          ]
        },
        {
          "output_type": "stream",
          "name": "stdout",
          "text": [
            "Epoch5\n"
          ]
        },
        {
          "output_type": "stream",
          "name": "stderr",
          "text": [
            "Loss: 0.4013: 100%|██████████| 782/782 [00:06<00:00, 120.24it/s]\n"
          ]
        },
        {
          "output_type": "stream",
          "name": "stdout",
          "text": [
            "Epoch6\n"
          ]
        },
        {
          "output_type": "stream",
          "name": "stderr",
          "text": [
            "Loss: 0.7565: 100%|██████████| 782/782 [00:06<00:00, 123.41it/s]\n"
          ]
        },
        {
          "output_type": "stream",
          "name": "stdout",
          "text": [
            "Epoch7\n"
          ]
        },
        {
          "output_type": "stream",
          "name": "stderr",
          "text": [
            "Loss: 0.1959: 100%|██████████| 782/782 [00:06<00:00, 122.33it/s]\n"
          ]
        },
        {
          "output_type": "stream",
          "name": "stdout",
          "text": [
            "Epoch8\n"
          ]
        },
        {
          "output_type": "stream",
          "name": "stderr",
          "text": [
            "Loss: 0.3118: 100%|██████████| 782/782 [00:06<00:00, 120.28it/s]\n"
          ]
        },
        {
          "output_type": "stream",
          "name": "stdout",
          "text": [
            "Epoch9\n"
          ]
        },
        {
          "output_type": "stream",
          "name": "stderr",
          "text": [
            "Loss: 0.4897: 100%|██████████| 782/782 [00:06<00:00, 121.59it/s]\n"
          ]
        }
      ]
    },
    {
      "cell_type": "code",
      "source": [
        "model.eval()\n",
        "preds = []\n",
        "\n",
        "for vecs, _ in tqdm(val_loader):\n",
        "    with torch.inference_mode():\n",
        "        logits = model(vecs.to(device)).squeeze()\n",
        "    preds.append(logits.cpu().numpy() >= 0)\n",
        "\n",
        "preds = np.concatenate(preds, axis=0)\n",
        "preds.shape"
      ],
      "metadata": {
        "colab": {
          "base_uri": "https://localhost:8080/",
          "height": 52
        },
        "id": "JZabUs3isIyW",
        "outputId": "c09e5775-d7b4-4afd-980d-be26cbd563ab"
      },
      "execution_count": 37,
      "outputs": [
        {
          "output_type": "display_data",
          "data": {
            "text/html": [
              "<style>pre {white-space: pre-wrap;}</style>"
            ],
            "text/plain": [
              "<IPython.core.display.HTML object>"
            ]
          },
          "metadata": {}
        },
        {
          "output_type": "stream",
          "name": "stderr",
          "text": [
            "100%|██████████| 782/782 [00:00<00:00, 1180.37it/s]\n"
          ]
        },
        {
          "output_type": "execute_result",
          "data": {
            "text/plain": [
              "(25000,)"
            ]
          },
          "metadata": {},
          "execution_count": 37
        }
      ]
    }
  ]
}