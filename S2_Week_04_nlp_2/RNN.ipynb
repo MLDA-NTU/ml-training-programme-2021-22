{
  "nbformat": 4,
  "nbformat_minor": 0,
  "metadata": {
    "colab": {
      "name": "RNN.ipynb",
      "provenance": [],
      "collapsed_sections": []
    },
    "kernelspec": {
      "name": "python3",
      "display_name": "Python 3"
    },
    "language_info": {
      "name": "python"
    },
    "accelerator": "GPU"
  },
  "cells": [
    {
      "cell_type": "code",
      "source": [
        "def simple_rnn_cell(i, h):\n",
        "    return max(3*i - 4*h + 1, 0)\n",
        "\n",
        "in_sequence = [3,5,7,5]\n",
        "h = 0                               # initialize hidden state to 0\n",
        "\n",
        "out_sequence = []\n",
        "for i in in_sequence:\n",
        "    h = simple_rnn_cell(i, h)       # get the next hidden state\n",
        "    out_sequence.append(h*3-1)      # linear transformation before add to output sequence\n",
        "\n",
        "out_sequence"
      ],
      "metadata": {
        "colab": {
          "base_uri": "https://localhost:8080/"
        },
        "id": "FUNCZGXjZYs-",
        "outputId": "fefc7150-edbe-44c5-cb87-308e8e1acd77"
      },
      "execution_count": null,
      "outputs": [
        {
          "output_type": "execute_result",
          "data": {
            "text/plain": [
              "[29, -1, 65, -1]"
            ]
          },
          "metadata": {},
          "execution_count": 22
        }
      ]
    },
    {
      "cell_type": "code",
      "source": [
        "import numpy as np\n",
        "\n",
        "def rnn_cell(i, h, w_i, w_h, b):\n",
        "    projected_i = w_i.dot(i)        # (hidden_size, input_size) x (input_size,) = (hidden_size,)\n",
        "    projected_h = w_h.dot(h)        # (hidden_size, hidden_size) x (hidden_size,) = (hidden_size,)\n",
        "    return np.tanh(projected_i + projected_h + b)   # (hidden_size,)\n",
        "\n",
        "w_i = np.random.randn(8,5)          # (hidden_size, input_size)\n",
        "w_h = np.random.randn(8,8)          # (hidden_size, hidden_size)\n",
        "b = np.random.randn(8)              # (hidden_size,)\n",
        "\n",
        "# basic linear algebra: matrix multiplication\n",
        "# (a, b) x (b, c) = (a, c)\n",
        "\n",
        "in_sequence = np.random.randn(10,5)     # (sequence_length, input_size)\n",
        "h = np.zeros(8)                         # (hidden_size)\n",
        "\n",
        "out_sequence = np.zeros((10,8))         # (sequence_length, hidden_size)\n",
        "for idx, in_vector in enumerate(in_sequence):\n",
        "    h = rnn_cell(in_vector, h, w_i, w_h, b)\n",
        "    out_sequence[idx] = h\n",
        "\n",
        "out_sequence.shape                      # (10, 8)\n",
        "out_sequence"
      ],
      "metadata": {
        "colab": {
          "base_uri": "https://localhost:8080/"
        },
        "id": "JyekC1DwZaWb",
        "outputId": "da46357b-8c5f-4d08-8572-5a83c5d187a9"
      },
      "execution_count": null,
      "outputs": [
        {
          "output_type": "execute_result",
          "data": {
            "text/plain": [
              "array([[ 0.99913245, -0.96031546,  0.8909773 , -0.74409246, -0.50816938,\n",
              "        -0.12867373,  0.17824004,  0.49758119],\n",
              "       [-0.95736192,  0.80066157, -0.91627799, -0.99933537, -0.99855754,\n",
              "        -0.72345596, -0.78787275, -0.6225107 ],\n",
              "       [ 0.99999988, -0.99999291,  0.09598813,  0.62045583, -0.88840848,\n",
              "        -0.99833561, -0.99927904, -0.01512688],\n",
              "       [ 0.86433929, -0.99987058,  0.92951771, -0.98475727,  0.94720577,\n",
              "         0.94013805, -0.96845876, -0.4048926 ],\n",
              "       [ 0.69076172,  0.99910112, -0.99998237, -0.91172142, -0.85179817,\n",
              "         0.72422335, -0.99863239,  0.97232844],\n",
              "       [ 0.9957403 , -0.98587822, -0.37239783,  0.74462708, -0.90732804,\n",
              "         0.58312442,  0.19085547,  0.98925926],\n",
              "       [-0.99999207, -0.99594525,  0.88506349, -0.99999001,  0.93484583,\n",
              "         0.99916708,  0.9940741 , -0.99455887],\n",
              "       [-0.23154603,  0.94671637, -0.99992379, -0.99769725, -0.72710839,\n",
              "        -0.98053198, -0.97426395, -0.91914583],\n",
              "       [ 0.99716018, -0.99558149,  0.0013105 ,  0.56400222,  0.99276235,\n",
              "        -0.77433597, -0.99181479, -0.90911392],\n",
              "       [-0.80914409,  0.99973605, -0.99999531, -0.99973379, -0.88463102,\n",
              "        -0.92185888, -0.99996079, -0.76281237]])"
            ]
          },
          "metadata": {},
          "execution_count": 23
        }
      ]
    },
    {
      "cell_type": "code",
      "source": [
        "import gensim.downloader\n",
        "glove_vectors = gensim.downloader.load('glove-twitter-200')     # GLoVE vectors trained on Twitter with dimension 200"
      ],
      "metadata": {
        "colab": {
          "base_uri": "https://localhost:8080/"
        },
        "id": "8uBMH-lIZWWc",
        "outputId": "41b32112-ee07-43e4-ae24-0ad4efa4885e"
      },
      "execution_count": null,
      "outputs": [
        {
          "output_type": "stream",
          "name": "stdout",
          "text": [
            "[==================================================] 100.0% 758.5/758.5MB downloaded\n"
          ]
        }
      ]
    },
    {
      "cell_type": "code",
      "source": [
        "!wget https://ai.stanford.edu/~amaas/data/sentiment/aclImdb_v1.tar.gz   # download\n",
        "!tar -xf aclImdb_v1.tar.gz                                              # unzip / untar"
      ],
      "metadata": {
        "colab": {
          "base_uri": "https://localhost:8080/"
        },
        "id": "5wgBPbW8Vnpz",
        "outputId": "f7669683-1b8a-48f7-bf09-ce9d77097981"
      },
      "execution_count": null,
      "outputs": [
        {
          "output_type": "stream",
          "name": "stdout",
          "text": [
            "--2022-02-10 11:23:48--  https://ai.stanford.edu/~amaas/data/sentiment/aclImdb_v1.tar.gz\n",
            "Resolving ai.stanford.edu (ai.stanford.edu)... 171.64.68.10\n",
            "Connecting to ai.stanford.edu (ai.stanford.edu)|171.64.68.10|:443... connected.\n",
            "HTTP request sent, awaiting response... 200 OK\n",
            "Length: 84125825 (80M) [application/x-gzip]\n",
            "Saving to: ‘aclImdb_v1.tar.gz’\n",
            "\n",
            "aclImdb_v1.tar.gz   100%[===================>]  80.23M  20.0MB/s    in 6.8s    \n",
            "\n",
            "2022-02-10 11:23:56 (11.7 MB/s) - ‘aclImdb_v1.tar.gz’ saved [84125825/84125825]\n",
            "\n"
          ]
        }
      ]
    },
    {
      "cell_type": "code",
      "source": [
        "import nltk\n",
        "nltk.download('stopwords')"
      ],
      "metadata": {
        "colab": {
          "base_uri": "https://localhost:8080/"
        },
        "id": "bHNvYdNaV3UY",
        "outputId": "abdd96ff-1252-4e86-cb90-d1b7d47e534e"
      },
      "execution_count": null,
      "outputs": [
        {
          "output_type": "stream",
          "name": "stdout",
          "text": [
            "[nltk_data] Downloading package stopwords to /root/nltk_data...\n",
            "[nltk_data]   Unzipping corpora/stopwords.zip.\n"
          ]
        },
        {
          "output_type": "execute_result",
          "data": {
            "text/plain": [
              "True"
            ]
          },
          "metadata": {},
          "execution_count": 5
        }
      ]
    },
    {
      "cell_type": "code",
      "source": [
        "import os\n",
        "import pandas as pd\n",
        "\n",
        "\n",
        "def load_samples(dir):\n",
        "    files = os.listdir(dir)\n",
        "    samples = []\n",
        "    for file in files:\n",
        "        with open(os.path.join(dir, file)) as f:\n",
        "            sample = ''.join(f.readlines())\n",
        "            samples.append(sample)\n",
        "    return samples\n",
        "\n",
        "train_pos_samples = load_samples('aclImdb/train/pos')\n",
        "train_neg_samples = load_samples('aclImdb/train/neg')\n",
        "val_pos_samples = load_samples('aclImdb/test/pos')\n",
        "val_neg_samples = load_samples('aclImdb/test/neg')\n",
        "\n",
        "train_samples = [(x, 1) for x in train_pos_samples] + [(x, 0) for x in train_neg_samples]\n",
        "val_samples = [(x, 1) for x in val_pos_samples] + [(x, 0) for x in val_neg_samples]\n",
        "\n",
        "df_train = pd.DataFrame(train_samples, columns=['text', 'label'])\n",
        "df_val = pd.DataFrame(val_samples, columns=['text', 'label'])"
      ],
      "metadata": {
        "id": "jCBdKPq_VskG"
      },
      "execution_count": null,
      "outputs": []
    },
    {
      "cell_type": "code",
      "source": [
        "from nltk.corpus import stopwords\n",
        "\n",
        "en_stopwords = set(stopwords.words('english'))      # make it a set for fast lookup O(1)"
      ],
      "metadata": {
        "id": "7NDbQLH4V10U"
      },
      "execution_count": null,
      "outputs": []
    },
    {
      "cell_type": "code",
      "source": [
        "import string\n",
        "import re\n",
        "\n",
        "def clean_and_tokenize(text):\n",
        "    text = text.lower()                     # lowercase\n",
        "    text = text.replace('<br />', '')       # remove line break token\n",
        "    tokens = text.split()                   # split into words / whitespace tokenize\n",
        "    tokens = [x for x in tokens if x not in en_stopwords]       # remove stopwords\n",
        "    text = ' '.join(tokens)                 # combine tokens into a sentence\n",
        "    for punc in string.punctuation:         # removing punctuations\n",
        "        text = text.replace(punc, ' ')\n",
        "    text = re.sub('\\s+', ' ', text)         # > 1 whitespace -> 1 whitespace\n",
        "    text = text.strip()\n",
        "    tokens = text.split()\n",
        "    tokens = [x for x in tokens if len(x) > 2]      # words > 2 characters\n",
        "    return tokens\n",
        "\n",
        "\n",
        "def tokens_to_vectors(tokens):\n",
        "    vecs = [glove_vectors[token] for token in tokens if token in glove_vectors]\n",
        "    return np.stack(vecs, axis=0)\n",
        "\n",
        "text = 'I caught this movie on my local movie channel, and i rather enjoyed watching the film. It has all the elements of a good teen film, and more - this film, aside from dealing with boys-girls relationships and sex and the like, also deals with the issue of steroid use by young people.'\n",
        "tokens = clean_and_tokenize(text)\n",
        "vecs = tokens_to_vectors(tokens)\n",
        "print(vecs.shape)\n",
        "vecs"
      ],
      "metadata": {
        "colab": {
          "base_uri": "https://localhost:8080/"
        },
        "id": "6oAG_1fLWEeX",
        "outputId": "5f1cfd9c-e6a9-4579-cbb1-d3f61ea73630"
      },
      "execution_count": null,
      "outputs": [
        {
          "output_type": "stream",
          "name": "stdout",
          "text": [
            "(28, 200)\n"
          ]
        },
        {
          "output_type": "execute_result",
          "data": {
            "text/plain": [
              "array([[-0.15818  ,  0.14474  , -0.048466 , ..., -0.032991 , -0.072195 ,\n",
              "        -0.13176  ],\n",
              "       [ 0.049906 ,  0.65401  , -0.16842  , ...,  0.14038  ,  0.26025  ,\n",
              "         0.13309  ],\n",
              "       [-0.47072  ,  0.24035  , -0.087093 , ...,  0.034878 , -0.037317 ,\n",
              "         0.12169  ],\n",
              "       ...,\n",
              "       [ 0.0033451,  0.18548  ,  0.11773  , ..., -0.080602 ,  0.13323  ,\n",
              "         0.10056  ],\n",
              "       [-0.30089  , -0.26255  , -0.05564  , ..., -0.2641   , -0.35714  ,\n",
              "        -0.90862  ],\n",
              "       [ 0.011112 ,  0.4785   , -0.092164 , ...,  0.11395  , -0.20854  ,\n",
              "         0.057258 ]], dtype=float32)"
            ]
          },
          "metadata": {},
          "execution_count": 8
        }
      ]
    },
    {
      "cell_type": "code",
      "source": [
        "train_sent_tokens = [clean_and_tokenize(x) for x in df_train['text'].tolist()]\n",
        "val_sent_tokens = [clean_and_tokenize(x) for x in df_val['text'].tolist()]\n",
        "\n",
        "train_vecs = [tokens_to_vectors(tokens) for tokens in train_sent_tokens]\n",
        "val_vecs = [tokens_to_vectors(tokens) for tokens in val_sent_tokens]"
      ],
      "metadata": {
        "id": "X1Y9kz2cYTIB"
      },
      "execution_count": null,
      "outputs": []
    },
    {
      "cell_type": "code",
      "execution_count": null,
      "metadata": {
        "colab": {
          "base_uri": "https://localhost:8080/"
        },
        "id": "fnl1w5jNZAP4",
        "outputId": "9b63c2ac-d6a8-4ad2-db4f-d970717329a7"
      },
      "outputs": [
        {
          "output_type": "execute_result",
          "data": {
            "text/plain": [
              "torch.Size([10, 256])"
            ]
          },
          "metadata": {},
          "execution_count": 25
        }
      ],
      "source": [
        "import torch\n",
        "from torch import nn\n",
        "\n",
        "\n",
        "class RNNLayer(nn.Module):\n",
        "    def __init__(self, in_features, out_features):\n",
        "        super().__init__()\n",
        "        self.weight_i = nn.Parameter(torch.zeros(in_features, out_features))\n",
        "        self.weight_h = nn.Parameter(torch.zeros(out_features, out_features))\n",
        "        self.weight_out = nn.Parameter(torch.zeros(out_features, out_features))\n",
        "        self.bias = nn.Parameter(torch.zeros(out_features))\n",
        "        self.activation = nn.Tanh()\n",
        "        self.out_features = out_features\n",
        "\n",
        "        # init weights\n",
        "        torch.nn.init.xavier_normal_(self.weight_i.data)\n",
        "        torch.nn.init.xavier_normal_(self.weight_h.data)\n",
        "        torch.nn.init.xavier_normal_(self.weight_out.data)\n",
        "\n",
        "    def forward(self, in_sequence):\n",
        "        seq_len = in_sequence.shape[0]                          # (num_tokens, input_emb_dim)\n",
        "        device = in_sequence.device\n",
        "        h = torch.zeros(self.out_features, device=device)       # 0-th hidden state = 0 (hidden_state_dim)\n",
        "\n",
        "        projected_i = torch.matmul(in_sequence, self.weight_i)  # (num_tokens, input_emb_dim)\n",
        "        output_sequence = torch.zeros(seq_len, self.out_features, device=device)        # allocate space\n",
        "\n",
        "        # recurrent logic\n",
        "        for i in range(seq_len):\n",
        "            projected_h = torch.matmul(self.weight_h, h)\n",
        "            h = self.activation(projected_i[i] + projected_h + self.bias)   # next_hidden_state = fn(input, prev_hidden_state)\n",
        "            output_sequence[i] = h\n",
        "\n",
        "        output_sequence = torch.matmul(output_sequence, self.weight_out)\n",
        "        return output_sequence\n",
        "\n",
        "layer = RNNLayer(200, 256)      # initialize the weights and build the model\n",
        "in_seq = torch.rand(10, 200)    # (num_tokens, input_emb_dim)\n",
        "layer(in_seq).shape             # (num_tokens, output_emb_dim)"
      ]
    },
    {
      "cell_type": "code",
      "source": [
        "class RNNModel(nn.Module):\n",
        "    def __init__(self, in_channels, num_channels):\n",
        "        super().__init__()\n",
        "        layers = []\n",
        "        for out_channels in num_channels:\n",
        "            layer = RNNLayer(in_channels, out_channels)\n",
        "            layers.append(layer)\n",
        "            in_channels = out_channels\n",
        "        self.layers = nn.Sequential(*layers)\n",
        "        self.linear = nn.Linear(in_channels, 1) # binary classification\n",
        "    \n",
        "    def forward(self, in_seq):\n",
        "        out_seq = self.layers(in_seq)       # (num_tokens, emb_dim)\n",
        "        out_vec = out_seq[-1].unsqueeze(0)      # last token's embedding = text's embeddings\n",
        "        # (emb_dim) -> (1, emb_dim)\n",
        "        out = self.linear(out_vec)      # (1, 1) 1 neuron: <0.5 negative, >0.5 positve\n",
        "        return out.squeeze()   # (1,)\n",
        "\n",
        "\n",
        "model = RNNModel(200, [512,512])\n",
        "torch.sigmoid(model(torch.rand(10,200)))"
      ],
      "metadata": {
        "colab": {
          "base_uri": "https://localhost:8080/"
        },
        "id": "pWbQMAn0ZFEd",
        "outputId": "87fd4e5a-6d31-4d77-b5aa-58d0066c8c36"
      },
      "execution_count": null,
      "outputs": [
        {
          "output_type": "execute_result",
          "data": {
            "text/plain": [
              "tensor(0.4811, grad_fn=<SigmoidBackward0>)"
            ]
          },
          "metadata": {},
          "execution_count": 29
        }
      ]
    },
    {
      "cell_type": "code",
      "source": [
        "from torch.utils.data import Dataset, DataLoader\n",
        "\n",
        "class ReviewDataset(Dataset):\n",
        "    def __init__(self, vectors, labels):\n",
        "        self.vectors = vectors\n",
        "        self.labels = labels\n",
        "\n",
        "    def __getitem__(self, idx):\n",
        "        return self.vectors[idx], self.labels[idx]\n",
        "\n",
        "    def __len__(self):\n",
        "        return len(self.vectors)\n",
        "\n",
        "train_ds = ReviewDataset(train_vecs, df_train['label'].tolist())\n",
        "val_ds = ReviewDataset(val_vecs, df_val['label'].tolist())\n",
        "\n",
        "# batching problem\n",
        "train_loader = DataLoader(train_ds, batch_size=1, shuffle=True)\n",
        "val_loader = DataLoader(val_ds, batch_size=1, shuffle=False)\n",
        "\n",
        "vec, label = train_ds[13000]\n",
        "print(vec.shape, label)"
      ],
      "metadata": {
        "colab": {
          "base_uri": "https://localhost:8080/"
        },
        "id": "uStvQ05VZHJy",
        "outputId": "bb52edb6-333c-4d8f-97c4-2489443a23c8"
      },
      "execution_count": null,
      "outputs": [
        {
          "output_type": "stream",
          "name": "stdout",
          "text": [
            "(250, 200) 0\n"
          ]
        }
      ]
    },
    {
      "cell_type": "code",
      "source": [
        "import torch.nn.functional as F\n",
        "from tqdm import tqdm\n",
        "\n",
        "\n",
        "device = 'cuda' if torch.cuda.is_available() else 'cpu'\n",
        "\n",
        "model = RNNModel(200, [512,512])\n",
        "model.to(device)\n",
        "\n",
        "optimizer = torch.optim.AdamW(model.parameters(), lr=1e-4)\n",
        "\n",
        "n_epochs = 10\n",
        "\n",
        "for i in range(n_epochs):\n",
        "    print(f'Epoch{i}')\n",
        "    pbar = tqdm(train_loader)\n",
        "    for vecs, labels in pbar:\n",
        "        vecs = vecs.to(device)\n",
        "        logits = model(vecs[0])\n",
        "        loss = F.binary_cross_entropy_with_logits(logits, labels[0].to(device).float())\n",
        "\n",
        "        optimizer.zero_grad()\n",
        "        loss.backward()\n",
        "        optimizer.step()\n",
        "\n",
        "        pbar.set_description(f'Loss: {loss.item():.4f}')"
      ],
      "metadata": {
        "colab": {
          "base_uri": "https://localhost:8080/",
          "height": 468
        },
        "id": "D7gqJnvTZPgP",
        "outputId": "12c9e910-6587-4b60-91f4-a8c21215d8db"
      },
      "execution_count": null,
      "outputs": [
        {
          "output_type": "stream",
          "name": "stdout",
          "text": [
            "Epoch0\n"
          ]
        },
        {
          "output_type": "stream",
          "name": "stderr",
          "text": [
            "Loss: 0.2581: 100%|██████████| 25000/25000 [43:24<00:00,  9.60it/s]\n"
          ]
        },
        {
          "output_type": "stream",
          "name": "stdout",
          "text": [
            "Epoch1\n"
          ]
        },
        {
          "output_type": "stream",
          "name": "stderr",
          "text": [
            "Loss: 0.2430:  33%|███▎      | 8165/25000 [14:02<28:57,  9.69it/s]\n"
          ]
        },
        {
          "output_type": "error",
          "ename": "KeyboardInterrupt",
          "evalue": "ignored",
          "traceback": [
            "\u001b[0;31m---------------------------------------------------------------------------\u001b[0m",
            "\u001b[0;31mKeyboardInterrupt\u001b[0m                         Traceback (most recent call last)",
            "\u001b[0;32m<ipython-input-21-eefd382e1bd2>\u001b[0m in \u001b[0;36m<module>\u001b[0;34m()\u001b[0m\n\u001b[1;32m     21\u001b[0m \u001b[0;34m\u001b[0m\u001b[0m\n\u001b[1;32m     22\u001b[0m         \u001b[0moptimizer\u001b[0m\u001b[0;34m.\u001b[0m\u001b[0mzero_grad\u001b[0m\u001b[0;34m(\u001b[0m\u001b[0;34m)\u001b[0m\u001b[0;34m\u001b[0m\u001b[0;34m\u001b[0m\u001b[0m\n\u001b[0;32m---> 23\u001b[0;31m         \u001b[0mloss\u001b[0m\u001b[0;34m.\u001b[0m\u001b[0mbackward\u001b[0m\u001b[0;34m(\u001b[0m\u001b[0;34m)\u001b[0m\u001b[0;34m\u001b[0m\u001b[0;34m\u001b[0m\u001b[0m\n\u001b[0m\u001b[1;32m     24\u001b[0m         \u001b[0moptimizer\u001b[0m\u001b[0;34m.\u001b[0m\u001b[0mstep\u001b[0m\u001b[0;34m(\u001b[0m\u001b[0;34m)\u001b[0m\u001b[0;34m\u001b[0m\u001b[0;34m\u001b[0m\u001b[0m\n\u001b[1;32m     25\u001b[0m \u001b[0;34m\u001b[0m\u001b[0m\n",
            "\u001b[0;32m/usr/local/lib/python3.7/dist-packages/torch/_tensor.py\u001b[0m in \u001b[0;36mbackward\u001b[0;34m(self, gradient, retain_graph, create_graph, inputs)\u001b[0m\n\u001b[1;32m    305\u001b[0m                 \u001b[0mcreate_graph\u001b[0m\u001b[0;34m=\u001b[0m\u001b[0mcreate_graph\u001b[0m\u001b[0;34m,\u001b[0m\u001b[0;34m\u001b[0m\u001b[0;34m\u001b[0m\u001b[0m\n\u001b[1;32m    306\u001b[0m                 inputs=inputs)\n\u001b[0;32m--> 307\u001b[0;31m         \u001b[0mtorch\u001b[0m\u001b[0;34m.\u001b[0m\u001b[0mautograd\u001b[0m\u001b[0;34m.\u001b[0m\u001b[0mbackward\u001b[0m\u001b[0;34m(\u001b[0m\u001b[0mself\u001b[0m\u001b[0;34m,\u001b[0m \u001b[0mgradient\u001b[0m\u001b[0;34m,\u001b[0m \u001b[0mretain_graph\u001b[0m\u001b[0;34m,\u001b[0m \u001b[0mcreate_graph\u001b[0m\u001b[0;34m,\u001b[0m \u001b[0minputs\u001b[0m\u001b[0;34m=\u001b[0m\u001b[0minputs\u001b[0m\u001b[0;34m)\u001b[0m\u001b[0;34m\u001b[0m\u001b[0;34m\u001b[0m\u001b[0m\n\u001b[0m\u001b[1;32m    308\u001b[0m \u001b[0;34m\u001b[0m\u001b[0m\n\u001b[1;32m    309\u001b[0m     \u001b[0;32mdef\u001b[0m \u001b[0mregister_hook\u001b[0m\u001b[0;34m(\u001b[0m\u001b[0mself\u001b[0m\u001b[0;34m,\u001b[0m \u001b[0mhook\u001b[0m\u001b[0;34m)\u001b[0m\u001b[0;34m:\u001b[0m\u001b[0;34m\u001b[0m\u001b[0;34m\u001b[0m\u001b[0m\n",
            "\u001b[0;32m/usr/local/lib/python3.7/dist-packages/torch/autograd/__init__.py\u001b[0m in \u001b[0;36mbackward\u001b[0;34m(tensors, grad_tensors, retain_graph, create_graph, grad_variables, inputs)\u001b[0m\n\u001b[1;32m    154\u001b[0m     Variable._execution_engine.run_backward(\n\u001b[1;32m    155\u001b[0m         \u001b[0mtensors\u001b[0m\u001b[0;34m,\u001b[0m \u001b[0mgrad_tensors_\u001b[0m\u001b[0;34m,\u001b[0m \u001b[0mretain_graph\u001b[0m\u001b[0;34m,\u001b[0m \u001b[0mcreate_graph\u001b[0m\u001b[0;34m,\u001b[0m \u001b[0minputs\u001b[0m\u001b[0;34m,\u001b[0m\u001b[0;34m\u001b[0m\u001b[0;34m\u001b[0m\u001b[0m\n\u001b[0;32m--> 156\u001b[0;31m         allow_unreachable=True, accumulate_grad=True)  # allow_unreachable flag\n\u001b[0m\u001b[1;32m    157\u001b[0m \u001b[0;34m\u001b[0m\u001b[0m\n\u001b[1;32m    158\u001b[0m \u001b[0;34m\u001b[0m\u001b[0m\n",
            "\u001b[0;31mKeyboardInterrupt\u001b[0m: "
          ]
        }
      ]
    },
    {
      "cell_type": "code",
      "source": [
        ""
      ],
      "metadata": {
        "id": "Ekga8_kwZSUD"
      },
      "execution_count": null,
      "outputs": []
    }
  ]
}