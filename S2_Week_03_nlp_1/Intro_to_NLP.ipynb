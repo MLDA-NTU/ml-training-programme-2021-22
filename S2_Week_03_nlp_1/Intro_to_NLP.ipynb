{
  "nbformat": 4,
  "nbformat_minor": 0,
  "metadata": {
    "colab": {
      "name": "Intro_to_NLP.ipynb",
      "provenance": [],
      "collapsed_sections": []
    },
    "kernelspec": {
      "name": "python3",
      "display_name": "Python 3"
    },
    "language_info": {
      "name": "python"
    }
  },
  "cells": [
    {
      "cell_type": "markdown",
      "source": [
        "# Introduction to NLP"
      ],
      "metadata": {
        "id": "l7S1ll9PnySw"
      }
    },
    {
      "cell_type": "code",
      "source": [
        "!pip -qq install wikipedia-api"
      ],
      "metadata": {
        "colab": {
          "base_uri": "https://localhost:8080/"
        },
        "id": "EzHKNn_WK9Oj",
        "outputId": "20c91a06-2c0e-44f3-fb53-73ba0005e9ec"
      },
      "execution_count": 1,
      "outputs": [
        {
          "output_type": "stream",
          "name": "stdout",
          "text": [
            "  Building wheel for wikipedia-api (setup.py) ... \u001b[?25l\u001b[?25hdone\n"
          ]
        }
      ]
    },
    {
      "cell_type": "code",
      "source": [
        "import wikipediaapi\n",
        "\n",
        "wiki_wiki = wikipediaapi.Wikipedia('en')\n",
        "wiki_page = wiki_wiki.page('Nanyang_Technological_University')\n",
        "text = wiki_page.text\n",
        "text"
      ],
      "metadata": {
        "colab": {
          "base_uri": "https://localhost:8080/",
          "height": 140
        },
        "id": "BusHm2OZLBKl",
        "outputId": "a12fbb36-87d2-44dd-e7a1-b16117ecac57"
      },
      "execution_count": 2,
      "outputs": [
        {
          "output_type": "execute_result",
          "data": {
            "application/vnd.google.colaboratory.intrinsic+json": {
              "type": "string"
            },
            "text/plain": [
              "'The Nanyang Technological University (NTU) is a national research university based in Singapore. It is the second oldest autonomous university in Singapore and is considered to be one of the top universities in the world. NTU is consistently ranked within the top 20 universities in the world according to most rankings, and is currently ranked 12th globally in the QS World University Rankings as of June 2021. It has also been ranked 1st amongst young universities by the QS World University Rankings since 2015 as of April 2021As a relatively large university, it has 23,951 full-time enrolled students and 3846 full-time teaching staff. \\nThe university is organised into several colleges and schools, including the College of Engineering, College of Science, Nanyang Business School, Lee Kong Chian School of Medicine, College of Humanities, Arts and Social Sciences, Graduate College, National Institute of Education, and S. Rajaratnam School of International Studies. NTU is also home to several Research Centres of Excellence such as the Earth Observatory of Singapore and Singapore Centre on Environmental Life Sciences Engineering. \\nNTU\\'s main campus covers 200 hectares (490 acres) of land, making it the largest university campus in Singapore. The primary campus grounds are located in the western part of Singapore, along 50 Nanyang Avenue. It also has two other campuses in Singapore\\'s healthcare and start-up districts, Novena and one-north respectively.\\n\\nHistory\\nNanyang University (1955–1980)\\nIn 1955, prior to Singapore\\'s independence from the British, Nanyang University was established south of the current Nanyang Technological University campus, with the centre of the present Yunnan Garden as its heart. Its administration building currently houses the Chinese Heritage Centre, a national monument.\\n\\nNanyang Technological Institute (1981–1991)\\nIn 1980, Nanyang University merged with the University of Singapore to form the current National University of Singapore. In complement, Nanyang Technological Institute (NTI), a tertiary institution affiliated to the National University of Singapore, was formed to take over Nanyang University\\'s campus in 1981.Nanyang Technological Institute (NTI) was set up on 1 August 1981 with a charter to train three-quarters of Singapore’s engineers.\\nWhen NTI started in 1982, it had a total student population of 582 in three engineering disciplines – civil and structural, electrical and electronic, and mechanical and production engineering. By 1990, the institute’s undergraduate student population had grown to 6,832. The first two graduate students were admitted in 1986.\\nThree engineering schools were added, and the School of Accountancy from the National University of Singapore was transferred to NTI in 1987. A school of applied science was also started. In 1990, the government announced that the Institute of Education would be merged with the College of Physical Education to form the National Institute of Education and that it would be part of the new NTU upon its establishment in 1991.\\n\\nPresent form\\nIn 1991, NTI merged with the National Institute of Education (NIE) (founded in 1950) to form the Nanyang Technological University (NTU). The alumni rolls of the former Nanyang University were transferred to NTU in 1996. Historically, Nanyang Technological University admitted students jointly with the affiliated National University of Singapore and charged the same fees. Students made only one application and they would be accepted by either university. This arrangement ended in 2004 as both universities began to distinguish themselves with an end of its official affiliation. Currently, students apply separately to both universities.NTU became autonomous in 2006 and stands as one of the two largest public universities in Singapore today.NTU is currently a collaborative member of Singapore International Graduate Award for PhD applicants worldwide, which comprises Agency for Science, Technology & Research (A*STAR), the Nanyang Technological University (NTU), the National University of Singapore (NUS) and the Singapore University of Technology and Design (SUTD).\\n\\nCampuses\\nLandscape and Architecture\\nNTU has been listed as one of the World\\'s Most Beautiful Universities, featuring the ADM building in the report.\\nIt has also been listed in \"The 10 most beautiful universities in East Asia\", featuring the Learning Hub building.\\nDuring NTI period between 1981 and 1982, the main campus layout including the building complex, the so-called North Spine, has been designed by a world-renowned Japanese architect, who is also 1987 Pritzker Prize winner, Kenzō Tange. The North Spine has been officially opened in 1986. The ADM building, featured in \"Travel + Lesiure\" report, has been designed by a young Singaporean architect Lee Cheng Wee.\\n The Learning Hub building, also called the Hive, featured in \"Times Higher Education\" report, has been designed by a British designer Thomas Heatherwick.\\n\\nYunnan Garden Campus\\nThe main campus of Nanyang Technological University is the 200-hectare (2.0 km2; 0.77 sq mi) Yunnan Garden Campus (Chinese: 云南园) which is situated adjacent to the town of Jurong West. It is the largest university campus on the island of Singapore, housing Singapore\\'s largest on-campus residence infrastructure including 24 halls of residence for undergraduates and two graduate halls.\\nThe campus grounds were originally donated by the Singapore Hokkien Association to Nanyang University. In 1981, the Nanyang University grounds were granted to the Nanyang Technological Institute, a newly formed English-medium engineering college. With the formation of the NTU through NTI\\'s merger with the National Institute of Education (NIE), the grounds were then presented to the university.\\nThe former Nanyang University administration building was restored into the Chinese Heritage Centre and was gazetted as a national monument in 1998 – now overlooking the Yunnan Garden. As of 2019, the Yunnan Garden is undergoing major renovations that will be completed in 2021. However some of it has been partially opened to the public in early 2020 The Nanyang University Memorial and original Nanyang University Arch were also declared national monuments of Singapore in 1998. The NTU Art & Heritage Museum is an approved public museum under the National Heritage Board’s Approved Museum Scheme; benefactors who donate artworks and artefacts to NTU enjoy double tax deductions. There is a small lake between the Chinese Heritage Centre and Hall of Residence 4 called Nanyang Lake. Only members of NTU Anglers\\' Club permit holder, the fishing club at NTU, are allowed to fish in this lake.The campus also served as the Youth Olympic Village for the inaugural Youth Olympic Games in 2010.\\n\\nNovena Campus\\nA third campus, Novena Campus, is situated close to LKCMedicine’s partner teaching hospital, Tan Tock Seng Hospital in downtown Novena for medical teaching and research at the Lee Kong Chian School of Medicine. The new 20-storey Clinical Sciences Building was completed in 2016. The CSB is home to LKCMedicine researchers, with the laboratories interconnected through collaborative spaces.\\n\\nUndergraduate halls\\nNTU has 23 Halls of Residence for undergraduates, each with a capacity of between 500 and 659 residents. They accommodate 14,000 local and international students, with every freshman guaranteed a hostel room. All halls are co-ed by floor or wing and offer single and double occupancy rooms. Double rooms are shared by residents of the same gender.\\nEvery hall has communal facilities like lounges, air-conditioned reading rooms, pantries and laundry rooms with washing machines and dryers. Presently, freshmen students will be guaranteed a room for two years.\\n\\nTransportation\\nTransportation to and around NTU is provided by means of campus shuttle buses. The Campus Loop Red and Blue services circle the campus, while the Campus Rider service connects the campus to the Pioneer MRT station.\\n\\nColleges and schools\\nNTU is organised into several colleges and schools, each corresponding to different fields of study. The founding colleges include the College of Engineering, Nanyang Business School, Wee Kim Wee School of Communication and Information, and the National Institute of Education, which have been part of NTU since its inception in 1991.\\nMore recently, NTU has established additional schools for the Biological Sciences (2001), Humanities and Social Sciences (2004), Physical & Mathematical Sciences (2005), S. Rajaratnam School of International Studies (2007), and Art, Design and Media (2009). In 2013, NTU and Imperial College London jointly established a new medical school, the Lee Kong Chian School of Medicine, which is based in the Novena campus along 11 Mandalay Road. In October 2016, the university announced that Humanities and Social Sciences would be expanded into two separate schools, namely the School of Humanities and the School of Social Sciences.\\n\\nNanyang Business School\\nNanyang Business School (NBS) is the largest business school in Singapore with over 6,800 undergraduates and postgraduates. It is also the No.1 business school in Singapore and 3rd in the Asia-Pacific region according to the Financial Times. For 13 consecutive years since 2004, the Nanyang MBA has been ranked the best in Singapore according to The Economist. NBS has more than 160 professors from more than 20 countries, proficient in 30 languages holding doctorates from the most renowned universities in the world. This makes NBS one of the largest business schools in the world in terms of faculty strength.NBS is the only business school in Singapore to offer the 3-year direct-honours single degree programme in Business or Accountancy. Its widely popular double degree programme in Accountancy and Business can be completed within 3.5 – 4 years, and the newly introduced integrated Bachelor & Master\\'s programme takes 4 years to complete. Students enrolled into the Business programme are allowed to specialise in their penultimate year of study in one of six areas, namely: Actuarial Science, Banking & Finance, Business Analytics, Human Resource Consulting, Marketing, Risk Management and Insurance. Those who choose to major in Banking & Finance have the added option to choose one of three specialised tracks which include \\'Platform-based Learning\\' and \\'International Trading\\'. NBS also houses the 165-square meter Centre for Applied Financial Education, the largest finance lab in Singapore. The new lab is equipped with 60 dedicated Thomson Reuters Eikon terminals with Datastream, along with 24 Bloomberg terminals that will allow business school students to access all kinds of real-time financial, economic and business news information.\\n\\nCollege of Humanities, Arts, and Social Sciences\\nHASS consists of four schools:\\n\\nThe Wee Kim Wee School of Communication and Information is a school of communication studies and offers courses in Journalism, Broadcast, Advertising, Communication Policy and Information Studies. It originally established in 1992 and it was named after Singapore\\'s former president Wee Kim Wee in 2006.\\nThe School of Art, Design and Media is Singapore\\'s first professional art school and offers an undergraduate programmes in Art, Design, and Media, as well as graduate degrees in arts research. Its building, which features a sloping grassy roof surrounding a central courtyard, is frequently featured in NTU\\'s promotional materials. NTU called for a design competition which drew entries from well-known architects. A young Singaporean architect\\'s design proposal emerged as the winner. ADM is the brainchild of a Singaporean architect, Lee Cheng Wee. About a decade later, he designed the centre-piece of Q-Plex in Shenzhen, China, with similar style.\\nIn 2016, NTU announced that they will be splitting the School of Humanities and Social Sciences to 2 separate colleges: the School of Humanities (SOH) and School of Social Sciences (SSS) – to accommodate the rising intake of students.The School of Humanities which offers programmes in a wide variety of fields including Chinese, English Literature, History, Linguistics & Multilingual Studies and Philosophy.\\nThe School of Social Sciences which offers Economics, Psychology, Public Policy and Sociology.\\n\\nCollege of Engineering\\nThe College of Engineering is NTU\\'s largest subdivision.  It claimed to be the world\\'s largest engineering college, with a student population of more than 10,500 undergraduates and 3,500 graduates. It consists of six schools (Chemical and Biomedical, Civil and Environmental, Computer Science and Engineering, Electrical and Electronic, Materials Science, Mechanical and Aerospace) focused on technology and innovation.\\nThe college offers a rich array of multidisciplinary programmes and specialisations in traditional engineering disciplines and beyond. In addition to the 12 single degree programmes, the college also offers double degrees, double majors and integrated programmes as well as the only aerospace engineering programme in Singapore.\\n\\nCollege of Science\\nToday, the college consists of three schools and is home to about 150 faculty members, 340 research staff, 110 administrative and technical staff, 4,000 undergraduate and 750 graduate students.\\n\\nThe School of Biological Sciences was established in 2002 and offers a variety of programmes in the Biological Sciences and also a unique and innovative \"East meets West\" double degree programme in Biomedical Sciences and Traditional Chinese Medicine with the Beijing University of Chinese Medicine in China. Students may also pursue a second major in Food Science and Technology, which is in conjunction with Wageningen University in the Netherlands, to gain understanding about food processes with an engineering and industrial point of view.\\nThe School of Physical and Mathematical Sciences was established in 2005 and offers various disciplines in Physics, Chemistry, Mathematics. Students also have the choice of several multidisciplinary programmes such as Chemistry and Biological Chemistry with a second major in Food Science and Technology and/or with optional concentrations in current topics such as Green Chemistry and Nanotechnology, Physics with a second major in Mathematical Sciences and the combined major in Mathematics and Economics.\\nThe Asian School of the Environment is a new interdisciplinary School established in 2015 to focus on Asian environmental challenges, integrating Earth systems, environmental life sciences, ecology, and the social sciences to address key issues of the environment and sustainability. Strong interdisciplinary links between ASE and the Singapore Centre on Environmental Life Sciences Engineering (SCELSE), the Earth Observatory of Singapore (EOS) and the Complexity Institute provide a community for tackling large research questions.\\n\\nLee Kong Chian School of Medicine\\nIn 2010, NTU announced the formation of a pro-tem governing board to guide the establishment of the Lee Kong Chian School of Medicine, a collaboration with Imperial College London. The medical college was established in 2013. Prior to its opening in 2013, the school received record donations of S$400 million, including S$150 million from the Lee Foundation. The School’s primary clinical partner is the National Healthcare Group.\\n\\nGraduate College\\nNTU\\'s Graduate College was formed on 1 August 2018 and is in charge of graduate programmes in NTU. One focus of the graduate college is the Interdisciplinary Graduate Programme (IGP), which leverages on professors from multiple schools or colleges in NTU to undertake interdisciplinary research and to act as advisors for IGP PhD students. Another focus of the graduate college is the Industrial Postgraduate Programme (IPP), which leverages on partnering industry companies to undertake industrial research and to act as advisors for IPP PhD students.\\n\\nNational Institute of Education\\nThe National Institute of Education (NIE), occupying 16 hectares (0.16 km2; 40 acres) in the western part of NTU\\'s Yunnan Garden campus, is Singapore\\'s main teaching college and is run in close collaboration with Singapore\\'s Ministry of Education. Full-time teachers in Singapore\\'s public schools are required to complete a post-graduate diploma course at NIE, sponsored by Singapore\\'s Ministry of Education. NIE is also internationally acclaimed and provides educational consultancy to countries from Indonesia to UAE.\\n\\nS. Rajaratnam School of International Studies\\nThe S. Rajaratnam School of International Studies (RSIS), named after Singapore\\'s former Deputy Prime Minister and Minister for Foreign Affairs, offers graduate programmes in international relations and is an autonomous graduate institution of NTU. The school has the Institute of Defence and Strategic Studies—long recognised as a world authority on strategic studies and terrorism. RSIS was ranked second among university-affiliated think tanks in Asia in the 2011 Global Go-To Think Tank Rankings.\\n\\nResearch institutes and centres\\nNTU hosts two Research Centres of Excellence (RCE).\\nThe Singapore Centre on Environmental Life Sciences Engineering (SCELSE) is a unique interdisciplinary Research Centre of Excellence (RCE), funded by National Research Foundation, Singapore Ministry of Education, Nanyang Technological University and National University of Singapore. Hosted by the NTU in partnership with NUS, SCELSE is linking new insights from the Life Sciences with expertise from the emerging technologies in Engineering and Natural Sciences to understand, harness and control microbial biofilm communities. The union of these fields has established a new discipline of Environmental Life Sciences Engineering.\\nThe Earth Observatory of Singapore (EOS) is an autonomous research institute specialising in Earth Sciences and conducts fundamental research on earthquakes, volcanoes, tsunamis & climate change in and around Southeast Asia, towards safer and more sustainable societies.\\n\\nClubs and communities\\nCurrently, there are more than 100 student organisations in NTU. These include Constituent Clubs, Non-Constituent Clubs, Academic Clubs, Cultural Club, Welfare Society, Sports Club, Arts Club and clubs for various religion and interests. Many students also take part in sports, recreational games and performing arts activities within the residential hall communities.\\n\\nUniversity rankings\\nQS World University Rankings\\nNTU was ranked 11th in the world and 3rd in Asia in the 2020 QS World University Rankings. NTU also came in overall 1st in the world in the ranking of young universities for five consecutive years in the QS Top 50 Under 50 rankings from 2015 to 2019. In 2011, NTU became the first university in Asia to receive the maximum five stars under the QS Stars evaluation system, and the only one in Singapore to date.QS World University Rankings by Broad Subject Area and Specific Subject\\nIn 2017, NTU\\'s Engineering and Technology was ranked 4th in the world and 1st in Asia by the QS World University Rankings by Broad Subject Area – Engineering and Technology 2017. NTU also has a research citation that is among the top four in the world, with its research output being ranked among the top three universities globally in Engineering by Essential Science Indicators of Thomson Reuters. In the 2017 QS World University Rankings by Broad Subject Area, NTU is ranked 22nd in the world for Social Sciences and Management for three consecutive years. Social Sciences and Management includes the Wee Kim Wee School of Communication and Information, National Institute of Education, Nanyang Business School and School of Social Sciences. In the field of Natural Sciences, NTU\\'s College of Science is ranked 17th in the world, a drop of 2 places from the previous year, while Arts & Humanities (consisting of the School of Humanities and School of Art, Design and Media) is ranked 51st globally, a drop of 6 places from the previous year.\\nIn the 2017 QS World University Rankings by subjects published, NTU had 19 subjects in the world\\'s top 50, with two subjects in the global top 10. It also came in first in Asia for Materials Science and Electronic Engineering.\\nTimes Higher Education World University Rankings\\nNTU is ranked 4th in Asia in the Times Higher Education Asia University Rankings 2017, a drop of 2 places from the previous year. In 2017, NTU rose to 52nd position worldwide in the Times Higher Education World University Rankings with strong scores in all the categories measured, particularly for research, citations, international outlook as well as industry income and innovation. As a result, NTU rocketed a total of 122 places since 2011 in the THE rankings. NTU is also ranked 3rd best among the global young universities under 50 years old, a drop of 1 place from the previous year.Academic Ranking of World Universities and other rankings\\nIndependently, the 2017 Academic Ranking of World Universities published by the Shanghai Ranking Consultancy that ranks universities\\' research performance and places a high weightage on the number of Nobel Prizes and Fields Medals won by a university’s alumni and faculty placed NTU 115th worldwide and 2nd in Singapore. NTU president Bertil Andersson had voiced out in 2015 that the ARWU ranking methodology is inherently biased against young universities like NTU. Nevertheless, in the same ranking, ARWU places NTU\\'s engineering faculty at No.2 in the world.NTU\\'s Nanyang Business School is Singapore\\'s top business school, having ranked 24th worldwide in the 2017 Financial Times Global MBA Rankings. For the 13th straight year, Nanyang Business School has been ranked the best in Singapore by The Economist. Also, NBS is placed 10th worldwide in the Financial Times\\' (FT) rankings of the world’s top 100 Executive MBA (EMBA) programmes. Accounting research at NBS is rated 7th in the world and remained No. 1 in Asia by the Brigham Young University (BYU) Accounting Research Rankings released in April 2014. NTU Tan Hun Tong is currently the world\\'s top accounting researcher for the third year running while Clive Lennox is ranked 7th in the world and 2nd in Asia. Notably, Vijay Sethi was voted the world\\'s best business professor as the sole recipient of the prestigious Business Professor of the Year award from The Economist Intelligence Unit (EIU) in March 2013, beating top business professors from Harvard Business School, Wharton Business School and London Business School.The S. Rajaratnam School of International Studies has been ranked second among university-affiliated think-tanks in Asia and 22nd internationally.\\n\\nNotable alumni\\nPublic service and civil society\\nInternational\\nMajor Agus Harimurti Yudhoyono – Indonesian National Armed Forces, Chief of Operations in Kostrad, son of Susilo Bambang Yudhoyono\\nThet Thet Khine – Union Minister of Ministry of Social Welfare, Relief and Resettlement of Myanmar.\\nGen. Tito Karnavian – Indonesian National Police, former Head of Detachment 88, elite anti terror group in Indonesian police, former head of Jakarta Regional Police Division, now head of Indonesian National Police.\\n\\nSingapore\\nCurrent Members of Parliament (MP)\\nMasagos Zulkifli – MP for Tampines GRC, Minister for Environment & Water Resources\\nLow Yen Ling – MP for Chua Chu Kang GRC, Parliamentary Secretary\\nSim Ann – MP for Holland-Bukit Timah GRC, Minister of State\\nZaqy Mohamad – MP for Marsiling-Yew Tee GRC, Senior Minister of State\\nMelvin Yong – MP for Radin Mas SMC, Assistant Secretary General National Trades Union Congress\\nCheryl Chan – MP for East Coast GRC\\nYip Hon Weng – MP for Yio Chu Kang SMC\\nWan Rizal Wan Zakariah – MP for Jalan Besar GRC\\nNg Ling Ling – MP for Ang Mo Kio GRC, former managing director of Community Chest and 2018 Her World Woman of the Year\\nDarryl David – MP for Ang Mo Kio GRC\\nDerrick Goh – MP for Nee Soon GRC\\nAng Wei Neng – MP for West Coast GRC\\nDesmond Tan Kok Ming – MP for Pasir Ris-Punggol GRC\\nGerald Giam Yean Song – MP for Aljunied GRC\\n\\nRetired Politicians\\nAng Mong Seng PAP – Former MP for Bukit Gombak SMC\\nIntan Azura Mokhtar PAP – Former MP for Ang Mo Kio GRC, Assistant Professor at National Institute of Education\\nLee Bee Wah PAP – Former MP for Nee Soon GRC\\nInderjit Singh PAP – Former MP for Ang Mo Kio GRC\\nTeo Ser Luck PAP – Former MP for Pasir Ris-Punggol GRC, Mayor and Minister of State\\nYu-Foo Yee Shoon PAP – Former MP for Yuhua SMC and Minister of State\\nR SinnakaruppanPAP – Former MP and first Students\\' Union President\\nLow Thia KhiangWP – Former MP for Hougang SMC and Aljunied GRC, former Secretary-General of the Workers\\' Party of Singapore\\nYee Jenn JongWP – Former Non-Constituency Member of Parliament\\nCheo Chai Chen SDP – former MP of Nee Soon Central SMC\\nSebastian Teo Kway Huang NSP– President of the National Solidarity Party\\n\\nBusiness and technology\\nTan Chin Hwee – CEO of Trafigura\\nChade-Meng Tan – Jolly Good Fellow, Google Inc\\nChinmay Malaviya – CEO and co-founder of RidePanda. Ex-CEO and co-founder of FoodPanda.\\n\\nAcademia and research\\nShirley Meng – Professor of NanoEngineering at University of California, San Diego and two-time laureate of the Blavatnik Awards for Young Scientists\\nYew-Kwang Ng – Albert Winsemius Professor of Economics at NTU and Emeritus Professor in Department of Economics, Monash University\\n\\nArts and humanities\\nHo Ho Ying – Abstract artist.\\nLiang Wern Fook – Composer, poet and essayist.\\nSarah Choo Jing – Multidisciplinary fine artist.\\nZihan Loo – film director, actor, dancer.\\nQuek See Ling – Poet, writer, Chinese ink painter and editor.\\n\\nMedia and entertainment\\nSports\\nDipna Lim Prasad – National Hurdler\\nC Kunalan – Former National Sportsman, and Educator at the National Institute of Education\\nCalvin Kang Li Loong – National Sprinter\\nLee Wung Yew – Multiple SEA Games gold medallist in shooting.\\n\\nNotable faculty\\nMedicine, science and engineering\\nBertil Andersson – Biochemistry\\nFreddy Boey – Materials Engineering\\nBalazs Gulyas – Neuroscience\\nPhilip Ingham – Zebrafish models for Human diseases\\nDaniela Rhodes – Structural and Molecular Biology\\nKerry Sieh – Geology and Seismology\\nRudolph A. Marcus – Nobel Laureate in Chemistry 1992\\nGeorge James Augustine –  Irene Tan Liang Kheng Chair Professor in Neuroscience\\n\\nHumanities and social sciences\\nGrace Chia – Literature\\nLiang Wern Fook – Chinese Studies, Mandopop singer-songwriter, Xinyao pioneer\\nNadia Magnenat Thalmann – Computer graphics\\n\\nBusiness and technology\\nVijay Sethi – First Economist Intelligence Unit Business Professor of the Year\\n\\nWee Kim Wee School of Communication and Information\\nJoseph Walther – Communication theorist\\nRichard Ling (ret.) – Social consequences of mobile communication\\n\\nS. Rajaratnam School of International Studies\\nFarish A. Noor – Political Scientist and Historian\\n\\nControversies & Incidents\\nRenaming controversy\\nAlthough NTU occupies the grounds of the former Nanyang University (NU), and has a similar name, it is not a direct continuation of that institution. In 1980, the Government of Singapore forcibly merged Nanyang University with the University of Singapore to form the present-day National University of Singapore (NUS).  This was a source of significant discontent amongst NU students and alumni, because NU had been a Chinese-medium university, whereas the newly merged NUS was (and is) an English-medium university.\\nAs NTU subsequently grew into a full university, various efforts were made to have it claim the Nanyang University mantle. In 1996, the alumni rolls of Nanyang University were transferred from NUS to NTU. In 1998, the prominent local calligrapher and poet Pan Shou, who had been the first vice-chancellor of Nanyang University, called for NTU to be renamed Nanyang University, as a way to \"quieten the hearts of many\" NU alumni. In 2003, this idea received further support from NTU president Su Guaning, during an interview with the Chinese-language paper Lianhe Zaobao. One reason offered for the renaming was that, by the mid-2000s, NTU no longer had a narrow focus on technical subjects, but had become a full university including studies in the humanities.\\nThe renaming plans encountered push-back with a straw poll which NU alumni came out strongly against the idea and respondents complained that NTU could not provide \"continuity\" for the \"murdered\" Nanyang University.\\n\\nTenural denial to Cherian George\\nIn 2013, there was a debate over academic freedom in Singapore when Cherian George, an outspoken academic at the Wee Kim Wee School of Communications who had publicly criticised Singapore\\'s system of media control and its ruling People’s Action Party, did not get tenured. Although George had been recommended for tenure by the Wee Kim Wee School, his application was turned down by a university-level committee which included representatives from the Government of Singapore. One of the reviewers for the tenure case, Cardiff University\\'s Karin Wahl-Jorgensen, expressed outrage at NTU\\'s decision, and George\\'s thesis advisor, Stanford University\\'s Theodore Glasser, raised doubts about \"NTU\\'s reputation as a university of international standing\" and \"NTU\\'s commitment to academic freedom\". Despite a petition against the tenure decision by students at the Wee Kim Wee School, George\\'s appeal against the tenure decision was subsequently rejected by the university.\\n\\nReduced University student housing during COVID-19 pandemic\\nIn July 2021, NTU rejected some students\\' applications for on-campus hostel accommodations, citing a need to \"reserve a certain number for Covid-19 isolation and other related purposes\". The university claimed that the rejections were due to a shortage of housing facilities, which at full capacity was still unable to house every applicant, as rooms were oversubscribed. Even at full capacity, hostel accommodation was still short of more than 1,200 rooms for students.The application rejections resulted in concern among NTU\\'s international student population, who were told to vacate their rooms in 2 weeks. This also resulted in many returning second-year students enrolled in AY20/21 not being granted campus accommodation despite the university\\'s much-publicised policy of guaranteeing all incoming students with a minimum of two years of on-campus accommodation.An online petition by students in support of international students and incoming freshmen students who were initially promised accommodations garnered traction, gaining over 5,500 signatories. NTU reversed their decision on 2 July 2021, prioritising on-campus accommodations for international students that resided on campus at the time, students under scholarship programmes with guaranteed housing, and all Year 1 and 2 students under the guaranteed hall stay policy.\\n\\nReferences\\nExternal links\\nOfficial website'"
            ]
          },
          "metadata": {},
          "execution_count": 2
        }
      ]
    },
    {
      "cell_type": "markdown",
      "source": [
        "## Text structure"
      ],
      "metadata": {
        "id": "2wEwiygGldtd"
      }
    },
    {
      "cell_type": "code",
      "source": [
        "# corpus = a collection of documents"
      ],
      "metadata": {
        "id": "q01gnF7gYUhV"
      },
      "execution_count": null,
      "outputs": []
    },
    {
      "cell_type": "code",
      "source": [
        "# document\n",
        "text"
      ],
      "metadata": {
        "colab": {
          "base_uri": "https://localhost:8080/",
          "height": 140
        },
        "id": "ioj8zan3KALu",
        "outputId": "3d5a641b-3b5b-4c05-8d93-d96652c71c4b"
      },
      "execution_count": 4,
      "outputs": [
        {
          "output_type": "execute_result",
          "data": {
            "application/vnd.google.colaboratory.intrinsic+json": {
              "type": "string"
            },
            "text/plain": [
              "'The Nanyang Technological University (NTU) is a national research university based in Singapore. It is the second oldest autonomous university in Singapore and is considered to be one of the top universities in the world. NTU is consistently ranked within the top 20 universities in the world according to most rankings, and is currently ranked 12th globally in the QS World University Rankings as of June 2021. It has also been ranked 1st amongst young universities by the QS World University Rankings since 2015 as of April 2021As a relatively large university, it has 23,951 full-time enrolled students and 3846 full-time teaching staff. \\nThe university is organised into several colleges and schools, including the College of Engineering, College of Science, Nanyang Business School, Lee Kong Chian School of Medicine, College of Humanities, Arts and Social Sciences, Graduate College, National Institute of Education, and S. Rajaratnam School of International Studies. NTU is also home to several Research Centres of Excellence such as the Earth Observatory of Singapore and Singapore Centre on Environmental Life Sciences Engineering. \\nNTU\\'s main campus covers 200 hectares (490 acres) of land, making it the largest university campus in Singapore. The primary campus grounds are located in the western part of Singapore, along 50 Nanyang Avenue. It also has two other campuses in Singapore\\'s healthcare and start-up districts, Novena and one-north respectively.\\n\\nHistory\\nNanyang University (1955–1980)\\nIn 1955, prior to Singapore\\'s independence from the British, Nanyang University was established south of the current Nanyang Technological University campus, with the centre of the present Yunnan Garden as its heart. Its administration building currently houses the Chinese Heritage Centre, a national monument.\\n\\nNanyang Technological Institute (1981–1991)\\nIn 1980, Nanyang University merged with the University of Singapore to form the current National University of Singapore. In complement, Nanyang Technological Institute (NTI), a tertiary institution affiliated to the National University of Singapore, was formed to take over Nanyang University\\'s campus in 1981.Nanyang Technological Institute (NTI) was set up on 1 August 1981 with a charter to train three-quarters of Singapore’s engineers.\\nWhen NTI started in 1982, it had a total student population of 582 in three engineering disciplines – civil and structural, electrical and electronic, and mechanical and production engineering. By 1990, the institute’s undergraduate student population had grown to 6,832. The first two graduate students were admitted in 1986.\\nThree engineering schools were added, and the School of Accountancy from the National University of Singapore was transferred to NTI in 1987. A school of applied science was also started. In 1990, the government announced that the Institute of Education would be merged with the College of Physical Education to form the National Institute of Education and that it would be part of the new NTU upon its establishment in 1991.\\n\\nPresent form\\nIn 1991, NTI merged with the National Institute of Education (NIE) (founded in 1950) to form the Nanyang Technological University (NTU). The alumni rolls of the former Nanyang University were transferred to NTU in 1996. Historically, Nanyang Technological University admitted students jointly with the affiliated National University of Singapore and charged the same fees. Students made only one application and they would be accepted by either university. This arrangement ended in 2004 as both universities began to distinguish themselves with an end of its official affiliation. Currently, students apply separately to both universities.NTU became autonomous in 2006 and stands as one of the two largest public universities in Singapore today.NTU is currently a collaborative member of Singapore International Graduate Award for PhD applicants worldwide, which comprises Agency for Science, Technology & Research (A*STAR), the Nanyang Technological University (NTU), the National University of Singapore (NUS) and the Singapore University of Technology and Design (SUTD).\\n\\nCampuses\\nLandscape and Architecture\\nNTU has been listed as one of the World\\'s Most Beautiful Universities, featuring the ADM building in the report.\\nIt has also been listed in \"The 10 most beautiful universities in East Asia\", featuring the Learning Hub building.\\nDuring NTI period between 1981 and 1982, the main campus layout including the building complex, the so-called North Spine, has been designed by a world-renowned Japanese architect, who is also 1987 Pritzker Prize winner, Kenzō Tange. The North Spine has been officially opened in 1986. The ADM building, featured in \"Travel + Lesiure\" report, has been designed by a young Singaporean architect Lee Cheng Wee.\\n The Learning Hub building, also called the Hive, featured in \"Times Higher Education\" report, has been designed by a British designer Thomas Heatherwick.\\n\\nYunnan Garden Campus\\nThe main campus of Nanyang Technological University is the 200-hectare (2.0 km2; 0.77 sq mi) Yunnan Garden Campus (Chinese: 云南园) which is situated adjacent to the town of Jurong West. It is the largest university campus on the island of Singapore, housing Singapore\\'s largest on-campus residence infrastructure including 24 halls of residence for undergraduates and two graduate halls.\\nThe campus grounds were originally donated by the Singapore Hokkien Association to Nanyang University. In 1981, the Nanyang University grounds were granted to the Nanyang Technological Institute, a newly formed English-medium engineering college. With the formation of the NTU through NTI\\'s merger with the National Institute of Education (NIE), the grounds were then presented to the university.\\nThe former Nanyang University administration building was restored into the Chinese Heritage Centre and was gazetted as a national monument in 1998 – now overlooking the Yunnan Garden. As of 2019, the Yunnan Garden is undergoing major renovations that will be completed in 2021. However some of it has been partially opened to the public in early 2020 The Nanyang University Memorial and original Nanyang University Arch were also declared national monuments of Singapore in 1998. The NTU Art & Heritage Museum is an approved public museum under the National Heritage Board’s Approved Museum Scheme; benefactors who donate artworks and artefacts to NTU enjoy double tax deductions. There is a small lake between the Chinese Heritage Centre and Hall of Residence 4 called Nanyang Lake. Only members of NTU Anglers\\' Club permit holder, the fishing club at NTU, are allowed to fish in this lake.The campus also served as the Youth Olympic Village for the inaugural Youth Olympic Games in 2010.\\n\\nNovena Campus\\nA third campus, Novena Campus, is situated close to LKCMedicine’s partner teaching hospital, Tan Tock Seng Hospital in downtown Novena for medical teaching and research at the Lee Kong Chian School of Medicine. The new 20-storey Clinical Sciences Building was completed in 2016. The CSB is home to LKCMedicine researchers, with the laboratories interconnected through collaborative spaces.\\n\\nUndergraduate halls\\nNTU has 23 Halls of Residence for undergraduates, each with a capacity of between 500 and 659 residents. They accommodate 14,000 local and international students, with every freshman guaranteed a hostel room. All halls are co-ed by floor or wing and offer single and double occupancy rooms. Double rooms are shared by residents of the same gender.\\nEvery hall has communal facilities like lounges, air-conditioned reading rooms, pantries and laundry rooms with washing machines and dryers. Presently, freshmen students will be guaranteed a room for two years.\\n\\nTransportation\\nTransportation to and around NTU is provided by means of campus shuttle buses. The Campus Loop Red and Blue services circle the campus, while the Campus Rider service connects the campus to the Pioneer MRT station.\\n\\nColleges and schools\\nNTU is organised into several colleges and schools, each corresponding to different fields of study. The founding colleges include the College of Engineering, Nanyang Business School, Wee Kim Wee School of Communication and Information, and the National Institute of Education, which have been part of NTU since its inception in 1991.\\nMore recently, NTU has established additional schools for the Biological Sciences (2001), Humanities and Social Sciences (2004), Physical & Mathematical Sciences (2005), S. Rajaratnam School of International Studies (2007), and Art, Design and Media (2009). In 2013, NTU and Imperial College London jointly established a new medical school, the Lee Kong Chian School of Medicine, which is based in the Novena campus along 11 Mandalay Road. In October 2016, the university announced that Humanities and Social Sciences would be expanded into two separate schools, namely the School of Humanities and the School of Social Sciences.\\n\\nNanyang Business School\\nNanyang Business School (NBS) is the largest business school in Singapore with over 6,800 undergraduates and postgraduates. It is also the No.1 business school in Singapore and 3rd in the Asia-Pacific region according to the Financial Times. For 13 consecutive years since 2004, the Nanyang MBA has been ranked the best in Singapore according to The Economist. NBS has more than 160 professors from more than 20 countries, proficient in 30 languages holding doctorates from the most renowned universities in the world. This makes NBS one of the largest business schools in the world in terms of faculty strength.NBS is the only business school in Singapore to offer the 3-year direct-honours single degree programme in Business or Accountancy. Its widely popular double degree programme in Accountancy and Business can be completed within 3.5 – 4 years, and the newly introduced integrated Bachelor & Master\\'s programme takes 4 years to complete. Students enrolled into the Business programme are allowed to specialise in their penultimate year of study in one of six areas, namely: Actuarial Science, Banking & Finance, Business Analytics, Human Resource Consulting, Marketing, Risk Management and Insurance. Those who choose to major in Banking & Finance have the added option to choose one of three specialised tracks which include \\'Platform-based Learning\\' and \\'International Trading\\'. NBS also houses the 165-square meter Centre for Applied Financial Education, the largest finance lab in Singapore. The new lab is equipped with 60 dedicated Thomson Reuters Eikon terminals with Datastream, along with 24 Bloomberg terminals that will allow business school students to access all kinds of real-time financial, economic and business news information.\\n\\nCollege of Humanities, Arts, and Social Sciences\\nHASS consists of four schools:\\n\\nThe Wee Kim Wee School of Communication and Information is a school of communication studies and offers courses in Journalism, Broadcast, Advertising, Communication Policy and Information Studies. It originally established in 1992 and it was named after Singapore\\'s former president Wee Kim Wee in 2006.\\nThe School of Art, Design and Media is Singapore\\'s first professional art school and offers an undergraduate programmes in Art, Design, and Media, as well as graduate degrees in arts research. Its building, which features a sloping grassy roof surrounding a central courtyard, is frequently featured in NTU\\'s promotional materials. NTU called for a design competition which drew entries from well-known architects. A young Singaporean architect\\'s design proposal emerged as the winner. ADM is the brainchild of a Singaporean architect, Lee Cheng Wee. About a decade later, he designed the centre-piece of Q-Plex in Shenzhen, China, with similar style.\\nIn 2016, NTU announced that they will be splitting the School of Humanities and Social Sciences to 2 separate colleges: the School of Humanities (SOH) and School of Social Sciences (SSS) – to accommodate the rising intake of students.The School of Humanities which offers programmes in a wide variety of fields including Chinese, English Literature, History, Linguistics & Multilingual Studies and Philosophy.\\nThe School of Social Sciences which offers Economics, Psychology, Public Policy and Sociology.\\n\\nCollege of Engineering\\nThe College of Engineering is NTU\\'s largest subdivision.  It claimed to be the world\\'s largest engineering college, with a student population of more than 10,500 undergraduates and 3,500 graduates. It consists of six schools (Chemical and Biomedical, Civil and Environmental, Computer Science and Engineering, Electrical and Electronic, Materials Science, Mechanical and Aerospace) focused on technology and innovation.\\nThe college offers a rich array of multidisciplinary programmes and specialisations in traditional engineering disciplines and beyond. In addition to the 12 single degree programmes, the college also offers double degrees, double majors and integrated programmes as well as the only aerospace engineering programme in Singapore.\\n\\nCollege of Science\\nToday, the college consists of three schools and is home to about 150 faculty members, 340 research staff, 110 administrative and technical staff, 4,000 undergraduate and 750 graduate students.\\n\\nThe School of Biological Sciences was established in 2002 and offers a variety of programmes in the Biological Sciences and also a unique and innovative \"East meets West\" double degree programme in Biomedical Sciences and Traditional Chinese Medicine with the Beijing University of Chinese Medicine in China. Students may also pursue a second major in Food Science and Technology, which is in conjunction with Wageningen University in the Netherlands, to gain understanding about food processes with an engineering and industrial point of view.\\nThe School of Physical and Mathematical Sciences was established in 2005 and offers various disciplines in Physics, Chemistry, Mathematics. Students also have the choice of several multidisciplinary programmes such as Chemistry and Biological Chemistry with a second major in Food Science and Technology and/or with optional concentrations in current topics such as Green Chemistry and Nanotechnology, Physics with a second major in Mathematical Sciences and the combined major in Mathematics and Economics.\\nThe Asian School of the Environment is a new interdisciplinary School established in 2015 to focus on Asian environmental challenges, integrating Earth systems, environmental life sciences, ecology, and the social sciences to address key issues of the environment and sustainability. Strong interdisciplinary links between ASE and the Singapore Centre on Environmental Life Sciences Engineering (SCELSE), the Earth Observatory of Singapore (EOS) and the Complexity Institute provide a community for tackling large research questions.\\n\\nLee Kong Chian School of Medicine\\nIn 2010, NTU announced the formation of a pro-tem governing board to guide the establishment of the Lee Kong Chian School of Medicine, a collaboration with Imperial College London. The medical college was established in 2013. Prior to its opening in 2013, the school received record donations of S$400 million, including S$150 million from the Lee Foundation. The School’s primary clinical partner is the National Healthcare Group.\\n\\nGraduate College\\nNTU\\'s Graduate College was formed on 1 August 2018 and is in charge of graduate programmes in NTU. One focus of the graduate college is the Interdisciplinary Graduate Programme (IGP), which leverages on professors from multiple schools or colleges in NTU to undertake interdisciplinary research and to act as advisors for IGP PhD students. Another focus of the graduate college is the Industrial Postgraduate Programme (IPP), which leverages on partnering industry companies to undertake industrial research and to act as advisors for IPP PhD students.\\n\\nNational Institute of Education\\nThe National Institute of Education (NIE), occupying 16 hectares (0.16 km2; 40 acres) in the western part of NTU\\'s Yunnan Garden campus, is Singapore\\'s main teaching college and is run in close collaboration with Singapore\\'s Ministry of Education. Full-time teachers in Singapore\\'s public schools are required to complete a post-graduate diploma course at NIE, sponsored by Singapore\\'s Ministry of Education. NIE is also internationally acclaimed and provides educational consultancy to countries from Indonesia to UAE.\\n\\nS. Rajaratnam School of International Studies\\nThe S. Rajaratnam School of International Studies (RSIS), named after Singapore\\'s former Deputy Prime Minister and Minister for Foreign Affairs, offers graduate programmes in international relations and is an autonomous graduate institution of NTU. The school has the Institute of Defence and Strategic Studies—long recognised as a world authority on strategic studies and terrorism. RSIS was ranked second among university-affiliated think tanks in Asia in the 2011 Global Go-To Think Tank Rankings.\\n\\nResearch institutes and centres\\nNTU hosts two Research Centres of Excellence (RCE).\\nThe Singapore Centre on Environmental Life Sciences Engineering (SCELSE) is a unique interdisciplinary Research Centre of Excellence (RCE), funded by National Research Foundation, Singapore Ministry of Education, Nanyang Technological University and National University of Singapore. Hosted by the NTU in partnership with NUS, SCELSE is linking new insights from the Life Sciences with expertise from the emerging technologies in Engineering and Natural Sciences to understand, harness and control microbial biofilm communities. The union of these fields has established a new discipline of Environmental Life Sciences Engineering.\\nThe Earth Observatory of Singapore (EOS) is an autonomous research institute specialising in Earth Sciences and conducts fundamental research on earthquakes, volcanoes, tsunamis & climate change in and around Southeast Asia, towards safer and more sustainable societies.\\n\\nClubs and communities\\nCurrently, there are more than 100 student organisations in NTU. These include Constituent Clubs, Non-Constituent Clubs, Academic Clubs, Cultural Club, Welfare Society, Sports Club, Arts Club and clubs for various religion and interests. Many students also take part in sports, recreational games and performing arts activities within the residential hall communities.\\n\\nUniversity rankings\\nQS World University Rankings\\nNTU was ranked 11th in the world and 3rd in Asia in the 2020 QS World University Rankings. NTU also came in overall 1st in the world in the ranking of young universities for five consecutive years in the QS Top 50 Under 50 rankings from 2015 to 2019. In 2011, NTU became the first university in Asia to receive the maximum five stars under the QS Stars evaluation system, and the only one in Singapore to date.QS World University Rankings by Broad Subject Area and Specific Subject\\nIn 2017, NTU\\'s Engineering and Technology was ranked 4th in the world and 1st in Asia by the QS World University Rankings by Broad Subject Area – Engineering and Technology 2017. NTU also has a research citation that is among the top four in the world, with its research output being ranked among the top three universities globally in Engineering by Essential Science Indicators of Thomson Reuters. In the 2017 QS World University Rankings by Broad Subject Area, NTU is ranked 22nd in the world for Social Sciences and Management for three consecutive years. Social Sciences and Management includes the Wee Kim Wee School of Communication and Information, National Institute of Education, Nanyang Business School and School of Social Sciences. In the field of Natural Sciences, NTU\\'s College of Science is ranked 17th in the world, a drop of 2 places from the previous year, while Arts & Humanities (consisting of the School of Humanities and School of Art, Design and Media) is ranked 51st globally, a drop of 6 places from the previous year.\\nIn the 2017 QS World University Rankings by subjects published, NTU had 19 subjects in the world\\'s top 50, with two subjects in the global top 10. It also came in first in Asia for Materials Science and Electronic Engineering.\\nTimes Higher Education World University Rankings\\nNTU is ranked 4th in Asia in the Times Higher Education Asia University Rankings 2017, a drop of 2 places from the previous year. In 2017, NTU rose to 52nd position worldwide in the Times Higher Education World University Rankings with strong scores in all the categories measured, particularly for research, citations, international outlook as well as industry income and innovation. As a result, NTU rocketed a total of 122 places since 2011 in the THE rankings. NTU is also ranked 3rd best among the global young universities under 50 years old, a drop of 1 place from the previous year.Academic Ranking of World Universities and other rankings\\nIndependently, the 2017 Academic Ranking of World Universities published by the Shanghai Ranking Consultancy that ranks universities\\' research performance and places a high weightage on the number of Nobel Prizes and Fields Medals won by a university’s alumni and faculty placed NTU 115th worldwide and 2nd in Singapore. NTU president Bertil Andersson had voiced out in 2015 that the ARWU ranking methodology is inherently biased against young universities like NTU. Nevertheless, in the same ranking, ARWU places NTU\\'s engineering faculty at No.2 in the world.NTU\\'s Nanyang Business School is Singapore\\'s top business school, having ranked 24th worldwide in the 2017 Financial Times Global MBA Rankings. For the 13th straight year, Nanyang Business School has been ranked the best in Singapore by The Economist. Also, NBS is placed 10th worldwide in the Financial Times\\' (FT) rankings of the world’s top 100 Executive MBA (EMBA) programmes. Accounting research at NBS is rated 7th in the world and remained No. 1 in Asia by the Brigham Young University (BYU) Accounting Research Rankings released in April 2014. NTU Tan Hun Tong is currently the world\\'s top accounting researcher for the third year running while Clive Lennox is ranked 7th in the world and 2nd in Asia. Notably, Vijay Sethi was voted the world\\'s best business professor as the sole recipient of the prestigious Business Professor of the Year award from The Economist Intelligence Unit (EIU) in March 2013, beating top business professors from Harvard Business School, Wharton Business School and London Business School.The S. Rajaratnam School of International Studies has been ranked second among university-affiliated think-tanks in Asia and 22nd internationally.\\n\\nNotable alumni\\nPublic service and civil society\\nInternational\\nMajor Agus Harimurti Yudhoyono – Indonesian National Armed Forces, Chief of Operations in Kostrad, son of Susilo Bambang Yudhoyono\\nThet Thet Khine – Union Minister of Ministry of Social Welfare, Relief and Resettlement of Myanmar.\\nGen. Tito Karnavian – Indonesian National Police, former Head of Detachment 88, elite anti terror group in Indonesian police, former head of Jakarta Regional Police Division, now head of Indonesian National Police.\\n\\nSingapore\\nCurrent Members of Parliament (MP)\\nMasagos Zulkifli – MP for Tampines GRC, Minister for Environment & Water Resources\\nLow Yen Ling – MP for Chua Chu Kang GRC, Parliamentary Secretary\\nSim Ann – MP for Holland-Bukit Timah GRC, Minister of State\\nZaqy Mohamad – MP for Marsiling-Yew Tee GRC, Senior Minister of State\\nMelvin Yong – MP for Radin Mas SMC, Assistant Secretary General National Trades Union Congress\\nCheryl Chan – MP for East Coast GRC\\nYip Hon Weng – MP for Yio Chu Kang SMC\\nWan Rizal Wan Zakariah – MP for Jalan Besar GRC\\nNg Ling Ling – MP for Ang Mo Kio GRC, former managing director of Community Chest and 2018 Her World Woman of the Year\\nDarryl David – MP for Ang Mo Kio GRC\\nDerrick Goh – MP for Nee Soon GRC\\nAng Wei Neng – MP for West Coast GRC\\nDesmond Tan Kok Ming – MP for Pasir Ris-Punggol GRC\\nGerald Giam Yean Song – MP for Aljunied GRC\\n\\nRetired Politicians\\nAng Mong Seng PAP – Former MP for Bukit Gombak SMC\\nIntan Azura Mokhtar PAP – Former MP for Ang Mo Kio GRC, Assistant Professor at National Institute of Education\\nLee Bee Wah PAP – Former MP for Nee Soon GRC\\nInderjit Singh PAP – Former MP for Ang Mo Kio GRC\\nTeo Ser Luck PAP – Former MP for Pasir Ris-Punggol GRC, Mayor and Minister of State\\nYu-Foo Yee Shoon PAP – Former MP for Yuhua SMC and Minister of State\\nR SinnakaruppanPAP – Former MP and first Students\\' Union President\\nLow Thia KhiangWP – Former MP for Hougang SMC and Aljunied GRC, former Secretary-General of the Workers\\' Party of Singapore\\nYee Jenn JongWP – Former Non-Constituency Member of Parliament\\nCheo Chai Chen SDP – former MP of Nee Soon Central SMC\\nSebastian Teo Kway Huang NSP– President of the National Solidarity Party\\n\\nBusiness and technology\\nTan Chin Hwee – CEO of Trafigura\\nChade-Meng Tan – Jolly Good Fellow, Google Inc\\nChinmay Malaviya – CEO and co-founder of RidePanda. Ex-CEO and co-founder of FoodPanda.\\n\\nAcademia and research\\nShirley Meng – Professor of NanoEngineering at University of California, San Diego and two-time laureate of the Blavatnik Awards for Young Scientists\\nYew-Kwang Ng – Albert Winsemius Professor of Economics at NTU and Emeritus Professor in Department of Economics, Monash University\\n\\nArts and humanities\\nHo Ho Ying – Abstract artist.\\nLiang Wern Fook – Composer, poet and essayist.\\nSarah Choo Jing – Multidisciplinary fine artist.\\nZihan Loo – film director, actor, dancer.\\nQuek See Ling – Poet, writer, Chinese ink painter and editor.\\n\\nMedia and entertainment\\nSports\\nDipna Lim Prasad – National Hurdler\\nC Kunalan – Former National Sportsman, and Educator at the National Institute of Education\\nCalvin Kang Li Loong – National Sprinter\\nLee Wung Yew – Multiple SEA Games gold medallist in shooting.\\n\\nNotable faculty\\nMedicine, science and engineering\\nBertil Andersson – Biochemistry\\nFreddy Boey – Materials Engineering\\nBalazs Gulyas – Neuroscience\\nPhilip Ingham – Zebrafish models for Human diseases\\nDaniela Rhodes – Structural and Molecular Biology\\nKerry Sieh – Geology and Seismology\\nRudolph A. Marcus – Nobel Laureate in Chemistry 1992\\nGeorge James Augustine –  Irene Tan Liang Kheng Chair Professor in Neuroscience\\n\\nHumanities and social sciences\\nGrace Chia – Literature\\nLiang Wern Fook – Chinese Studies, Mandopop singer-songwriter, Xinyao pioneer\\nNadia Magnenat Thalmann – Computer graphics\\n\\nBusiness and technology\\nVijay Sethi – First Economist Intelligence Unit Business Professor of the Year\\n\\nWee Kim Wee School of Communication and Information\\nJoseph Walther – Communication theorist\\nRichard Ling (ret.) – Social consequences of mobile communication\\n\\nS. Rajaratnam School of International Studies\\nFarish A. Noor – Political Scientist and Historian\\n\\nControversies & Incidents\\nRenaming controversy\\nAlthough NTU occupies the grounds of the former Nanyang University (NU), and has a similar name, it is not a direct continuation of that institution. In 1980, the Government of Singapore forcibly merged Nanyang University with the University of Singapore to form the present-day National University of Singapore (NUS).  This was a source of significant discontent amongst NU students and alumni, because NU had been a Chinese-medium university, whereas the newly merged NUS was (and is) an English-medium university.\\nAs NTU subsequently grew into a full university, various efforts were made to have it claim the Nanyang University mantle. In 1996, the alumni rolls of Nanyang University were transferred from NUS to NTU. In 1998, the prominent local calligrapher and poet Pan Shou, who had been the first vice-chancellor of Nanyang University, called for NTU to be renamed Nanyang University, as a way to \"quieten the hearts of many\" NU alumni. In 2003, this idea received further support from NTU president Su Guaning, during an interview with the Chinese-language paper Lianhe Zaobao. One reason offered for the renaming was that, by the mid-2000s, NTU no longer had a narrow focus on technical subjects, but had become a full university including studies in the humanities.\\nThe renaming plans encountered push-back with a straw poll which NU alumni came out strongly against the idea and respondents complained that NTU could not provide \"continuity\" for the \"murdered\" Nanyang University.\\n\\nTenural denial to Cherian George\\nIn 2013, there was a debate over academic freedom in Singapore when Cherian George, an outspoken academic at the Wee Kim Wee School of Communications who had publicly criticised Singapore\\'s system of media control and its ruling People’s Action Party, did not get tenured. Although George had been recommended for tenure by the Wee Kim Wee School, his application was turned down by a university-level committee which included representatives from the Government of Singapore. One of the reviewers for the tenure case, Cardiff University\\'s Karin Wahl-Jorgensen, expressed outrage at NTU\\'s decision, and George\\'s thesis advisor, Stanford University\\'s Theodore Glasser, raised doubts about \"NTU\\'s reputation as a university of international standing\" and \"NTU\\'s commitment to academic freedom\". Despite a petition against the tenure decision by students at the Wee Kim Wee School, George\\'s appeal against the tenure decision was subsequently rejected by the university.\\n\\nReduced University student housing during COVID-19 pandemic\\nIn July 2021, NTU rejected some students\\' applications for on-campus hostel accommodations, citing a need to \"reserve a certain number for Covid-19 isolation and other related purposes\". The university claimed that the rejections were due to a shortage of housing facilities, which at full capacity was still unable to house every applicant, as rooms were oversubscribed. Even at full capacity, hostel accommodation was still short of more than 1,200 rooms for students.The application rejections resulted in concern among NTU\\'s international student population, who were told to vacate their rooms in 2 weeks. This also resulted in many returning second-year students enrolled in AY20/21 not being granted campus accommodation despite the university\\'s much-publicised policy of guaranteeing all incoming students with a minimum of two years of on-campus accommodation.An online petition by students in support of international students and incoming freshmen students who were initially promised accommodations garnered traction, gaining over 5,500 signatories. NTU reversed their decision on 2 July 2021, prioritising on-campus accommodations for international students that resided on campus at the time, students under scholarship programmes with guaranteed housing, and all Year 1 and 2 students under the guaranteed hall stay policy.\\n\\nReferences\\nExternal links\\nOfficial website'"
            ]
          },
          "metadata": {},
          "execution_count": 4
        }
      ]
    },
    {
      "cell_type": "code",
      "source": [
        "# paragraphs\n",
        "paras = text.split('\\n')        # new line character\n",
        "paras[:5]"
      ],
      "metadata": {
        "colab": {
          "base_uri": "https://localhost:8080/"
        },
        "id": "OEyKcQhylgcf",
        "outputId": "bd68fbb5-a7bd-47da-b87d-24b9cc814488"
      },
      "execution_count": 5,
      "outputs": [
        {
          "output_type": "execute_result",
          "data": {
            "text/plain": [
              "['The Nanyang Technological University (NTU) is a national research university based in Singapore. It is the second oldest autonomous university in Singapore and is considered to be one of the top universities in the world. NTU is consistently ranked within the top 20 universities in the world according to most rankings, and is currently ranked 12th globally in the QS World University Rankings as of June 2021. It has also been ranked 1st amongst young universities by the QS World University Rankings since 2015 as of April 2021As a relatively large university, it has 23,951 full-time enrolled students and 3846 full-time teaching staff. ',\n",
              " 'The university is organised into several colleges and schools, including the College of Engineering, College of Science, Nanyang Business School, Lee Kong Chian School of Medicine, College of Humanities, Arts and Social Sciences, Graduate College, National Institute of Education, and S. Rajaratnam School of International Studies. NTU is also home to several Research Centres of Excellence such as the Earth Observatory of Singapore and Singapore Centre on Environmental Life Sciences Engineering. ',\n",
              " \"NTU's main campus covers 200 hectares (490 acres) of land, making it the largest university campus in Singapore. The primary campus grounds are located in the western part of Singapore, along 50 Nanyang Avenue. It also has two other campuses in Singapore's healthcare and start-up districts, Novena and one-north respectively.\",\n",
              " '',\n",
              " 'History']"
            ]
          },
          "metadata": {},
          "execution_count": 5
        }
      ]
    },
    {
      "cell_type": "code",
      "source": [
        "para = max(paras, key=lambda x: len(x))\n",
        "para"
      ],
      "metadata": {
        "colab": {
          "base_uri": "https://localhost:8080/",
          "height": 140
        },
        "id": "z5zNAopol0pP",
        "outputId": "6e6f33d2-0ca3-47ed-c7ea-87a04102e466"
      },
      "execution_count": 14,
      "outputs": [
        {
          "output_type": "execute_result",
          "data": {
            "application/vnd.google.colaboratory.intrinsic+json": {
              "type": "string"
            },
            "text/plain": [
              "\"Nanyang Business School (NBS) is the largest business school in Singapore with over 6,800 undergraduates and postgraduates. It is also the No.1 business school in Singapore and 3rd in the Asia-Pacific region according to the Financial Times. For 13 consecutive years since 2004, the Nanyang MBA has been ranked the best in Singapore according to The Economist. NBS has more than 160 professors from more than 20 countries, proficient in 30 languages holding doctorates from the most renowned universities in the world. This makes NBS one of the largest business schools in the world in terms of faculty strength.NBS is the only business school in Singapore to offer the 3-year direct-honours single degree programme in Business or Accountancy. Its widely popular double degree programme in Accountancy and Business can be completed within 3.5 – 4 years, and the newly introduced integrated Bachelor & Master's programme takes 4 years to complete. Students enrolled into the Business programme are allowed to specialise in their penultimate year of study in one of six areas, namely: Actuarial Science, Banking & Finance, Business Analytics, Human Resource Consulting, Marketing, Risk Management and Insurance. Those who choose to major in Banking & Finance have the added option to choose one of three specialised tracks which include 'Platform-based Learning' and 'International Trading'. NBS also houses the 165-square meter Centre for Applied Financial Education, the largest finance lab in Singapore. The new lab is equipped with 60 dedicated Thomson Reuters Eikon terminals with Datastream, along with 24 Bloomberg terminals that will allow business school students to access all kinds of real-time financial, economic and business news information.\""
            ]
          },
          "metadata": {},
          "execution_count": 14
        }
      ]
    },
    {
      "cell_type": "code",
      "source": [
        "# sentences\n",
        "sents = para.split('. ')\n",
        "sents"
      ],
      "metadata": {
        "colab": {
          "base_uri": "https://localhost:8080/"
        },
        "id": "uEZ_IaC9l3tm",
        "outputId": "3b18077f-ef12-45f4-dbd8-befad7b3d523"
      },
      "execution_count": 15,
      "outputs": [
        {
          "output_type": "execute_result",
          "data": {
            "text/plain": [
              "['Nanyang Business School (NBS) is the largest business school in Singapore with over 6,800 undergraduates and postgraduates',\n",
              " 'It is also the No.1 business school in Singapore and 3rd in the Asia-Pacific region according to the Financial Times',\n",
              " 'For 13 consecutive years since 2004, the Nanyang MBA has been ranked the best in Singapore according to The Economist',\n",
              " 'NBS has more than 160 professors from more than 20 countries, proficient in 30 languages holding doctorates from the most renowned universities in the world',\n",
              " 'This makes NBS one of the largest business schools in the world in terms of faculty strength.NBS is the only business school in Singapore to offer the 3-year direct-honours single degree programme in Business or Accountancy',\n",
              " \"Its widely popular double degree programme in Accountancy and Business can be completed within 3.5 – 4 years, and the newly introduced integrated Bachelor & Master's programme takes 4 years to complete\",\n",
              " 'Students enrolled into the Business programme are allowed to specialise in their penultimate year of study in one of six areas, namely: Actuarial Science, Banking & Finance, Business Analytics, Human Resource Consulting, Marketing, Risk Management and Insurance',\n",
              " \"Those who choose to major in Banking & Finance have the added option to choose one of three specialised tracks which include 'Platform-based Learning' and 'International Trading'\",\n",
              " 'NBS also houses the 165-square meter Centre for Applied Financial Education, the largest finance lab in Singapore',\n",
              " 'The new lab is equipped with 60 dedicated Thomson Reuters Eikon terminals with Datastream, along with 24 Bloomberg terminals that will allow business school students to access all kinds of real-time financial, economic and business news information.']"
            ]
          },
          "metadata": {},
          "execution_count": 15
        }
      ]
    },
    {
      "cell_type": "code",
      "source": [
        "sents[5]"
      ],
      "metadata": {
        "colab": {
          "base_uri": "https://localhost:8080/",
          "height": 53
        },
        "id": "KWToLAojmMPn",
        "outputId": "4c650e63-6ae3-4d05-b4f3-85698d7cb4bc"
      },
      "execution_count": 16,
      "outputs": [
        {
          "output_type": "execute_result",
          "data": {
            "application/vnd.google.colaboratory.intrinsic+json": {
              "type": "string"
            },
            "text/plain": [
              "\"Its widely popular double degree programme in Accountancy and Business can be completed within 3.5 – 4 years, and the newly introduced integrated Bachelor & Master's programme takes 4 years to complete\""
            ]
          },
          "metadata": {},
          "execution_count": 16
        }
      ]
    },
    {
      "cell_type": "code",
      "source": [
        "# words\n",
        "words = sents[5].split(' ')\n",
        "words"
      ],
      "metadata": {
        "colab": {
          "base_uri": "https://localhost:8080/"
        },
        "id": "OTz6vAgAmPVl",
        "outputId": "e99d39f2-7721-4f00-f70e-393c475790e3"
      },
      "execution_count": 17,
      "outputs": [
        {
          "output_type": "execute_result",
          "data": {
            "text/plain": [
              "['Its',\n",
              " 'widely',\n",
              " 'popular',\n",
              " 'double',\n",
              " 'degree',\n",
              " 'programme',\n",
              " 'in',\n",
              " 'Accountancy',\n",
              " 'and',\n",
              " 'Business',\n",
              " 'can',\n",
              " 'be',\n",
              " 'completed',\n",
              " 'within',\n",
              " '3.5',\n",
              " '–',\n",
              " '4',\n",
              " 'years,',\n",
              " 'and',\n",
              " 'the',\n",
              " 'newly',\n",
              " 'introduced',\n",
              " 'integrated',\n",
              " 'Bachelor',\n",
              " '&',\n",
              " \"Master's\",\n",
              " 'programme',\n",
              " 'takes',\n",
              " '4',\n",
              " 'years',\n",
              " 'to',\n",
              " 'complete']"
            ]
          },
          "metadata": {},
          "execution_count": 17
        }
      ]
    },
    {
      "cell_type": "markdown",
      "source": [
        "## Simple text analysis"
      ],
      "metadata": {
        "id": "DR9x3JMNn2Kb"
      }
    },
    {
      "cell_type": "markdown",
      "source": [
        "Word frequency"
      ],
      "metadata": {
        "id": "f4_rLpeMoAl_"
      }
    },
    {
      "cell_type": "code",
      "source": [
        "words = text.split()\n",
        "print(len(words))\n",
        "words[:5]"
      ],
      "metadata": {
        "colab": {
          "base_uri": "https://localhost:8080/"
        },
        "id": "AThABK-aJgXP",
        "outputId": "5d845d75-292f-48ea-c8d0-38858b8d81d4"
      },
      "execution_count": 18,
      "outputs": [
        {
          "output_type": "stream",
          "name": "stdout",
          "text": [
            "4696\n"
          ]
        },
        {
          "output_type": "execute_result",
          "data": {
            "text/plain": [
              "['The', 'Nanyang', 'Technological', 'University', '(NTU)']"
            ]
          },
          "metadata": {},
          "execution_count": 18
        }
      ]
    },
    {
      "cell_type": "code",
      "source": [
        "counter = {}\n",
        "for word in words:\n",
        "    counter[word] = counter.get(word, 0) + 1\n",
        "\n",
        "# stopwords\n",
        "sorted_counter = sorted(counter.items(), key=lambda x: x[1], reverse=True)\n",
        "sorted_counter[:5]"
      ],
      "metadata": {
        "colab": {
          "base_uri": "https://localhost:8080/"
        },
        "id": "Knv9cdG2JtRd",
        "outputId": "ff98bd8d-a37a-4675-fabf-1bec5c22ced3"
      },
      "execution_count": 22,
      "outputs": [
        {
          "output_type": "execute_result",
          "data": {
            "text/plain": [
              "[('the', 224), ('of', 197), ('and', 174), ('in', 142), ('to', 68)]"
            ]
          },
          "metadata": {},
          "execution_count": 22
        }
      ]
    },
    {
      "cell_type": "code",
      "source": [
        "# bigrams\n",
        "i = 40\n",
        "words[i:i+2]"
      ],
      "metadata": {
        "id": "fc6pufU-KHHd",
        "colab": {
          "base_uri": "https://localhost:8080/"
        },
        "outputId": "37e5517d-36b6-4166-ba31-5c43ba852cac"
      },
      "execution_count": 24,
      "outputs": [
        {
          "output_type": "execute_result",
          "data": {
            "text/plain": [
              "['the', 'top']"
            ]
          },
          "metadata": {},
          "execution_count": 24
        }
      ]
    },
    {
      "cell_type": "code",
      "source": [
        "bigram_counter = {}\n",
        "\n",
        "for i in range(len(words)-1):\n",
        "    bigram = tuple(words[i:i+2])\n",
        "    bigram_counter[bigram] = bigram_counter.get(bigram, 0) + 1\n",
        "\n",
        "\n",
        "sorted_counter = sorted(bigram_counter.items(), key=lambda x: x[1], reverse=True)\n",
        "sorted_counter[:5]"
      ],
      "metadata": {
        "colab": {
          "base_uri": "https://localhost:8080/"
        },
        "id": "Xs57ideeodws",
        "outputId": "ee91dd3e-262f-4b94-c2d5-d9ae27d7b281"
      },
      "execution_count": 25,
      "outputs": [
        {
          "output_type": "execute_result",
          "data": {
            "text/plain": [
              "[(('in', 'the'), 34),\n",
              " (('School', 'of'), 31),\n",
              " (('of', 'the'), 26),\n",
              " (('MP', 'for'), 21),\n",
              " (('–', 'MP'), 14)]"
            ]
          },
          "metadata": {},
          "execution_count": 25
        }
      ]
    },
    {
      "cell_type": "code",
      "source": [
        "trigram_counter = {}\n",
        "\n",
        "for i in range(len(words)-2):\n",
        "    trigram = tuple(words[i:i+3])\n",
        "    trigram_counter[trigram] = trigram_counter.get(trigram, 0) + 1\n",
        "\n",
        "sorted_counter = sorted(trigram_counter.items(), key=lambda x: x[1], reverse=True)\n",
        "sorted_counter[:5]"
      ],
      "metadata": {
        "colab": {
          "base_uri": "https://localhost:8080/"
        },
        "id": "2priun1Nou1r",
        "outputId": "2b0ecfed-36f9-4063-f3b6-e914d1db5a70"
      },
      "execution_count": 26,
      "outputs": [
        {
          "output_type": "execute_result",
          "data": {
            "text/plain": [
              "[(('–', 'MP', 'for'), 14),\n",
              " (('National', 'Institute', 'of'), 10),\n",
              " (('World', 'University', 'Rankings'), 9),\n",
              " (('in', 'the', 'world'), 8),\n",
              " (('Institute', 'of', 'Education'), 8)]"
            ]
          },
          "metadata": {},
          "execution_count": 26
        }
      ]
    },
    {
      "cell_type": "code",
      "source": [
        "# given a word, what is the most probable next word\n",
        "filtered_bigrams = [(bigram, freq) for bigram, freq in bigram_counter.items() if bigram[0] == 'the']\n",
        "filtered_bigrams[:5]"
      ],
      "metadata": {
        "colab": {
          "base_uri": "https://localhost:8080/"
        },
        "id": "0UAGG9MBq0K-",
        "outputId": "11ac8a60-d5f6-41af-95cb-913c378f261d"
      },
      "execution_count": 31,
      "outputs": [
        {
          "output_type": "execute_result",
          "data": {
            "text/plain": [
              "[(('the', 'second'), 1),\n",
              " (('the', 'top'), 4),\n",
              " (('the', 'world.'), 2),\n",
              " (('the', 'world'), 8),\n",
              " (('the', 'QS'), 5)]"
            ]
          },
          "metadata": {},
          "execution_count": 31
        }
      ]
    },
    {
      "cell_type": "code",
      "source": [
        "sorted(filtered_bigrams, key=lambda x: x[1], reverse=True)[:5]"
      ],
      "metadata": {
        "colab": {
          "base_uri": "https://localhost:8080/"
        },
        "id": "y2nsNskTrXCT",
        "outputId": "4121038a-a2aa-415e-e548-85d3400e6db3"
      },
      "execution_count": 32,
      "outputs": [
        {
          "output_type": "execute_result",
          "data": {
            "text/plain": [
              "[(('the', 'National'), 11),\n",
              " (('the', 'world'), 8),\n",
              " (('the', 'School'), 6),\n",
              " (('the', 'Nanyang'), 6),\n",
              " (('the', 'QS'), 5)]"
            ]
          },
          "metadata": {},
          "execution_count": 32
        }
      ]
    },
    {
      "cell_type": "code",
      "source": [
        "def get_next_word(word, bigram_counter):\n",
        "    filtered_bigrams = [(bigram, freq) for bigram, freq in bigram_counter.items() if bigram[0] == word]\n",
        "    best_bigram = max(filtered_bigrams, key=lambda x: x[1])         # most_probable_word, its_frequency\n",
        "    return best_bigram[0][1]                                      # (current_word, next_word)\n",
        "\n",
        "get_next_word('Singapore', bigram_counter)"
      ],
      "metadata": {
        "colab": {
          "base_uri": "https://localhost:8080/",
          "height": 35
        },
        "id": "moabQS8rxlsi",
        "outputId": "afa01511-08ae-489c-ef6e-e690ee72540c"
      },
      "execution_count": 36,
      "outputs": [
        {
          "output_type": "execute_result",
          "data": {
            "application/vnd.google.colaboratory.intrinsic+json": {
              "type": "string"
            },
            "text/plain": [
              "'and'"
            ]
          },
          "metadata": {},
          "execution_count": 36
        }
      ]
    },
    {
      "cell_type": "code",
      "source": [
        "word = 'student'\n",
        "print(word, end=' ')\n",
        "\n",
        "for _ in range(20):\n",
        "    word = get_next_word(word, bigram_counter)\n",
        "    print(word, end=' ')"
      ],
      "metadata": {
        "colab": {
          "base_uri": "https://localhost:8080/"
        },
        "id": "mulNpLYEx78S",
        "outputId": "ad5fcc4d-2730-4747-ca34-cd6ce2a5ca82"
      },
      "execution_count": 39,
      "outputs": [
        {
          "output_type": "stream",
          "name": "stdout",
          "text": [
            "student population of the National Institute of the National Institute of the National Institute of the National Institute of the National "
          ]
        }
      ]
    },
    {
      "cell_type": "code",
      "source": [
        "import random\n",
        "\n",
        "# randomly sample for the next word\n",
        "def get_next_word_better(word, bigram_counter):\n",
        "    filtered_bigrams = [(bigram, freq) for bigram, freq in bigram_counter.items() if bigram[0] == word]\n",
        "    candidates = [bigram[1] for bigram, freq in filtered_bigrams]\n",
        "    weights = [freq for bigram, freq in filtered_bigrams]\n",
        "    return random.choices(candidates, weights=weights)[0]       # weighted sampling\n",
        "\n",
        "get_next_word_better('Singapore', bigram_counter)"
      ],
      "metadata": {
        "colab": {
          "base_uri": "https://localhost:8080/",
          "height": 35
        },
        "id": "FAr5huuZyU42",
        "outputId": "8ee90aa7-9f10-4fa3-fa07-de7072d12e12"
      },
      "execution_count": 45,
      "outputs": [
        {
          "output_type": "execute_result",
          "data": {
            "application/vnd.google.colaboratory.intrinsic+json": {
              "type": "string"
            },
            "text/plain": [
              "'Current'"
            ]
          },
          "metadata": {},
          "execution_count": 45
        }
      ]
    },
    {
      "cell_type": "code",
      "source": [
        "word = 'Singapore'\n",
        "print(word, end=' ')\n",
        "\n",
        "# probabilistic model\n",
        "# only consider 1 previous word\n",
        "for _ in range(30):\n",
        "    word = get_next_word_better(word, bigram_counter)\n",
        "    print(word, end=' ')"
      ],
      "metadata": {
        "colab": {
          "base_uri": "https://localhost:8080/"
        },
        "id": "xLW6DmMszZus",
        "outputId": "76b12868-797d-4f7a-bd5b-76c3748f4aee"
      },
      "execution_count": 50,
      "outputs": [
        {
          "output_type": "stream",
          "name": "stdout",
          "text": [
            "Singapore International Major Agus Harimurti Yudhoyono – MP for two separate colleges: the world in China. Students made to 52nd position worldwide in partnership with a capacity of Science, Technology and/or "
          ]
        }
      ]
    },
    {
      "cell_type": "markdown",
      "source": [
        "## Simple text manipulation"
      ],
      "metadata": {
        "id": "USfyfT6dWP9B"
      }
    },
    {
      "cell_type": "code",
      "source": [
        "# Python string functions: indexing, split, replace, remove, combine (+, f-string, and .join()), lowercase, startswith\n",
        "# Regex: match one or more, remove many characters in one step, punctuations, emojis\n",
        "\n",
        "x = 'where m is number of words from the candidate that are found in the reference, and w is the total number of words in the candidate. This is a perfect score, despite the fact that the candidate translation above retains little of the content of either of the references.'\n",
        "x"
      ],
      "metadata": {
        "colab": {
          "base_uri": "https://localhost:8080/",
          "height": 53
        },
        "id": "RHlVV0swi2TL",
        "outputId": "74c11807-2cb4-4e51-f8fd-1a1fc9e2afa2"
      },
      "execution_count": 3,
      "outputs": [
        {
          "output_type": "execute_result",
          "data": {
            "application/vnd.google.colaboratory.intrinsic+json": {
              "type": "string"
            },
            "text/plain": [
              "'where m is number of words from the candidate that are found in the reference, and w is the total number of words in the candidate. This is a perfect score, despite the fact that the candidate translation above retains little of the content of either of the references.'"
            ]
          },
          "metadata": {},
          "execution_count": 3
        }
      ]
    },
    {
      "cell_type": "code",
      "source": [
        "x[2]"
      ],
      "metadata": {
        "colab": {
          "base_uri": "https://localhost:8080/",
          "height": 35
        },
        "id": "oZzhzlDXjA4V",
        "outputId": "6a48ed2a-570b-4450-d28b-c622138efb23"
      },
      "execution_count": 5,
      "outputs": [
        {
          "output_type": "execute_result",
          "data": {
            "application/vnd.google.colaboratory.intrinsic+json": {
              "type": "string"
            },
            "text/plain": [
              "'e'"
            ]
          },
          "metadata": {},
          "execution_count": 5
        }
      ]
    },
    {
      "cell_type": "code",
      "source": [
        "x.split()       # split on whitespace, ' ', '\\n', '\\t', other unicode whitespace\n",
        "x.split('i')"
      ],
      "metadata": {
        "colab": {
          "base_uri": "https://localhost:8080/"
        },
        "id": "BsybH9j_jINX",
        "outputId": "2b7b805c-4220-47c2-9d4b-014c90607b8b"
      },
      "execution_count": 8,
      "outputs": [
        {
          "output_type": "execute_result",
          "data": {
            "text/plain": [
              "['where m ',\n",
              " 's number of words from the cand',\n",
              " 'date that are found ',\n",
              " 'n the reference, and w ',\n",
              " 's the total number of words ',\n",
              " 'n the cand',\n",
              " 'date. Th',\n",
              " 's ',\n",
              " 's a perfect score, desp',\n",
              " 'te the fact that the cand',\n",
              " 'date translat',\n",
              " 'on above reta',\n",
              " 'ns l',\n",
              " 'ttle of the content of e',\n",
              " 'ther of the references.']"
            ]
          },
          "metadata": {},
          "execution_count": 8
        }
      ]
    },
    {
      "cell_type": "code",
      "source": [
        "# string in python is immutable -> cannot modify string in-place\n",
        "x[0] = 'a'"
      ],
      "metadata": {
        "colab": {
          "base_uri": "https://localhost:8080/",
          "height": 166
        },
        "id": "yViA5mFIjWii",
        "outputId": "0a813ec9-1d71-45f2-aac7-98ced61c24d0"
      },
      "execution_count": 9,
      "outputs": [
        {
          "output_type": "error",
          "ename": "TypeError",
          "evalue": "ignored",
          "traceback": [
            "\u001b[0;31m---------------------------------------------------------------------------\u001b[0m",
            "\u001b[0;31mTypeError\u001b[0m                                 Traceback (most recent call last)",
            "\u001b[0;32m<ipython-input-9-cc38a13122db>\u001b[0m in \u001b[0;36m<module>\u001b[0;34m()\u001b[0m\n\u001b[0;32m----> 1\u001b[0;31m \u001b[0mx\u001b[0m\u001b[0;34m[\u001b[0m\u001b[0;36m0\u001b[0m\u001b[0;34m]\u001b[0m \u001b[0;34m=\u001b[0m \u001b[0;34m'a'\u001b[0m\u001b[0;34m\u001b[0m\u001b[0;34m\u001b[0m\u001b[0m\n\u001b[0m",
            "\u001b[0;31mTypeError\u001b[0m: 'str' object does not support item assignment"
          ]
        }
      ]
    },
    {
      "cell_type": "code",
      "source": [
        "x.replace('is', 'was')      # replace\n",
        "x.replace('is', '')         # remove"
      ],
      "metadata": {
        "colab": {
          "base_uri": "https://localhost:8080/",
          "height": 53
        },
        "id": "u1BwRHgKjfhC",
        "outputId": "bb6f23a5-30d9-4f33-f5c4-472fa39bbdb3"
      },
      "execution_count": 13,
      "outputs": [
        {
          "output_type": "execute_result",
          "data": {
            "application/vnd.google.colaboratory.intrinsic+json": {
              "type": "string"
            },
            "text/plain": [
              "'where m  number of words from the candidate that are found in the reference, and w  the total number of words in the candidate. Th  a perfect score, despite the fact that the candidate translation above retains little of the content of either of the references.'"
            ]
          },
          "metadata": {},
          "execution_count": 13
        }
      ]
    },
    {
      "cell_type": "code",
      "source": [
        "'hello' + ' ' + 'i am thien'        # string concatenation by +"
      ],
      "metadata": {
        "colab": {
          "base_uri": "https://localhost:8080/",
          "height": 35
        },
        "id": "q_yIFLzyjoWq",
        "outputId": "757cc0f0-b5e2-4b0f-f995-bc6fd1145c36"
      },
      "execution_count": 15,
      "outputs": [
        {
          "output_type": "execute_result",
          "data": {
            "application/vnd.google.colaboratory.intrinsic+json": {
              "type": "string"
            },
            "text/plain": [
              "'hello i am thien'"
            ]
          },
          "metadata": {},
          "execution_count": 15
        }
      ]
    },
    {
      "cell_type": "code",
      "source": [
        "# f-string\n",
        "age = 30\n",
        "name = 'hello'\n",
        "f'I am {2 + 5} years old. My name is {name}'"
      ],
      "metadata": {
        "colab": {
          "base_uri": "https://localhost:8080/",
          "height": 35
        },
        "id": "rpg1XJEhj9ZR",
        "outputId": "be45729d-38dd-4253-b77a-7ed877b2c3c0"
      },
      "execution_count": 22,
      "outputs": [
        {
          "output_type": "execute_result",
          "data": {
            "application/vnd.google.colaboratory.intrinsic+json": {
              "type": "string"
            },
            "text/plain": [
              "'I am 7 years old. My name is hello'"
            ]
          },
          "metadata": {},
          "execution_count": 22
        }
      ]
    },
    {
      "cell_type": "code",
      "source": [
        "words = ['My', 'name', 'is', 'Thien']       # .join() -> opposite of .split()\n",
        "' hello '.join(words)"
      ],
      "metadata": {
        "colab": {
          "base_uri": "https://localhost:8080/",
          "height": 35
        },
        "id": "HvMbtu2kkgKT",
        "outputId": "e9cff3a7-5c31-4f66-bab7-14c4905de4ad"
      },
      "execution_count": 25,
      "outputs": [
        {
          "output_type": "execute_result",
          "data": {
            "application/vnd.google.colaboratory.intrinsic+json": {
              "type": "string"
            },
            "text/plain": [
              "'My hello name hello is hello Thien'"
            ]
          },
          "metadata": {},
          "execution_count": 25
        }
      ]
    },
    {
      "cell_type": "code",
      "source": [
        "'Thien'.lower()\n",
        "'hello'.upper()\n",
        "'hello'.isalpha()\n",
        "'132d4'.isdigit()"
      ],
      "metadata": {
        "colab": {
          "base_uri": "https://localhost:8080/",
          "height": 35
        },
        "id": "zECQPtmXkxPB",
        "outputId": "cb5a9c81-c9c4-4d42-b842-1868071db3a8"
      },
      "execution_count": 26,
      "outputs": [
        {
          "output_type": "execute_result",
          "data": {
            "application/vnd.google.colaboratory.intrinsic+json": {
              "type": "string"
            },
            "text/plain": [
              "'thien'"
            ]
          },
          "metadata": {},
          "execution_count": 26
        }
      ]
    },
    {
      "cell_type": "code",
      "source": [
        "[x for x in words if x.startswith('i')]     # filtering"
      ],
      "metadata": {
        "colab": {
          "base_uri": "https://localhost:8080/"
        },
        "id": "ay4MeYWfk_DL",
        "outputId": "1f972b6e-9976-4df6-9997-33548b3b362f"
      },
      "execution_count": 34,
      "outputs": [
        {
          "output_type": "execute_result",
          "data": {
            "text/plain": [
              "['is']"
            ]
          },
          "metadata": {},
          "execution_count": 34
        }
      ]
    },
    {
      "cell_type": "code",
      "source": [
        "text = '🙂😊😀😁\tSmiley or happy face.'\n",
        "text"
      ],
      "metadata": {
        "colab": {
          "base_uri": "https://localhost:8080/",
          "height": 35
        },
        "id": "0aJo3-kJlZ42",
        "outputId": "c6c3e45c-15e5-448b-d900-0324aff1e090"
      },
      "execution_count": 39,
      "outputs": [
        {
          "output_type": "execute_result",
          "data": {
            "application/vnd.google.colaboratory.intrinsic+json": {
              "type": "string"
            },
            "text/plain": [
              "'🙂😊😀😁\\tSmiley or happy face.'"
            ]
          },
          "metadata": {},
          "execution_count": 39
        }
      ]
    },
    {
      "cell_type": "code",
      "source": [
        "emojis = '🙂😊'\n",
        "for emoji in emojis:\n",
        "    text = text.replace(emoji, '')\n",
        "text"
      ],
      "metadata": {
        "colab": {
          "base_uri": "https://localhost:8080/",
          "height": 35
        },
        "id": "WqQLWT0dlq7h",
        "outputId": "a6630b2e-e07c-436d-f238-39acbe168f2b"
      },
      "execution_count": 42,
      "outputs": [
        {
          "output_type": "execute_result",
          "data": {
            "application/vnd.google.colaboratory.intrinsic+json": {
              "type": "string"
            },
            "text/plain": [
              "'😀😁\\tSmiley or happy face.'"
            ]
          },
          "metadata": {},
          "execution_count": 42
        }
      ]
    },
    {
      "cell_type": "code",
      "source": [
        "import re\n",
        "\n",
        "# regex pattern\n",
        "re.sub('[🙂😊😀😁]', '', '🙂😊😀😁\tSmiley or happy face.')"
      ],
      "metadata": {
        "colab": {
          "base_uri": "https://localhost:8080/",
          "height": 35
        },
        "id": "bCADh6azmAQV",
        "outputId": "f93a59d6-1601-4916-f5ab-f8d1258bea7a"
      },
      "execution_count": 43,
      "outputs": [
        {
          "output_type": "execute_result",
          "data": {
            "application/vnd.google.colaboratory.intrinsic+json": {
              "type": "string"
            },
            "text/plain": [
              "'\\tSmiley or happy face.'"
            ]
          },
          "metadata": {},
          "execution_count": 43
        }
      ]
    },
    {
      "cell_type": "code",
      "source": [
        "'🙂'.encode()       # underlying bytes of unicode characters"
      ],
      "metadata": {
        "colab": {
          "base_uri": "https://localhost:8080/"
        },
        "id": "p0nnszmsnS59",
        "outputId": "6f703a65-c0f7-4d85-b46b-07fceeafea78"
      },
      "execution_count": 45,
      "outputs": [
        {
          "output_type": "execute_result",
          "data": {
            "text/plain": [
              "b'\\xf0\\x9f\\x99\\x82'"
            ]
          },
          "metadata": {},
          "execution_count": 45
        }
      ]
    },
    {
      "cell_type": "markdown",
      "source": [
        "## Word vectors and Text embeddings"
      ],
      "metadata": {
        "id": "05gSflmGK6PQ"
      }
    },
    {
      "cell_type": "code",
      "source": [
        "import gensim\n",
        "import gensim.downloader\n",
        "\n",
        "glove_vectors = gensim.downloader.load('glove-twitter-100')"
      ],
      "metadata": {
        "id": "G0m_xXA4K4XJ"
      },
      "execution_count": 46,
      "outputs": []
    },
    {
      "cell_type": "code",
      "source": [
        "glove_vectors['singapore']"
      ],
      "metadata": {
        "colab": {
          "base_uri": "https://localhost:8080/"
        },
        "id": "S0Kw91Ss-0Tx",
        "outputId": "636e2fc0-bdbf-4e07-e0ed-2029f9cfcfb5"
      },
      "execution_count": 49,
      "outputs": [
        {
          "output_type": "execute_result",
          "data": {
            "text/plain": [
              "array([-0.67618 ,  0.30738 ,  0.58323 , -0.21289 , -0.26957 , -0.18363 ,\n",
              "        0.085486,  0.74036 ,  0.3033  , -0.45373 , -0.24712 , -0.60139 ,\n",
              "       -2.5289  ,  0.35062 ,  0.64325 , -0.29091 ,  0.40503 , -0.75501 ,\n",
              "        0.020908, -0.64575 , -0.13862 , -0.58286 ,  0.22812 ,  0.1388  ,\n",
              "        0.15982 ,  0.41717 ,  0.539   , -0.044539,  0.26167 , -0.020912,\n",
              "       -0.11342 , -0.01482 ,  0.17243 , -0.40993 ,  0.82352 , -0.64692 ,\n",
              "        0.76108 ,  0.70834 ,  0.96669 ,  0.22722 , -0.50851 ,  0.39151 ,\n",
              "       -0.22688 , -0.051352,  0.48795 ,  0.36317 , -0.33053 , -0.93009 ,\n",
              "        0.09673 ,  0.39074 , -0.209   , -0.55888 , -0.35559 ,  0.74583 ,\n",
              "        0.19044 , -0.13651 , -0.012293, -0.43396 , -0.11821 , -0.17978 ,\n",
              "        0.56656 ,  0.29588 ,  0.019455, -0.034763, -0.059818, -0.099695,\n",
              "       -0.85455 , -0.58843 , -0.098434, -0.24985 , -0.58821 , -0.083672,\n",
              "        0.60135 ,  0.029807, -0.060247, -0.29595 , -0.63388 ,  1.0311  ,\n",
              "        1.0919  , -0.42162 ,  0.86029 , -1.2205  ,  0.6081  ,  0.82209 ,\n",
              "        0.36286 , -0.15524 , -0.34385 , -0.33182 ,  0.49394 , -0.41482 ,\n",
              "       -0.015851,  0.15853 ,  0.51943 , -0.27946 , -0.19062 ,  0.26175 ,\n",
              "        0.16664 , -0.8022  , -0.76745 , -0.20156 ], dtype=float32)"
            ]
          },
          "metadata": {},
          "execution_count": 49
        }
      ]
    },
    {
      "cell_type": "code",
      "source": [
        "queen_vector = glove_vectors['king'] + (glove_vectors['female'] - glove_vectors['male'])  # translation\n",
        "glove_vectors.most_similar([queen_vector])          # rotation? non-linear transformation?"
      ],
      "metadata": {
        "colab": {
          "base_uri": "https://localhost:8080/"
        },
        "id": "eZr1G9Ks_3ys",
        "outputId": "1eb90f44-80d5-46e4-8b10-8fbae272f3bb"
      },
      "execution_count": 51,
      "outputs": [
        {
          "output_type": "execute_result",
          "data": {
            "text/plain": [
              "[('king', 0.8080088496208191),\n",
              " ('queen', 0.6309921741485596),\n",
              " ('nigga', 0.6211851835250854),\n",
              " ('prince', 0.6151224374771118),\n",
              " ('aka', 0.5942326784133911),\n",
              " ('everybody', 0.5929878950119019),\n",
              " ('only', 0.5893877744674683),\n",
              " ('nobody', 0.5842261910438538),\n",
              " ('hell', 0.5803213715553284),\n",
              " ('meets', 0.5796034336090088)]"
            ]
          },
          "metadata": {},
          "execution_count": 51
        }
      ]
    },
    {
      "cell_type": "code",
      "source": [
        "def get_text_vector(text):\n",
        "    words = text.split()\n",
        "    text_vec = 0 \n",
        "    for word in words:\n",
        "        word = word.lower()\n",
        "        # out-of-vocabulary\n",
        "        if word in glove_vectors:\n",
        "            text_vec += glove_vectors[word]\n",
        "    return text_vec\n",
        "\n",
        "get_text_vector('In September 1904, Tan Jiak Kim led a group of representatives of the Chinese and other non-European communities to petition the Governor of the Straits Settlements, Sir John Anderson, to establish a medical school in Singapore.')"
      ],
      "metadata": {
        "colab": {
          "base_uri": "https://localhost:8080/"
        },
        "id": "LcHNc53XAQpU",
        "outputId": "5062d96a-61e4-4efd-8008-913bf1fa7484"
      },
      "execution_count": 54,
      "outputs": [
        {
          "output_type": "execute_result",
          "data": {
            "text/plain": [
              "array([ 8.5056610e+00,  5.1652241e+00,  6.0321889e+00,  6.8343930e+00,\n",
              "        1.0814612e+00,  2.9052176e+00, -3.3207207e+00,  4.3085805e-01,\n",
              "       -2.3637111e+00, -1.2803166e+01, -4.2761993e-01, -5.1323633e+00,\n",
              "       -1.1832729e+02, -1.9558582e+00,  4.2524271e+00, -6.5670218e+00,\n",
              "       -2.5395751e+00, -1.6593406e+00, -5.8327050e+00, -1.6971723e+00,\n",
              "       -5.1946759e+00, -1.6607078e+00, -3.4999907e+00,  2.4569116e+00,\n",
              "       -1.2470460e+00, -6.9767761e+00,  7.1895304e+00, -1.5280874e+00,\n",
              "        2.7972047e+00, -9.3086702e-01,  7.2904339e+00,  3.3210497e+00,\n",
              "       -1.0628819e+01,  3.4479678e+00,  9.1855412e+00,  1.6913588e-01,\n",
              "        3.1191850e+00,  9.8868351e+00,  1.4251540e+00, -9.5960884e+00,\n",
              "       -1.5068138e+01, -1.5880911e+00, -1.9031818e+00,  1.7482615e-01,\n",
              "        6.7419314e+00, -6.8829811e-01,  3.4686887e-01,  6.3284600e-01,\n",
              "        3.6792508e-01, -5.2946515e+00,  4.1851015e+00, -5.8150802e+00,\n",
              "        2.5906024e+00,  9.2158375e+00, -1.2312436e+01, -2.2242088e+00,\n",
              "       -2.2129879e+00, -5.1704388e+00, -1.8931971e+00,  1.9798288e+00,\n",
              "       -2.4447477e+00,  4.5473924e+00, -6.8672023e+00, -7.5384526e+00,\n",
              "        7.0525923e+00,  4.0948725e+00, -3.7097709e+00, -6.1823568e+00,\n",
              "       -1.2132096e+00, -6.7737021e+00, -1.7771295e+00, -5.4958191e+00,\n",
              "        1.1410410e+00,  7.3121071e+00,  6.8100071e+00,  1.0509497e-01,\n",
              "       -3.1765599e+00, -1.3740387e+00,  3.9711816e+00, -6.1429906e+00,\n",
              "        4.0020515e+01,  1.5808356e+00,  8.7343493e+00,  7.7482743e+00,\n",
              "       -3.1991901e+00, -1.9718413e+00, -1.7117301e+00, -5.5594170e-01,\n",
              "        1.8604153e+00, -1.2036811e+00,  4.2719970e+00, -1.3364881e+00,\n",
              "        5.3933196e+00, -2.2533827e+00, -2.9614747e+00, -3.0413988e-01,\n",
              "        6.4679213e+00, -4.2673001e+00,  5.7520294e+00,  3.3300531e+00],\n",
              "      dtype=float32)"
            ]
          },
          "metadata": {},
          "execution_count": 54
        }
      ]
    }
  ]
}